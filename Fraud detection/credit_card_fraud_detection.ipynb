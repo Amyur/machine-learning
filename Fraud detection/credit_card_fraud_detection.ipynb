{
 "cells": [
  {
   "cell_type": "markdown",
   "metadata": {
    "id": "CLj2vtCdt4AZ"
   },
   "source": [
    "# Classification"
   ]
  },
  {
   "cell_type": "markdown",
   "metadata": {
    "id": "o-w3LULjkgX0"
   },
   "source": [
    "It's a classification task where it is necessary to detect if there is fraud o not in credit cards"
   ]
  },
  {
   "cell_type": "code",
   "execution_count": 1,
   "metadata": {
    "executionInfo": {
     "elapsed": 2238,
     "status": "ok",
     "timestamp": 1618093289123,
     "user": {
      "displayName": "AMYLKAR URREA MONTOYA",
      "photoUrl": "https://lh3.googleusercontent.com/a-/AOh14GgIJADRi0610WZ5MXeu3NO1-K951x4EDzVBxUAz0aNRqX-4eDB6KnTGq1JBYqTZF0MH1zHEyh6FFWTZ3hbuKfJSj6xi-NyTippwXkGu748oqA3I5SCRbdK-iFm0uUrMqCzs-S6L9Qlu-esre5djwXJPz-MjT7J3Tb_kmHA980mqrtbD6Pyy8JoRI8625Ms2NhxlDczIsGVd_8HAN1zndFECSTp_hLxTtbc4xCGDO6FcMqChgDn2rbO_UfHfI_cGzrzd9vfRuW9nhtCReEWcHjzzhqEpC6HgK7FMlrl2PdoZtL0u3l0SP8nY5r5ZGzVkFq4PQIDeeutRZckMRjWUPLOddbAmEsXbhH6y0Y07sXFQwTGABDCyiukXWQgxo1Zef738KbYIxLKg8Y8qwHffHyqpP5GAYs_cjAfCTKOpD4UqThx0LMpC6FH12P3kLSO4t9iEwBKwhn3WpIkjyXXRVLHXP5fPHzxBHWgVZD-U9DBxJvugW-2rEu6sJkN1ReXtABeV8Ajn6NvBhZnZ83UXKc76aOxORXEHxAAcgwB7kEEbRfuC1RP3MMyB9zQ6jXKwNExtFSbogSzse_uDLA1eT1mBvLcN50x1oB_9JZgdqQ2kCOSE2vJ95Hh1By-uHlza0klMV4RYhfTly0RYgkp3MM0Ai1EftgVPL1H5Khmgtv7ICTAitkqoxdMyEzJuJ6CWswn97ZePGMsiDMWz3vxhwz-QpQDJOdpmJHdAk318cx4H80b0MouaCD7HvewAUQw3NOdxsyI=s64",
      "userId": "11963971207796700413"
     },
     "user_tz": 300
    },
    "id": "itLOR6CMt4B8"
   },
   "outputs": [],
   "source": [
    "from sklearn.linear_model import LogisticRegression\n",
    "from sklearn.ensemble import RandomForestClassifier\n",
    "from sklearn.model_selection import train_test_split\n",
    "from sklearn.feature_selection import SelectKBest\n",
    "from sklearn.preprocessing import StandardScaler\n",
    "from sklearn.feature_selection import mutual_info_classif, f_classif\n",
    "from sklearn.feature_selection import SelectKBest\n",
    "from sklearn.decomposition import PCA\n",
    "from sklearn.model_selection import learning_curve\n",
    "from sklearn.metrics import plot_roc_curve\n",
    "import matplotlib.pyplot as plt\n",
    "import seaborn as sns\n",
    "import numpy as np\n",
    "import pandas as pd\n",
    "import warnings\n",
    "warnings.filterwarnings(\"ignore\")"
   ]
  },
  {
   "cell_type": "code",
   "execution_count": 2,
   "metadata": {
    "executionInfo": {
     "elapsed": 7513,
     "status": "ok",
     "timestamp": 1618093294410,
     "user": {
      "displayName": "AMYLKAR URREA MONTOYA",
      "photoUrl": "https://lh3.googleusercontent.com/a-/AOh14GgIJADRi0610WZ5MXeu3NO1-K951x4EDzVBxUAz0aNRqX-4eDB6KnTGq1JBYqTZF0MH1zHEyh6FFWTZ3hbuKfJSj6xi-NyTippwXkGu748oqA3I5SCRbdK-iFm0uUrMqCzs-S6L9Qlu-esre5djwXJPz-MjT7J3Tb_kmHA980mqrtbD6Pyy8JoRI8625Ms2NhxlDczIsGVd_8HAN1zndFECSTp_hLxTtbc4xCGDO6FcMqChgDn2rbO_UfHfI_cGzrzd9vfRuW9nhtCReEWcHjzzhqEpC6HgK7FMlrl2PdoZtL0u3l0SP8nY5r5ZGzVkFq4PQIDeeutRZckMRjWUPLOddbAmEsXbhH6y0Y07sXFQwTGABDCyiukXWQgxo1Zef738KbYIxLKg8Y8qwHffHyqpP5GAYs_cjAfCTKOpD4UqThx0LMpC6FH12P3kLSO4t9iEwBKwhn3WpIkjyXXRVLHXP5fPHzxBHWgVZD-U9DBxJvugW-2rEu6sJkN1ReXtABeV8Ajn6NvBhZnZ83UXKc76aOxORXEHxAAcgwB7kEEbRfuC1RP3MMyB9zQ6jXKwNExtFSbogSzse_uDLA1eT1mBvLcN50x1oB_9JZgdqQ2kCOSE2vJ95Hh1By-uHlza0klMV4RYhfTly0RYgkp3MM0Ai1EftgVPL1H5Khmgtv7ICTAitkqoxdMyEzJuJ6CWswn97ZePGMsiDMWz3vxhwz-QpQDJOdpmJHdAk318cx4H80b0MouaCD7HvewAUQw3NOdxsyI=s64",
      "userId": "11963971207796700413"
     },
     "user_tz": 300
    },
    "id": "Sr2-yw9et4J6"
   },
   "outputs": [],
   "source": [
    "data = pd.read_csv(\"/content/drive/data/creditcard.csv\")"
   ]
  },
  {
   "cell_type": "code",
   "execution_count": 3,
   "metadata": {
    "colab": {
     "base_uri": "https://localhost:8080/",
     "height": 162
    },
    "executionInfo": {
     "elapsed": 7271,
     "status": "ok",
     "timestamp": 1618093294415,
     "user": {
      "displayName": "AMYLKAR URREA MONTOYA",
      "photoUrl": "https://lh3.googleusercontent.com/a-/AOh14GgIJADRi0610WZ5MXeu3NO1-K951x4EDzVBxUAz0aNRqX-4eDB6KnTGq1JBYqTZF0MH1zHEyh6FFWTZ3hbuKfJSj6xi-NyTippwXkGu748oqA3I5SCRbdK-iFm0uUrMqCzs-S6L9Qlu-esre5djwXJPz-MjT7J3Tb_kmHA980mqrtbD6Pyy8JoRI8625Ms2NhxlDczIsGVd_8HAN1zndFECSTp_hLxTtbc4xCGDO6FcMqChgDn2rbO_UfHfI_cGzrzd9vfRuW9nhtCReEWcHjzzhqEpC6HgK7FMlrl2PdoZtL0u3l0SP8nY5r5ZGzVkFq4PQIDeeutRZckMRjWUPLOddbAmEsXbhH6y0Y07sXFQwTGABDCyiukXWQgxo1Zef738KbYIxLKg8Y8qwHffHyqpP5GAYs_cjAfCTKOpD4UqThx0LMpC6FH12P3kLSO4t9iEwBKwhn3WpIkjyXXRVLHXP5fPHzxBHWgVZD-U9DBxJvugW-2rEu6sJkN1ReXtABeV8Ajn6NvBhZnZ83UXKc76aOxORXEHxAAcgwB7kEEbRfuC1RP3MMyB9zQ6jXKwNExtFSbogSzse_uDLA1eT1mBvLcN50x1oB_9JZgdqQ2kCOSE2vJ95Hh1By-uHlza0klMV4RYhfTly0RYgkp3MM0Ai1EftgVPL1H5Khmgtv7ICTAitkqoxdMyEzJuJ6CWswn97ZePGMsiDMWz3vxhwz-QpQDJOdpmJHdAk318cx4H80b0MouaCD7HvewAUQw3NOdxsyI=s64",
      "userId": "11963971207796700413"
     },
     "user_tz": 300
    },
    "id": "8UTGAvgNt4RB",
    "outputId": "0fcf01ac-9990-4585-920e-82e66f1777d4"
   },
   "outputs": [
    {
     "data": {
      "text/html": [
       "<div>\n",
       "<style scoped>\n",
       "    .dataframe tbody tr th:only-of-type {\n",
       "        vertical-align: middle;\n",
       "    }\n",
       "\n",
       "    .dataframe tbody tr th {\n",
       "        vertical-align: top;\n",
       "    }\n",
       "\n",
       "    .dataframe thead th {\n",
       "        text-align: right;\n",
       "    }\n",
       "</style>\n",
       "<table border=\"1\" class=\"dataframe\">\n",
       "  <thead>\n",
       "    <tr style=\"text-align: right;\">\n",
       "      <th></th>\n",
       "      <th>Time</th>\n",
       "      <th>V1</th>\n",
       "      <th>V2</th>\n",
       "      <th>V3</th>\n",
       "      <th>V4</th>\n",
       "      <th>V5</th>\n",
       "      <th>V6</th>\n",
       "      <th>V7</th>\n",
       "      <th>V8</th>\n",
       "      <th>V9</th>\n",
       "      <th>V10</th>\n",
       "      <th>V11</th>\n",
       "      <th>V12</th>\n",
       "      <th>V13</th>\n",
       "      <th>V14</th>\n",
       "      <th>V15</th>\n",
       "      <th>V16</th>\n",
       "      <th>V17</th>\n",
       "      <th>V18</th>\n",
       "      <th>V19</th>\n",
       "      <th>V20</th>\n",
       "      <th>V21</th>\n",
       "      <th>V22</th>\n",
       "      <th>V23</th>\n",
       "      <th>V24</th>\n",
       "      <th>V25</th>\n",
       "      <th>V26</th>\n",
       "      <th>V27</th>\n",
       "      <th>V28</th>\n",
       "      <th>Amount</th>\n",
       "      <th>Class</th>\n",
       "    </tr>\n",
       "  </thead>\n",
       "  <tbody>\n",
       "    <tr>\n",
       "      <th>0</th>\n",
       "      <td>0.0</td>\n",
       "      <td>-1.359807</td>\n",
       "      <td>-0.072781</td>\n",
       "      <td>2.536347</td>\n",
       "      <td>1.378155</td>\n",
       "      <td>-0.338321</td>\n",
       "      <td>0.462388</td>\n",
       "      <td>0.239599</td>\n",
       "      <td>0.098698</td>\n",
       "      <td>0.363787</td>\n",
       "      <td>0.090794</td>\n",
       "      <td>-0.551600</td>\n",
       "      <td>-0.617801</td>\n",
       "      <td>-0.991390</td>\n",
       "      <td>-0.311169</td>\n",
       "      <td>1.468177</td>\n",
       "      <td>-0.470401</td>\n",
       "      <td>0.207971</td>\n",
       "      <td>0.025791</td>\n",
       "      <td>0.403993</td>\n",
       "      <td>0.251412</td>\n",
       "      <td>-0.018307</td>\n",
       "      <td>0.277838</td>\n",
       "      <td>-0.110474</td>\n",
       "      <td>0.066928</td>\n",
       "      <td>0.128539</td>\n",
       "      <td>-0.189115</td>\n",
       "      <td>0.133558</td>\n",
       "      <td>-0.021053</td>\n",
       "      <td>149.62</td>\n",
       "      <td>0</td>\n",
       "    </tr>\n",
       "    <tr>\n",
       "      <th>1</th>\n",
       "      <td>0.0</td>\n",
       "      <td>1.191857</td>\n",
       "      <td>0.266151</td>\n",
       "      <td>0.166480</td>\n",
       "      <td>0.448154</td>\n",
       "      <td>0.060018</td>\n",
       "      <td>-0.082361</td>\n",
       "      <td>-0.078803</td>\n",
       "      <td>0.085102</td>\n",
       "      <td>-0.255425</td>\n",
       "      <td>-0.166974</td>\n",
       "      <td>1.612727</td>\n",
       "      <td>1.065235</td>\n",
       "      <td>0.489095</td>\n",
       "      <td>-0.143772</td>\n",
       "      <td>0.635558</td>\n",
       "      <td>0.463917</td>\n",
       "      <td>-0.114805</td>\n",
       "      <td>-0.183361</td>\n",
       "      <td>-0.145783</td>\n",
       "      <td>-0.069083</td>\n",
       "      <td>-0.225775</td>\n",
       "      <td>-0.638672</td>\n",
       "      <td>0.101288</td>\n",
       "      <td>-0.339846</td>\n",
       "      <td>0.167170</td>\n",
       "      <td>0.125895</td>\n",
       "      <td>-0.008983</td>\n",
       "      <td>0.014724</td>\n",
       "      <td>2.69</td>\n",
       "      <td>0</td>\n",
       "    </tr>\n",
       "    <tr>\n",
       "      <th>2</th>\n",
       "      <td>1.0</td>\n",
       "      <td>-1.358354</td>\n",
       "      <td>-1.340163</td>\n",
       "      <td>1.773209</td>\n",
       "      <td>0.379780</td>\n",
       "      <td>-0.503198</td>\n",
       "      <td>1.800499</td>\n",
       "      <td>0.791461</td>\n",
       "      <td>0.247676</td>\n",
       "      <td>-1.514654</td>\n",
       "      <td>0.207643</td>\n",
       "      <td>0.624501</td>\n",
       "      <td>0.066084</td>\n",
       "      <td>0.717293</td>\n",
       "      <td>-0.165946</td>\n",
       "      <td>2.345865</td>\n",
       "      <td>-2.890083</td>\n",
       "      <td>1.109969</td>\n",
       "      <td>-0.121359</td>\n",
       "      <td>-2.261857</td>\n",
       "      <td>0.524980</td>\n",
       "      <td>0.247998</td>\n",
       "      <td>0.771679</td>\n",
       "      <td>0.909412</td>\n",
       "      <td>-0.689281</td>\n",
       "      <td>-0.327642</td>\n",
       "      <td>-0.139097</td>\n",
       "      <td>-0.055353</td>\n",
       "      <td>-0.059752</td>\n",
       "      <td>378.66</td>\n",
       "      <td>0</td>\n",
       "    </tr>\n",
       "  </tbody>\n",
       "</table>\n",
       "</div>"
      ],
      "text/plain": [
       "   Time        V1        V2        V3  ...       V27       V28  Amount  Class\n",
       "0   0.0 -1.359807 -0.072781  2.536347  ...  0.133558 -0.021053  149.62      0\n",
       "1   0.0  1.191857  0.266151  0.166480  ... -0.008983  0.014724    2.69      0\n",
       "2   1.0 -1.358354 -1.340163  1.773209  ... -0.055353 -0.059752  378.66      0\n",
       "\n",
       "[3 rows x 31 columns]"
      ]
     },
     "execution_count": 3,
     "metadata": {
      "tags": []
     },
     "output_type": "execute_result"
    }
   ],
   "source": [
    "data.head(3)"
   ]
  },
  {
   "cell_type": "code",
   "execution_count": 4,
   "metadata": {
    "colab": {
     "base_uri": "https://localhost:8080/",
     "height": 228
    },
    "executionInfo": {
     "elapsed": 588,
     "status": "ok",
     "timestamp": 1618093331187,
     "user": {
      "displayName": "AMYLKAR URREA MONTOYA",
      "photoUrl": "https://lh3.googleusercontent.com/a-/AOh14GgIJADRi0610WZ5MXeu3NO1-K951x4EDzVBxUAz0aNRqX-4eDB6KnTGq1JBYqTZF0MH1zHEyh6FFWTZ3hbuKfJSj6xi-NyTippwXkGu748oqA3I5SCRbdK-iFm0uUrMqCzs-S6L9Qlu-esre5djwXJPz-MjT7J3Tb_kmHA980mqrtbD6Pyy8JoRI8625Ms2NhxlDczIsGVd_8HAN1zndFECSTp_hLxTtbc4xCGDO6FcMqChgDn2rbO_UfHfI_cGzrzd9vfRuW9nhtCReEWcHjzzhqEpC6HgK7FMlrl2PdoZtL0u3l0SP8nY5r5ZGzVkFq4PQIDeeutRZckMRjWUPLOddbAmEsXbhH6y0Y07sXFQwTGABDCyiukXWQgxo1Zef738KbYIxLKg8Y8qwHffHyqpP5GAYs_cjAfCTKOpD4UqThx0LMpC6FH12P3kLSO4t9iEwBKwhn3WpIkjyXXRVLHXP5fPHzxBHWgVZD-U9DBxJvugW-2rEu6sJkN1ReXtABeV8Ajn6NvBhZnZ83UXKc76aOxORXEHxAAcgwB7kEEbRfuC1RP3MMyB9zQ6jXKwNExtFSbogSzse_uDLA1eT1mBvLcN50x1oB_9JZgdqQ2kCOSE2vJ95Hh1By-uHlza0klMV4RYhfTly0RYgkp3MM0Ai1EftgVPL1H5Khmgtv7ICTAitkqoxdMyEzJuJ6CWswn97ZePGMsiDMWz3vxhwz-QpQDJOdpmJHdAk318cx4H80b0MouaCD7HvewAUQw3NOdxsyI=s64",
      "userId": "11963971207796700413"
     },
     "user_tz": 300
    },
    "id": "Uqqsj_1Huab7",
    "outputId": "00daf7d4-80ff-4200-dc37-95fab20b0fae"
   },
   "outputs": [
    {
     "data": {
      "text/plain": [
       "<matplotlib.axes._subplots.AxesSubplot at 0x7f95edeebd90>"
      ]
     },
     "execution_count": 4,
     "metadata": {
      "tags": []
     },
     "output_type": "execute_result"
    },
    {
     "data": {
      "image/png": "[encoded data removed]",
      "text/plain": [
       "<Figure size 360x216 with 1 Axes>"
      ]
     },
     "metadata": {
      "needs_background": "light",
      "tags": []
     },
     "output_type": "display_data"
    }
   ],
   "source": [
    "data.Class.hist(figsize=(5, 3))"
   ]
  },
  {
   "cell_type": "code",
   "execution_count": 6,
   "metadata": {
    "colab": {
     "base_uri": "https://localhost:8080/"
    },
    "executionInfo": {
     "elapsed": 447,
     "status": "ok",
     "timestamp": 1618093397556,
     "user": {
      "displayName": "AMYLKAR URREA MONTOYA",
      "photoUrl": "https://lh3.googleusercontent.com/a-/AOh14GgIJADRi0610WZ5MXeu3NO1-K951x4EDzVBxUAz0aNRqX-4eDB6KnTGq1JBYqTZF0MH1zHEyh6FFWTZ3hbuKfJSj6xi-NyTippwXkGu748oqA3I5SCRbdK-iFm0uUrMqCzs-S6L9Qlu-esre5djwXJPz-MjT7J3Tb_kmHA980mqrtbD6Pyy8JoRI8625Ms2NhxlDczIsGVd_8HAN1zndFECSTp_hLxTtbc4xCGDO6FcMqChgDn2rbO_UfHfI_cGzrzd9vfRuW9nhtCReEWcHjzzhqEpC6HgK7FMlrl2PdoZtL0u3l0SP8nY5r5ZGzVkFq4PQIDeeutRZckMRjWUPLOddbAmEsXbhH6y0Y07sXFQwTGABDCyiukXWQgxo1Zef738KbYIxLKg8Y8qwHffHyqpP5GAYs_cjAfCTKOpD4UqThx0LMpC6FH12P3kLSO4t9iEwBKwhn3WpIkjyXXRVLHXP5fPHzxBHWgVZD-U9DBxJvugW-2rEu6sJkN1ReXtABeV8Ajn6NvBhZnZ83UXKc76aOxORXEHxAAcgwB7kEEbRfuC1RP3MMyB9zQ6jXKwNExtFSbogSzse_uDLA1eT1mBvLcN50x1oB_9JZgdqQ2kCOSE2vJ95Hh1By-uHlza0klMV4RYhfTly0RYgkp3MM0Ai1EftgVPL1H5Khmgtv7ICTAitkqoxdMyEzJuJ6CWswn97ZePGMsiDMWz3vxhwz-QpQDJOdpmJHdAk318cx4H80b0MouaCD7HvewAUQw3NOdxsyI=s64",
      "userId": "11963971207796700413"
     },
     "user_tz": 300
    },
    "id": "QqhiAaEAuafI",
    "outputId": "9d21d2aa-c4a1-4b20-b270-212d653af47e"
   },
   "outputs": [
    {
     "name": "stdout",
     "output_type": "stream",
     "text": [
      "# Class 1: 492\n",
      "# Class 0: 284315\n"
     ]
    }
   ],
   "source": [
    "print(\"# Class 1: {}\".format(len(data[data[\"Class\"]==1])))\n",
    "print(\"# Class 0: {}\".format(len(data[data[\"Class\"]==0])))"
   ]
  },
  {
   "cell_type": "markdown",
   "metadata": {
    "id": "NwjqJ9YR4QJ0"
   },
   "source": [
    "certainly the data in unbalanced"
   ]
  },
  {
   "cell_type": "markdown",
   "metadata": {
    "id": "Bd2bmZ_4uaZE"
   },
   "source": [
    "## Scaling Time and Amount"
   ]
  },
  {
   "cell_type": "code",
   "execution_count": 12,
   "metadata": {
    "executionInfo": {
     "elapsed": 412,
     "status": "ok",
     "timestamp": 1618093561634,
     "user": {
      "displayName": "AMYLKAR URREA MONTOYA",
      "photoUrl": "https://lh3.googleusercontent.com/a-/AOh14GgIJADRi0610WZ5MXeu3NO1-K951x4EDzVBxUAz0aNRqX-4eDB6KnTGq1JBYqTZF0MH1zHEyh6FFWTZ3hbuKfJSj6xi-NyTippwXkGu748oqA3I5SCRbdK-iFm0uUrMqCzs-S6L9Qlu-esre5djwXJPz-MjT7J3Tb_kmHA980mqrtbD6Pyy8JoRI8625Ms2NhxlDczIsGVd_8HAN1zndFECSTp_hLxTtbc4xCGDO6FcMqChgDn2rbO_UfHfI_cGzrzd9vfRuW9nhtCReEWcHjzzhqEpC6HgK7FMlrl2PdoZtL0u3l0SP8nY5r5ZGzVkFq4PQIDeeutRZckMRjWUPLOddbAmEsXbhH6y0Y07sXFQwTGABDCyiukXWQgxo1Zef738KbYIxLKg8Y8qwHffHyqpP5GAYs_cjAfCTKOpD4UqThx0LMpC6FH12P3kLSO4t9iEwBKwhn3WpIkjyXXRVLHXP5fPHzxBHWgVZD-U9DBxJvugW-2rEu6sJkN1ReXtABeV8Ajn6NvBhZnZ83UXKc76aOxORXEHxAAcgwB7kEEbRfuC1RP3MMyB9zQ6jXKwNExtFSbogSzse_uDLA1eT1mBvLcN50x1oB_9JZgdqQ2kCOSE2vJ95Hh1By-uHlza0klMV4RYhfTly0RYgkp3MM0Ai1EftgVPL1H5Khmgtv7ICTAitkqoxdMyEzJuJ6CWswn97ZePGMsiDMWz3vxhwz-QpQDJOdpmJHdAk318cx4H80b0MouaCD7HvewAUQw3NOdxsyI=s64",
      "userId": "11963971207796700413"
     },
     "user_tz": 300
    },
    "id": "fX6altsNufki"
   },
   "outputs": [],
   "source": [
    "scaler = StandardScaler()\n",
    "data[\"Time\"] = scaler.fit_transform(data[\"Time\"].values.reshape(-1, 1))\n",
    "data[\"Amount\"] = scaler.fit_transform(data[\"Amount\"].values.reshape(-1, 1))"
   ]
  },
  {
   "cell_type": "markdown",
   "metadata": {
    "id": "V-SETTGK12xj"
   },
   "source": [
    "## Undersampling"
   ]
  },
  {
   "cell_type": "markdown",
   "metadata": {
    "id": "mtw8BFa1kvX4"
   },
   "source": [
    "As it could be seen previously, the data is unbalanced, so undersampling is performed to deal with this problem."
   ]
  },
  {
   "cell_type": "code",
   "execution_count": 8,
   "metadata": {
    "executionInfo": {
     "elapsed": 362,
     "status": "ok",
     "timestamp": 1618093402852,
     "user": {
      "displayName": "AMYLKAR URREA MONTOYA",
      "photoUrl": "https://lh3.googleusercontent.com/a-/AOh14GgIJADRi0610WZ5MXeu3NO1-K951x4EDzVBxUAz0aNRqX-4eDB6KnTGq1JBYqTZF0MH1zHEyh6FFWTZ3hbuKfJSj6xi-NyTippwXkGu748oqA3I5SCRbdK-iFm0uUrMqCzs-S6L9Qlu-esre5djwXJPz-MjT7J3Tb_kmHA980mqrtbD6Pyy8JoRI8625Ms2NhxlDczIsGVd_8HAN1zndFECSTp_hLxTtbc4xCGDO6FcMqChgDn2rbO_UfHfI_cGzrzd9vfRuW9nhtCReEWcHjzzhqEpC6HgK7FMlrl2PdoZtL0u3l0SP8nY5r5ZGzVkFq4PQIDeeutRZckMRjWUPLOddbAmEsXbhH6y0Y07sXFQwTGABDCyiukXWQgxo1Zef738KbYIxLKg8Y8qwHffHyqpP5GAYs_cjAfCTKOpD4UqThx0LMpC6FH12P3kLSO4t9iEwBKwhn3WpIkjyXXRVLHXP5fPHzxBHWgVZD-U9DBxJvugW-2rEu6sJkN1ReXtABeV8Ajn6NvBhZnZ83UXKc76aOxORXEHxAAcgwB7kEEbRfuC1RP3MMyB9zQ6jXKwNExtFSbogSzse_uDLA1eT1mBvLcN50x1oB_9JZgdqQ2kCOSE2vJ95Hh1By-uHlza0klMV4RYhfTly0RYgkp3MM0Ai1EftgVPL1H5Khmgtv7ICTAitkqoxdMyEzJuJ6CWswn97ZePGMsiDMWz3vxhwz-QpQDJOdpmJHdAk318cx4H80b0MouaCD7HvewAUQw3NOdxsyI=s64",
      "userId": "11963971207796700413"
     },
     "user_tz": 300
    },
    "id": "cmnTunqC15fc"
   },
   "outputs": [],
   "source": [
    "data = data.sample(frac=1)\n",
    "data_class_1 = data[data[\"Class\"]==1]"
   ]
  },
  {
   "cell_type": "code",
   "execution_count": 9,
   "metadata": {
    "colab": {
     "base_uri": "https://localhost:8080/"
    },
    "executionInfo": {
     "elapsed": 372,
     "status": "ok",
     "timestamp": 1618093404072,
     "user": {
      "displayName": "AMYLKAR URREA MONTOYA",
      "photoUrl": "https://lh3.googleusercontent.com/a-/AOh14GgIJADRi0610WZ5MXeu3NO1-K951x4EDzVBxUAz0aNRqX-4eDB6KnTGq1JBYqTZF0MH1zHEyh6FFWTZ3hbuKfJSj6xi-NyTippwXkGu748oqA3I5SCRbdK-iFm0uUrMqCzs-S6L9Qlu-esre5djwXJPz-MjT7J3Tb_kmHA980mqrtbD6Pyy8JoRI8625Ms2NhxlDczIsGVd_8HAN1zndFECSTp_hLxTtbc4xCGDO6FcMqChgDn2rbO_UfHfI_cGzrzd9vfRuW9nhtCReEWcHjzzhqEpC6HgK7FMlrl2PdoZtL0u3l0SP8nY5r5ZGzVkFq4PQIDeeutRZckMRjWUPLOddbAmEsXbhH6y0Y07sXFQwTGABDCyiukXWQgxo1Zef738KbYIxLKg8Y8qwHffHyqpP5GAYs_cjAfCTKOpD4UqThx0LMpC6FH12P3kLSO4t9iEwBKwhn3WpIkjyXXRVLHXP5fPHzxBHWgVZD-U9DBxJvugW-2rEu6sJkN1ReXtABeV8Ajn6NvBhZnZ83UXKc76aOxORXEHxAAcgwB7kEEbRfuC1RP3MMyB9zQ6jXKwNExtFSbogSzse_uDLA1eT1mBvLcN50x1oB_9JZgdqQ2kCOSE2vJ95Hh1By-uHlza0klMV4RYhfTly0RYgkp3MM0Ai1EftgVPL1H5Khmgtv7ICTAitkqoxdMyEzJuJ6CWswn97ZePGMsiDMWz3vxhwz-QpQDJOdpmJHdAk318cx4H80b0MouaCD7HvewAUQw3NOdxsyI=s64",
      "userId": "11963971207796700413"
     },
     "user_tz": 300
    },
    "id": "pxCa-aby15il",
    "outputId": "d8a11f6f-1276-43a7-f516-3dfa21bbfaa9"
   },
   "outputs": [
    {
     "data": {
      "text/plain": [
       "492"
      ]
     },
     "execution_count": 9,
     "metadata": {
      "tags": []
     },
     "output_type": "execute_result"
    }
   ],
   "source": [
    "len(data_class_1)"
   ]
  },
  {
   "cell_type": "code",
   "execution_count": 13,
   "metadata": {
    "colab": {
     "base_uri": "https://localhost:8080/",
     "height": 162
    },
    "executionInfo": {
     "elapsed": 372,
     "status": "ok",
     "timestamp": 1618093838723,
     "user": {
      "displayName": "AMYLKAR URREA MONTOYA",
      "photoUrl": "https://lh3.googleusercontent.com/a-/AOh14GgIJADRi0610WZ5MXeu3NO1-K951x4EDzVBxUAz0aNRqX-4eDB6KnTGq1JBYqTZF0MH1zHEyh6FFWTZ3hbuKfJSj6xi-NyTippwXkGu748oqA3I5SCRbdK-iFm0uUrMqCzs-S6L9Qlu-esre5djwXJPz-MjT7J3Tb_kmHA980mqrtbD6Pyy8JoRI8625Ms2NhxlDczIsGVd_8HAN1zndFECSTp_hLxTtbc4xCGDO6FcMqChgDn2rbO_UfHfI_cGzrzd9vfRuW9nhtCReEWcHjzzhqEpC6HgK7FMlrl2PdoZtL0u3l0SP8nY5r5ZGzVkFq4PQIDeeutRZckMRjWUPLOddbAmEsXbhH6y0Y07sXFQwTGABDCyiukXWQgxo1Zef738KbYIxLKg8Y8qwHffHyqpP5GAYs_cjAfCTKOpD4UqThx0LMpC6FH12P3kLSO4t9iEwBKwhn3WpIkjyXXRVLHXP5fPHzxBHWgVZD-U9DBxJvugW-2rEu6sJkN1ReXtABeV8Ajn6NvBhZnZ83UXKc76aOxORXEHxAAcgwB7kEEbRfuC1RP3MMyB9zQ6jXKwNExtFSbogSzse_uDLA1eT1mBvLcN50x1oB_9JZgdqQ2kCOSE2vJ95Hh1By-uHlza0klMV4RYhfTly0RYgkp3MM0Ai1EftgVPL1H5Khmgtv7ICTAitkqoxdMyEzJuJ6CWswn97ZePGMsiDMWz3vxhwz-QpQDJOdpmJHdAk318cx4H80b0MouaCD7HvewAUQw3NOdxsyI=s64",
      "userId": "11963971207796700413"
     },
     "user_tz": 300
    },
    "id": "CVd15JH93kyx",
    "outputId": "a412167b-0251-4437-97a2-22f856313b2c"
   },
   "outputs": [
    {
     "data": {
      "text/html": [
       "<div>\n",
       "<style scoped>\n",
       "    .dataframe tbody tr th:only-of-type {\n",
       "        vertical-align: middle;\n",
       "    }\n",
       "\n",
       "    .dataframe tbody tr th {\n",
       "        vertical-align: top;\n",
       "    }\n",
       "\n",
       "    .dataframe thead th {\n",
       "        text-align: right;\n",
       "    }\n",
       "</style>\n",
       "<table border=\"1\" class=\"dataframe\">\n",
       "  <thead>\n",
       "    <tr style=\"text-align: right;\">\n",
       "      <th></th>\n",
       "      <th>Time</th>\n",
       "      <th>V1</th>\n",
       "      <th>V2</th>\n",
       "      <th>V3</th>\n",
       "      <th>V4</th>\n",
       "      <th>V5</th>\n",
       "      <th>V6</th>\n",
       "      <th>V7</th>\n",
       "      <th>V8</th>\n",
       "      <th>V9</th>\n",
       "      <th>V10</th>\n",
       "      <th>V11</th>\n",
       "      <th>V12</th>\n",
       "      <th>V13</th>\n",
       "      <th>V14</th>\n",
       "      <th>V15</th>\n",
       "      <th>V16</th>\n",
       "      <th>V17</th>\n",
       "      <th>V18</th>\n",
       "      <th>V19</th>\n",
       "      <th>V20</th>\n",
       "      <th>V21</th>\n",
       "      <th>V22</th>\n",
       "      <th>V23</th>\n",
       "      <th>V24</th>\n",
       "      <th>V25</th>\n",
       "      <th>V26</th>\n",
       "      <th>V27</th>\n",
       "      <th>V28</th>\n",
       "      <th>Amount</th>\n",
       "      <th>Class</th>\n",
       "    </tr>\n",
       "  </thead>\n",
       "  <tbody>\n",
       "    <tr>\n",
       "      <th>128479</th>\n",
       "      <td>-0.338798</td>\n",
       "      <td>-4.312479</td>\n",
       "      <td>1.886476</td>\n",
       "      <td>-2.338634</td>\n",
       "      <td>-0.475243</td>\n",
       "      <td>-1.185444</td>\n",
       "      <td>-2.112079</td>\n",
       "      <td>-2.122793</td>\n",
       "      <td>0.272565</td>\n",
       "      <td>0.290273</td>\n",
       "      <td>-3.833741</td>\n",
       "      <td>2.509781</td>\n",
       "      <td>-3.611231</td>\n",
       "      <td>-1.024300</td>\n",
       "      <td>-5.291925</td>\n",
       "      <td>1.649807</td>\n",
       "      <td>-3.262658</td>\n",
       "      <td>-4.333118</td>\n",
       "      <td>-1.863049</td>\n",
       "      <td>-0.009534</td>\n",
       "      <td>-0.718706</td>\n",
       "      <td>0.550541</td>\n",
       "      <td>-0.067870</td>\n",
       "      <td>-1.114692</td>\n",
       "      <td>0.269069</td>\n",
       "      <td>-0.020572</td>\n",
       "      <td>-0.963489</td>\n",
       "      <td>-0.918888</td>\n",
       "      <td>0.001454</td>\n",
       "      <td>-0.113344</td>\n",
       "      <td>1</td>\n",
       "    </tr>\n",
       "    <tr>\n",
       "      <th>16863</th>\n",
       "      <td>-1.401865</td>\n",
       "      <td>-2.787248</td>\n",
       "      <td>-0.071340</td>\n",
       "      <td>-1.505288</td>\n",
       "      <td>3.361777</td>\n",
       "      <td>-3.357422</td>\n",
       "      <td>0.565835</td>\n",
       "      <td>0.303653</td>\n",
       "      <td>0.966914</td>\n",
       "      <td>-2.245882</td>\n",
       "      <td>-3.651427</td>\n",
       "      <td>0.987277</td>\n",
       "      <td>-3.834782</td>\n",
       "      <td>-0.961354</td>\n",
       "      <td>-3.182168</td>\n",
       "      <td>-1.126002</td>\n",
       "      <td>-2.954301</td>\n",
       "      <td>-5.841218</td>\n",
       "      <td>-2.910430</td>\n",
       "      <td>-1.155850</td>\n",
       "      <td>1.607397</td>\n",
       "      <td>0.882940</td>\n",
       "      <td>-0.246202</td>\n",
       "      <td>1.752227</td>\n",
       "      <td>0.219925</td>\n",
       "      <td>0.156282</td>\n",
       "      <td>-0.265894</td>\n",
       "      <td>0.220694</td>\n",
       "      <td>0.256077</td>\n",
       "      <td>2.568812</td>\n",
       "      <td>1</td>\n",
       "    </tr>\n",
       "    <tr>\n",
       "      <th>43160</th>\n",
       "      <td>-1.124848</td>\n",
       "      <td>-14.970346</td>\n",
       "      <td>8.401421</td>\n",
       "      <td>-16.867238</td>\n",
       "      <td>8.252334</td>\n",
       "      <td>-13.565130</td>\n",
       "      <td>-2.782438</td>\n",
       "      <td>-14.263735</td>\n",
       "      <td>9.643419</td>\n",
       "      <td>-7.701499</td>\n",
       "      <td>-14.226698</td>\n",
       "      <td>5.610999</td>\n",
       "      <td>-11.793979</td>\n",
       "      <td>1.598387</td>\n",
       "      <td>-11.606970</td>\n",
       "      <td>-0.044180</td>\n",
       "      <td>-9.286955</td>\n",
       "      <td>-19.899726</td>\n",
       "      <td>-7.518051</td>\n",
       "      <td>1.243517</td>\n",
       "      <td>-1.614660</td>\n",
       "      <td>2.714045</td>\n",
       "      <td>-0.101355</td>\n",
       "      <td>-0.439666</td>\n",
       "      <td>0.519514</td>\n",
       "      <td>0.789328</td>\n",
       "      <td>0.064357</td>\n",
       "      <td>-1.621386</td>\n",
       "      <td>-1.104819</td>\n",
       "      <td>0.738288</td>\n",
       "      <td>1</td>\n",
       "    </tr>\n",
       "  </tbody>\n",
       "</table>\n",
       "</div>"
      ],
      "text/plain": [
       "            Time         V1        V2  ...       V28    Amount  Class\n",
       "128479 -0.338798  -4.312479  1.886476  ...  0.001454 -0.113344      1\n",
       "16863  -1.401865  -2.787248 -0.071340  ...  0.256077  2.568812      1\n",
       "43160  -1.124848 -14.970346  8.401421  ... -1.104819  0.738288      1\n",
       "\n",
       "[3 rows x 31 columns]"
      ]
     },
     "execution_count": 13,
     "metadata": {
      "tags": []
     },
     "output_type": "execute_result"
    }
   ],
   "source": [
    "data_class_0 = data[data[\"Class\"]==0][0:492]\n",
    "data_under = pd.concat([data_class_1, data_class_0], axis=0)\n",
    "data_under.head(3)"
   ]
  },
  {
   "cell_type": "code",
   "execution_count": 14,
   "metadata": {
    "colab": {
     "base_uri": "https://localhost:8080/"
    },
    "executionInfo": {
     "elapsed": 283,
     "status": "ok",
     "timestamp": 1618093838893,
     "user": {
      "displayName": "AMYLKAR URREA MONTOYA",
      "photoUrl": "https://lh3.googleusercontent.com/a-/AOh14GgIJADRi0610WZ5MXeu3NO1-K951x4EDzVBxUAz0aNRqX-4eDB6KnTGq1JBYqTZF0MH1zHEyh6FFWTZ3hbuKfJSj6xi-NyTippwXkGu748oqA3I5SCRbdK-iFm0uUrMqCzs-S6L9Qlu-esre5djwXJPz-MjT7J3Tb_kmHA980mqrtbD6Pyy8JoRI8625Ms2NhxlDczIsGVd_8HAN1zndFECSTp_hLxTtbc4xCGDO6FcMqChgDn2rbO_UfHfI_cGzrzd9vfRuW9nhtCReEWcHjzzhqEpC6HgK7FMlrl2PdoZtL0u3l0SP8nY5r5ZGzVkFq4PQIDeeutRZckMRjWUPLOddbAmEsXbhH6y0Y07sXFQwTGABDCyiukXWQgxo1Zef738KbYIxLKg8Y8qwHffHyqpP5GAYs_cjAfCTKOpD4UqThx0LMpC6FH12P3kLSO4t9iEwBKwhn3WpIkjyXXRVLHXP5fPHzxBHWgVZD-U9DBxJvugW-2rEu6sJkN1ReXtABeV8Ajn6NvBhZnZ83UXKc76aOxORXEHxAAcgwB7kEEbRfuC1RP3MMyB9zQ6jXKwNExtFSbogSzse_uDLA1eT1mBvLcN50x1oB_9JZgdqQ2kCOSE2vJ95Hh1By-uHlza0klMV4RYhfTly0RYgkp3MM0Ai1EftgVPL1H5Khmgtv7ICTAitkqoxdMyEzJuJ6CWswn97ZePGMsiDMWz3vxhwz-QpQDJOdpmJHdAk318cx4H80b0MouaCD7HvewAUQw3NOdxsyI=s64",
      "userId": "11963971207796700413"
     },
     "user_tz": 300
    },
    "id": "ASqkdVPs4qPU",
    "outputId": "b4e6e5a8-b9c5-46fa-8138-3136332e12d9"
   },
   "outputs": [
    {
     "data": {
      "text/plain": [
       "984"
      ]
     },
     "execution_count": 14,
     "metadata": {
      "tags": []
     },
     "output_type": "execute_result"
    }
   ],
   "source": [
    "len(data_under)"
   ]
  },
  {
   "cell_type": "markdown",
   "metadata": {
    "id": "PVdEsOptlMRM"
   },
   "source": [
    "Now the data is balanced"
   ]
  },
  {
   "cell_type": "code",
   "execution_count": 15,
   "metadata": {
    "colab": {
     "base_uri": "https://localhost:8080/",
     "height": 228
    },
    "executionInfo": {
     "elapsed": 716,
     "status": "ok",
     "timestamp": 1618093841873,
     "user": {
      "displayName": "AMYLKAR URREA MONTOYA",
      "photoUrl": "https://lh3.googleusercontent.com/a-/AOh14GgIJADRi0610WZ5MXeu3NO1-K951x4EDzVBxUAz0aNRqX-4eDB6KnTGq1JBYqTZF0MH1zHEyh6FFWTZ3hbuKfJSj6xi-NyTippwXkGu748oqA3I5SCRbdK-iFm0uUrMqCzs-S6L9Qlu-esre5djwXJPz-MjT7J3Tb_kmHA980mqrtbD6Pyy8JoRI8625Ms2NhxlDczIsGVd_8HAN1zndFECSTp_hLxTtbc4xCGDO6FcMqChgDn2rbO_UfHfI_cGzrzd9vfRuW9nhtCReEWcHjzzhqEpC6HgK7FMlrl2PdoZtL0u3l0SP8nY5r5ZGzVkFq4PQIDeeutRZckMRjWUPLOddbAmEsXbhH6y0Y07sXFQwTGABDCyiukXWQgxo1Zef738KbYIxLKg8Y8qwHffHyqpP5GAYs_cjAfCTKOpD4UqThx0LMpC6FH12P3kLSO4t9iEwBKwhn3WpIkjyXXRVLHXP5fPHzxBHWgVZD-U9DBxJvugW-2rEu6sJkN1ReXtABeV8Ajn6NvBhZnZ83UXKc76aOxORXEHxAAcgwB7kEEbRfuC1RP3MMyB9zQ6jXKwNExtFSbogSzse_uDLA1eT1mBvLcN50x1oB_9JZgdqQ2kCOSE2vJ95Hh1By-uHlza0klMV4RYhfTly0RYgkp3MM0Ai1EftgVPL1H5Khmgtv7ICTAitkqoxdMyEzJuJ6CWswn97ZePGMsiDMWz3vxhwz-QpQDJOdpmJHdAk318cx4H80b0MouaCD7HvewAUQw3NOdxsyI=s64",
      "userId": "11963971207796700413"
     },
     "user_tz": 300
    },
    "id": "5EEN8qgb40N8",
    "outputId": "aaa4971b-f92d-40fa-e619-6ef42054855f"
   },
   "outputs": [
    {
     "data": {
      "text/plain": [
       "<matplotlib.axes._subplots.AxesSubplot at 0x7f95ec556c10>"
      ]
     },
     "execution_count": 15,
     "metadata": {
      "tags": []
     },
     "output_type": "execute_result"
    },
    {
     "data": {
      "image/png": "[encoded data removed]",
      "text/plain": [
       "<Figure size 360x216 with 1 Axes>"
      ]
     },
     "metadata": {
      "needs_background": "light",
      "tags": []
     },
     "output_type": "display_data"
    }
   ],
   "source": [
    "data_under[\"Class\"].hist(figsize=(5, 3))"
   ]
  },
  {
   "cell_type": "markdown",
   "metadata": {
    "id": "ULJ5YgcX_xH4"
   },
   "source": [
    "Here there are the distributions of some variables before(left side) and after(right side) applying undersampling. It can be seen that the distributions don't change drastically."
   ]
  },
  {
   "cell_type": "code",
   "execution_count": 34,
   "metadata": {
    "colab": {
     "base_uri": "https://localhost:8080/",
     "height": 460
    },
    "executionInfo": {
     "elapsed": 10121,
     "status": "ok",
     "timestamp": 1618095399954,
     "user": {
      "displayName": "AMYLKAR URREA MONTOYA",
      "photoUrl": "https://lh3.googleusercontent.com/a-/AOh14GgIJADRi0610WZ5MXeu3NO1-K951x4EDzVBxUAz0aNRqX-4eDB6KnTGq1JBYqTZF0MH1zHEyh6FFWTZ3hbuKfJSj6xi-NyTippwXkGu748oqA3I5SCRbdK-iFm0uUrMqCzs-S6L9Qlu-esre5djwXJPz-MjT7J3Tb_kmHA980mqrtbD6Pyy8JoRI8625Ms2NhxlDczIsGVd_8HAN1zndFECSTp_hLxTtbc4xCGDO6FcMqChgDn2rbO_UfHfI_cGzrzd9vfRuW9nhtCReEWcHjzzhqEpC6HgK7FMlrl2PdoZtL0u3l0SP8nY5r5ZGzVkFq4PQIDeeutRZckMRjWUPLOddbAmEsXbhH6y0Y07sXFQwTGABDCyiukXWQgxo1Zef738KbYIxLKg8Y8qwHffHyqpP5GAYs_cjAfCTKOpD4UqThx0LMpC6FH12P3kLSO4t9iEwBKwhn3WpIkjyXXRVLHXP5fPHzxBHWgVZD-U9DBxJvugW-2rEu6sJkN1ReXtABeV8Ajn6NvBhZnZ83UXKc76aOxORXEHxAAcgwB7kEEbRfuC1RP3MMyB9zQ6jXKwNExtFSbogSzse_uDLA1eT1mBvLcN50x1oB_9JZgdqQ2kCOSE2vJ95Hh1By-uHlza0klMV4RYhfTly0RYgkp3MM0Ai1EftgVPL1H5Khmgtv7ICTAitkqoxdMyEzJuJ6CWswn97ZePGMsiDMWz3vxhwz-QpQDJOdpmJHdAk318cx4H80b0MouaCD7HvewAUQw3NOdxsyI=s64",
      "userId": "11963971207796700413"
     },
     "user_tz": 300
    },
    "id": "En6HlQ4k5elM",
    "outputId": "c46f8826-d4c9-4708-a753-7a07fb8a13de"
   },
   "outputs": [
    {
     "data": {
      "text/plain": [
       "(-35.0, 10.0)"
      ]
     },
     "execution_count": 34,
     "metadata": {
      "tags": []
     },
     "output_type": "execute_result"
    },
    {
     "data": {
      "image/png": "[encoded data removed]",
      "text/plain": [
       "<Figure size 1080x504 with 8 Axes>"
      ]
     },
     "metadata": {
      "needs_background": "light",
      "tags": []
     },
     "output_type": "display_data"
    }
   ],
   "source": [
    "fig, axs = plt.subplots(2,4,figsize=(15,7))\n",
    "sns.distplot(data[\"Time\"], ax=axs[0, 0], label=\"data\")\n",
    "axs[0, 0].set_xlim(-2.3, 2)\n",
    "sns.distplot(data_under[\"Time\"], ax=axs[0, 1], label=\"under_data\")\n",
    "axs[0, 1].set_xlim(-2.3, 2)\n",
    "sns.distplot(data[\"V1\"], ax=axs[0, 2], color=\"red\")\n",
    "axs[0, 2].set_xlim(-40, 10)\n",
    "sns.distplot(data_under[\"V1\"], ax=axs[0, 3], color=\"red\")\n",
    "axs[0, 3].set_xlim(-40, 10)\n",
    "sns.distplot(data[\"V2\"], ax=axs[1, 0], color=\"orange\")\n",
    "axs[1, 0].set_xlim(-20, 25)\n",
    "sns.distplot(data_under[\"V2\"], ax=axs[1, 1], color=\"orange\")\n",
    "axs[1, 1].set_xlim(-20, 25)\n",
    "sns.distplot(data[\"V3\"], ax=axs[1, 2], color=\"cadetblue\")\n",
    "axs[1, 2].set_xlim(-35, 10)\n",
    "sns.distplot(data_under[\"V3\"], ax=axs[1, 3], color=\"cadetblue\")\n",
    "axs[1, 3].set_xlim(-35, 10)"
   ]
  },
  {
   "cell_type": "markdown",
   "metadata": {
    "id": "_KWOoY905ONH"
   },
   "source": [
    "## Dimensionality reduction"
   ]
  },
  {
   "cell_type": "markdown",
   "metadata": {
    "id": "36kuuVLQlQOp"
   },
   "source": [
    "PCA is performed to check if the conditions(fraud/non fraud) can be easily seen."
   ]
  },
  {
   "cell_type": "code",
   "execution_count": 35,
   "metadata": {
    "executionInfo": {
     "elapsed": 362,
     "status": "ok",
     "timestamp": 1618095461104,
     "user": {
      "displayName": "AMYLKAR URREA MONTOYA",
      "photoUrl": "https://lh3.googleusercontent.com/a-/AOh14GgIJADRi0610WZ5MXeu3NO1-K951x4EDzVBxUAz0aNRqX-4eDB6KnTGq1JBYqTZF0MH1zHEyh6FFWTZ3hbuKfJSj6xi-NyTippwXkGu748oqA3I5SCRbdK-iFm0uUrMqCzs-S6L9Qlu-esre5djwXJPz-MjT7J3Tb_kmHA980mqrtbD6Pyy8JoRI8625Ms2NhxlDczIsGVd_8HAN1zndFECSTp_hLxTtbc4xCGDO6FcMqChgDn2rbO_UfHfI_cGzrzd9vfRuW9nhtCReEWcHjzzhqEpC6HgK7FMlrl2PdoZtL0u3l0SP8nY5r5ZGzVkFq4PQIDeeutRZckMRjWUPLOddbAmEsXbhH6y0Y07sXFQwTGABDCyiukXWQgxo1Zef738KbYIxLKg8Y8qwHffHyqpP5GAYs_cjAfCTKOpD4UqThx0LMpC6FH12P3kLSO4t9iEwBKwhn3WpIkjyXXRVLHXP5fPHzxBHWgVZD-U9DBxJvugW-2rEu6sJkN1ReXtABeV8Ajn6NvBhZnZ83UXKc76aOxORXEHxAAcgwB7kEEbRfuC1RP3MMyB9zQ6jXKwNExtFSbogSzse_uDLA1eT1mBvLcN50x1oB_9JZgdqQ2kCOSE2vJ95Hh1By-uHlza0klMV4RYhfTly0RYgkp3MM0Ai1EftgVPL1H5Khmgtv7ICTAitkqoxdMyEzJuJ6CWswn97ZePGMsiDMWz3vxhwz-QpQDJOdpmJHdAk318cx4H80b0MouaCD7HvewAUQw3NOdxsyI=s64",
      "userId": "11963971207796700413"
     },
     "user_tz": 300
    },
    "id": "YRvlT8125R5k"
   },
   "outputs": [],
   "source": [
    "pca = PCA(n_components=2)\n",
    "pca_under = pca.fit_transform(data_under)\n",
    "pca_data_under = pd.DataFrame(data = pca_under[:,:], columns=[\"pc1\",\"pc2\"])\n",
    "pca_data_under[\"Class\"] = data_under.loc[:, \"Class\"].values\n",
    "pca_data_under[\"Class\"] = pca_data_under[\"Class\"].replace(1, \"Fraud\")\n",
    "pca_data_under[\"Class\"] = pca_data_under[\"Class\"].replace(0, \"Non fraud\")"
   ]
  },
  {
   "cell_type": "code",
   "execution_count": 79,
   "metadata": {
    "colab": {
     "base_uri": "https://localhost:8080/",
     "height": 404
    },
    "executionInfo": {
     "elapsed": 833,
     "status": "ok",
     "timestamp": 1618096196703,
     "user": {
      "displayName": "AMYLKAR URREA MONTOYA",
      "photoUrl": "https://lh3.googleusercontent.com/a-/AOh14GgIJADRi0610WZ5MXeu3NO1-K951x4EDzVBxUAz0aNRqX-4eDB6KnTGq1JBYqTZF0MH1zHEyh6FFWTZ3hbuKfJSj6xi-NyTippwXkGu748oqA3I5SCRbdK-iFm0uUrMqCzs-S6L9Qlu-esre5djwXJPz-MjT7J3Tb_kmHA980mqrtbD6Pyy8JoRI8625Ms2NhxlDczIsGVd_8HAN1zndFECSTp_hLxTtbc4xCGDO6FcMqChgDn2rbO_UfHfI_cGzrzd9vfRuW9nhtCReEWcHjzzhqEpC6HgK7FMlrl2PdoZtL0u3l0SP8nY5r5ZGzVkFq4PQIDeeutRZckMRjWUPLOddbAmEsXbhH6y0Y07sXFQwTGABDCyiukXWQgxo1Zef738KbYIxLKg8Y8qwHffHyqpP5GAYs_cjAfCTKOpD4UqThx0LMpC6FH12P3kLSO4t9iEwBKwhn3WpIkjyXXRVLHXP5fPHzxBHWgVZD-U9DBxJvugW-2rEu6sJkN1ReXtABeV8Ajn6NvBhZnZ83UXKc76aOxORXEHxAAcgwB7kEEbRfuC1RP3MMyB9zQ6jXKwNExtFSbogSzse_uDLA1eT1mBvLcN50x1oB_9JZgdqQ2kCOSE2vJ95Hh1By-uHlza0klMV4RYhfTly0RYgkp3MM0Ai1EftgVPL1H5Khmgtv7ICTAitkqoxdMyEzJuJ6CWswn97ZePGMsiDMWz3vxhwz-QpQDJOdpmJHdAk318cx4H80b0MouaCD7HvewAUQw3NOdxsyI=s64",
      "userId": "11963971207796700413"
     },
     "user_tz": 300
    },
    "id": "NXH3Go5u8jW2",
    "outputId": "9e8f4560-d865-434a-e996-0da91751c013"
   },
   "outputs": [
    {
     "data": {
      "image/png": "[encoded data removed]",
      "text/plain": [
       "<Figure size 720x432 with 1 Axes>"
      ]
     },
     "metadata": {
      "needs_background": "light",
      "tags": []
     },
     "output_type": "display_data"
    }
   ],
   "source": [
    "fig, ax = plt.subplots(figsize=(10, 6))\n",
    "sns.scatterplot(data=pca_data_under, x=\"pc1\", y=\"pc2\", hue=\"Class\")\n",
    "plt.xlabel(\"PC1\")\n",
    "plt.ylabel(\"PC2\")\n",
    "plt.title('Principal component 1 and 2')\n",
    "plt.show()"
   ]
  },
  {
   "cell_type": "markdown",
   "metadata": {
    "id": "OuRj4BrnvXZb"
   },
   "source": [
    "## Split train and test sets with UnderSampled data\n",
    "\n"
   ]
  },
  {
   "cell_type": "markdown",
   "metadata": {
    "id": "Rbjv8-uqljdq"
   },
   "source": [
    "The data is splitted using stratify=y with the main of splitting both of the classes of a balanced way."
   ]
  },
  {
   "cell_type": "code",
   "execution_count": 39,
   "metadata": {
    "executionInfo": {
     "elapsed": 364,
     "status": "ok",
     "timestamp": 1618095515670,
     "user": {
      "displayName": "AMYLKAR URREA MONTOYA",
      "photoUrl": "https://lh3.googleusercontent.com/a-/AOh14GgIJADRi0610WZ5MXeu3NO1-K951x4EDzVBxUAz0aNRqX-4eDB6KnTGq1JBYqTZF0MH1zHEyh6FFWTZ3hbuKfJSj6xi-NyTippwXkGu748oqA3I5SCRbdK-iFm0uUrMqCzs-S6L9Qlu-esre5djwXJPz-MjT7J3Tb_kmHA980mqrtbD6Pyy8JoRI8625Ms2NhxlDczIsGVd_8HAN1zndFECSTp_hLxTtbc4xCGDO6FcMqChgDn2rbO_UfHfI_cGzrzd9vfRuW9nhtCReEWcHjzzhqEpC6HgK7FMlrl2PdoZtL0u3l0SP8nY5r5ZGzVkFq4PQIDeeutRZckMRjWUPLOddbAmEsXbhH6y0Y07sXFQwTGABDCyiukXWQgxo1Zef738KbYIxLKg8Y8qwHffHyqpP5GAYs_cjAfCTKOpD4UqThx0LMpC6FH12P3kLSO4t9iEwBKwhn3WpIkjyXXRVLHXP5fPHzxBHWgVZD-U9DBxJvugW-2rEu6sJkN1ReXtABeV8Ajn6NvBhZnZ83UXKc76aOxORXEHxAAcgwB7kEEbRfuC1RP3MMyB9zQ6jXKwNExtFSbogSzse_uDLA1eT1mBvLcN50x1oB_9JZgdqQ2kCOSE2vJ95Hh1By-uHlza0klMV4RYhfTly0RYgkp3MM0Ai1EftgVPL1H5Khmgtv7ICTAitkqoxdMyEzJuJ6CWswn97ZePGMsiDMWz3vxhwz-QpQDJOdpmJHdAk318cx4H80b0MouaCD7HvewAUQw3NOdxsyI=s64",
      "userId": "11963971207796700413"
     },
     "user_tz": 300
    },
    "id": "N-jtdbLuvmSN"
   },
   "outputs": [],
   "source": [
    "y = data_under[[\"Class\"]]\n",
    "x = data_under.drop([\"Class\"], axis=1)\n",
    "\n",
    "x_train, x_test, y_train, y_test = train_test_split(x, y, test_size=0.20, random_state=42, stratify=y)"
   ]
  },
  {
   "cell_type": "code",
   "execution_count": 40,
   "metadata": {
    "colab": {
     "base_uri": "https://localhost:8080/"
    },
    "executionInfo": {
     "elapsed": 237,
     "status": "ok",
     "timestamp": 1618095516429,
     "user": {
      "displayName": "AMYLKAR URREA MONTOYA",
      "photoUrl": "https://lh3.googleusercontent.com/a-/AOh14GgIJADRi0610WZ5MXeu3NO1-K951x4EDzVBxUAz0aNRqX-4eDB6KnTGq1JBYqTZF0MH1zHEyh6FFWTZ3hbuKfJSj6xi-NyTippwXkGu748oqA3I5SCRbdK-iFm0uUrMqCzs-S6L9Qlu-esre5djwXJPz-MjT7J3Tb_kmHA980mqrtbD6Pyy8JoRI8625Ms2NhxlDczIsGVd_8HAN1zndFECSTp_hLxTtbc4xCGDO6FcMqChgDn2rbO_UfHfI_cGzrzd9vfRuW9nhtCReEWcHjzzhqEpC6HgK7FMlrl2PdoZtL0u3l0SP8nY5r5ZGzVkFq4PQIDeeutRZckMRjWUPLOddbAmEsXbhH6y0Y07sXFQwTGABDCyiukXWQgxo1Zef738KbYIxLKg8Y8qwHffHyqpP5GAYs_cjAfCTKOpD4UqThx0LMpC6FH12P3kLSO4t9iEwBKwhn3WpIkjyXXRVLHXP5fPHzxBHWgVZD-U9DBxJvugW-2rEu6sJkN1ReXtABeV8Ajn6NvBhZnZ83UXKc76aOxORXEHxAAcgwB7kEEbRfuC1RP3MMyB9zQ6jXKwNExtFSbogSzse_uDLA1eT1mBvLcN50x1oB_9JZgdqQ2kCOSE2vJ95Hh1By-uHlza0klMV4RYhfTly0RYgkp3MM0Ai1EftgVPL1H5Khmgtv7ICTAitkqoxdMyEzJuJ6CWswn97ZePGMsiDMWz3vxhwz-QpQDJOdpmJHdAk318cx4H80b0MouaCD7HvewAUQw3NOdxsyI=s64",
      "userId": "11963971207796700413"
     },
     "user_tz": 300
    },
    "id": "yTd3tRp4vqmz",
    "outputId": "cb4d8e12-778f-4120-bd58-ff813f71c797"
   },
   "outputs": [
    {
     "name": "stdout",
     "output_type": "stream",
     "text": [
      "Classes in train set\n",
      "# Class 1: 50.06%\n",
      "# Class 0: 49.94%\n"
     ]
    }
   ],
   "source": [
    "print(\"Classes in train set\")\n",
    "print(\"# Class 1: {0:.2f}%\".format((len(y_train[y_train[\"Class\"]==1])/len(y_train))*100))\n",
    "print(\"# Class 0: {0:.2f}%\".format((len(y_train[y_train[\"Class\"]==0])/len(y_train))*100))"
   ]
  },
  {
   "cell_type": "code",
   "execution_count": 41,
   "metadata": {
    "colab": {
     "base_uri": "https://localhost:8080/"
    },
    "executionInfo": {
     "elapsed": 376,
     "status": "ok",
     "timestamp": 1618095519712,
     "user": {
      "displayName": "AMYLKAR URREA MONTOYA",
      "photoUrl": "https://lh3.googleusercontent.com/a-/AOh14GgIJADRi0610WZ5MXeu3NO1-K951x4EDzVBxUAz0aNRqX-4eDB6KnTGq1JBYqTZF0MH1zHEyh6FFWTZ3hbuKfJSj6xi-NyTippwXkGu748oqA3I5SCRbdK-iFm0uUrMqCzs-S6L9Qlu-esre5djwXJPz-MjT7J3Tb_kmHA980mqrtbD6Pyy8JoRI8625Ms2NhxlDczIsGVd_8HAN1zndFECSTp_hLxTtbc4xCGDO6FcMqChgDn2rbO_UfHfI_cGzrzd9vfRuW9nhtCReEWcHjzzhqEpC6HgK7FMlrl2PdoZtL0u3l0SP8nY5r5ZGzVkFq4PQIDeeutRZckMRjWUPLOddbAmEsXbhH6y0Y07sXFQwTGABDCyiukXWQgxo1Zef738KbYIxLKg8Y8qwHffHyqpP5GAYs_cjAfCTKOpD4UqThx0LMpC6FH12P3kLSO4t9iEwBKwhn3WpIkjyXXRVLHXP5fPHzxBHWgVZD-U9DBxJvugW-2rEu6sJkN1ReXtABeV8Ajn6NvBhZnZ83UXKc76aOxORXEHxAAcgwB7kEEbRfuC1RP3MMyB9zQ6jXKwNExtFSbogSzse_uDLA1eT1mBvLcN50x1oB_9JZgdqQ2kCOSE2vJ95Hh1By-uHlza0klMV4RYhfTly0RYgkp3MM0Ai1EftgVPL1H5Khmgtv7ICTAitkqoxdMyEzJuJ6CWswn97ZePGMsiDMWz3vxhwz-QpQDJOdpmJHdAk318cx4H80b0MouaCD7HvewAUQw3NOdxsyI=s64",
      "userId": "11963971207796700413"
     },
     "user_tz": 300
    },
    "id": "MKU-uzV2v6Ti",
    "outputId": "56a87789-0ba4-4c12-884c-f901e0b4c004"
   },
   "outputs": [
    {
     "name": "stdout",
     "output_type": "stream",
     "text": [
      "Classes in test set\n",
      "# Class 1: 49.75%\n",
      "# Class 0: 50.25%\n"
     ]
    }
   ],
   "source": [
    "print(\"Classes in test set\")\n",
    "print(\"# Class 1: {0:.2f}%\".format((len(y_test[y_test[\"Class\"]==1])/len(y_test))*100))\n",
    "print(\"# Class 0: {0:.2f}%\".format((len(y_test[y_test[\"Class\"]==0])/len(y_test))*100))"
   ]
  },
  {
   "cell_type": "markdown",
   "metadata": {
    "id": "VttCjSikG-VG"
   },
   "source": [
    "## Feature selection of UnderSampledData"
   ]
  },
  {
   "cell_type": "markdown",
   "metadata": {
    "id": "0EGQCleilx8p"
   },
   "source": [
    "To select the most important variables it was performed SelectKBest and RandomForestClassifier algorithms"
   ]
  },
  {
   "cell_type": "markdown",
   "metadata": {
    "id": "Nq_hM-EFKANA"
   },
   "source": [
    "### SelectKBest"
   ]
  },
  {
   "cell_type": "markdown",
   "metadata": {
    "id": "5tmHsQly8oZf"
   },
   "source": [
    "#### f_classif"
   ]
  },
  {
   "cell_type": "code",
   "execution_count": 42,
   "metadata": {
    "executionInfo": {
     "elapsed": 352,
     "status": "ok",
     "timestamp": 1618095595236,
     "user": {
      "displayName": "AMYLKAR URREA MONTOYA",
      "photoUrl": "https://lh3.googleusercontent.com/a-/AOh14GgIJADRi0610WZ5MXeu3NO1-K951x4EDzVBxUAz0aNRqX-4eDB6KnTGq1JBYqTZF0MH1zHEyh6FFWTZ3hbuKfJSj6xi-NyTippwXkGu748oqA3I5SCRbdK-iFm0uUrMqCzs-S6L9Qlu-esre5djwXJPz-MjT7J3Tb_kmHA980mqrtbD6Pyy8JoRI8625Ms2NhxlDczIsGVd_8HAN1zndFECSTp_hLxTtbc4xCGDO6FcMqChgDn2rbO_UfHfI_cGzrzd9vfRuW9nhtCReEWcHjzzhqEpC6HgK7FMlrl2PdoZtL0u3l0SP8nY5r5ZGzVkFq4PQIDeeutRZckMRjWUPLOddbAmEsXbhH6y0Y07sXFQwTGABDCyiukXWQgxo1Zef738KbYIxLKg8Y8qwHffHyqpP5GAYs_cjAfCTKOpD4UqThx0LMpC6FH12P3kLSO4t9iEwBKwhn3WpIkjyXXRVLHXP5fPHzxBHWgVZD-U9DBxJvugW-2rEu6sJkN1ReXtABeV8Ajn6NvBhZnZ83UXKc76aOxORXEHxAAcgwB7kEEbRfuC1RP3MMyB9zQ6jXKwNExtFSbogSzse_uDLA1eT1mBvLcN50x1oB_9JZgdqQ2kCOSE2vJ95Hh1By-uHlza0klMV4RYhfTly0RYgkp3MM0Ai1EftgVPL1H5Khmgtv7ICTAitkqoxdMyEzJuJ6CWswn97ZePGMsiDMWz3vxhwz-QpQDJOdpmJHdAk318cx4H80b0MouaCD7HvewAUQw3NOdxsyI=s64",
      "userId": "11963971207796700413"
     },
     "user_tz": 300
    },
    "id": "4-uHuAoNHmQ_"
   },
   "outputs": [],
   "source": [
    "selector = SelectKBest(f_classif, k=4)\n",
    "selector.fit(x_train, y_train)\n",
    "\n",
    "names = np.array(list(x_train.columns))\n",
    "names = names.T\n",
    "names = names.tolist()\n",
    "\n",
    "importance = selector.scores_.T\n",
    "importance = importance.tolist()\n",
    "\n",
    "features = pd.DataFrame({\"names\":names, \"importance\":importance})\n",
    "features = features.sort_values(\"importance\",ascending=False)"
   ]
  },
  {
   "cell_type": "code",
   "execution_count": 43,
   "metadata": {
    "colab": {
     "base_uri": "https://localhost:8080/",
     "height": 363
    },
    "executionInfo": {
     "elapsed": 675,
     "status": "ok",
     "timestamp": 1618095595972,
     "user": {
      "displayName": "AMYLKAR URREA MONTOYA",
      "photoUrl": "https://lh3.googleusercontent.com/a-/AOh14GgIJADRi0610WZ5MXeu3NO1-K951x4EDzVBxUAz0aNRqX-4eDB6KnTGq1JBYqTZF0MH1zHEyh6FFWTZ3hbuKfJSj6xi-NyTippwXkGu748oqA3I5SCRbdK-iFm0uUrMqCzs-S6L9Qlu-esre5djwXJPz-MjT7J3Tb_kmHA980mqrtbD6Pyy8JoRI8625Ms2NhxlDczIsGVd_8HAN1zndFECSTp_hLxTtbc4xCGDO6FcMqChgDn2rbO_UfHfI_cGzrzd9vfRuW9nhtCReEWcHjzzhqEpC6HgK7FMlrl2PdoZtL0u3l0SP8nY5r5ZGzVkFq4PQIDeeutRZckMRjWUPLOddbAmEsXbhH6y0Y07sXFQwTGABDCyiukXWQgxo1Zef738KbYIxLKg8Y8qwHffHyqpP5GAYs_cjAfCTKOpD4UqThx0LMpC6FH12P3kLSO4t9iEwBKwhn3WpIkjyXXRVLHXP5fPHzxBHWgVZD-U9DBxJvugW-2rEu6sJkN1ReXtABeV8Ajn6NvBhZnZ83UXKc76aOxORXEHxAAcgwB7kEEbRfuC1RP3MMyB9zQ6jXKwNExtFSbogSzse_uDLA1eT1mBvLcN50x1oB_9JZgdqQ2kCOSE2vJ95Hh1By-uHlza0klMV4RYhfTly0RYgkp3MM0Ai1EftgVPL1H5Khmgtv7ICTAitkqoxdMyEzJuJ6CWswn97ZePGMsiDMWz3vxhwz-QpQDJOdpmJHdAk318cx4H80b0MouaCD7HvewAUQw3NOdxsyI=s64",
      "userId": "11963971207796700413"
     },
     "user_tz": 300
    },
    "id": "fdpax2M0HmZO",
    "outputId": "a060c576-b976-44c3-e831-a745f93bda2c"
   },
   "outputs": [
    {
     "data": {
      "text/plain": [
       "Text(0.5, 1.0, 'SelectKBest with f_classif')"
      ]
     },
     "execution_count": 43,
     "metadata": {
      "tags": []
     },
     "output_type": "execute_result"
    },
    {
     "data": {
      "image/png": "[encoded data removed]",
      "text/plain": [
       "<Figure size 1152x360 with 1 Axes>"
      ]
     },
     "metadata": {
      "needs_background": "light",
      "tags": []
     },
     "output_type": "display_data"
    }
   ],
   "source": [
    "plt.rcParams[\"figure.figsize\"] = [16,5]\n",
    "plt.plot(features.importance.values)\n",
    "plt.xticks(np.arange(30),list(features.names))\n",
    "plt.xlabel(\"Feature\")\n",
    "plt.ylabel(\"f_classif score\")\n",
    "plt.title('SelectKBest with f_classif')"
   ]
  },
  {
   "cell_type": "markdown",
   "metadata": {
    "id": "tP0FahWV8t-C"
   },
   "source": [
    "#### mutual_info_classif"
   ]
  },
  {
   "cell_type": "code",
   "execution_count": 44,
   "metadata": {
    "executionInfo": {
     "elapsed": 583,
     "status": "ok",
     "timestamp": 1618095602158,
     "user": {
      "displayName": "AMYLKAR URREA MONTOYA",
      "photoUrl": "https://lh3.googleusercontent.com/a-/AOh14GgIJADRi0610WZ5MXeu3NO1-K951x4EDzVBxUAz0aNRqX-4eDB6KnTGq1JBYqTZF0MH1zHEyh6FFWTZ3hbuKfJSj6xi-NyTippwXkGu748oqA3I5SCRbdK-iFm0uUrMqCzs-S6L9Qlu-esre5djwXJPz-MjT7J3Tb_kmHA980mqrtbD6Pyy8JoRI8625Ms2NhxlDczIsGVd_8HAN1zndFECSTp_hLxTtbc4xCGDO6FcMqChgDn2rbO_UfHfI_cGzrzd9vfRuW9nhtCReEWcHjzzhqEpC6HgK7FMlrl2PdoZtL0u3l0SP8nY5r5ZGzVkFq4PQIDeeutRZckMRjWUPLOddbAmEsXbhH6y0Y07sXFQwTGABDCyiukXWQgxo1Zef738KbYIxLKg8Y8qwHffHyqpP5GAYs_cjAfCTKOpD4UqThx0LMpC6FH12P3kLSO4t9iEwBKwhn3WpIkjyXXRVLHXP5fPHzxBHWgVZD-U9DBxJvugW-2rEu6sJkN1ReXtABeV8Ajn6NvBhZnZ83UXKc76aOxORXEHxAAcgwB7kEEbRfuC1RP3MMyB9zQ6jXKwNExtFSbogSzse_uDLA1eT1mBvLcN50x1oB_9JZgdqQ2kCOSE2vJ95Hh1By-uHlza0klMV4RYhfTly0RYgkp3MM0Ai1EftgVPL1H5Khmgtv7ICTAitkqoxdMyEzJuJ6CWswn97ZePGMsiDMWz3vxhwz-QpQDJOdpmJHdAk318cx4H80b0MouaCD7HvewAUQw3NOdxsyI=s64",
      "userId": "11963971207796700413"
     },
     "user_tz": 300
    },
    "id": "t84NhGqzMxzl"
   },
   "outputs": [],
   "source": [
    "selector = SelectKBest(mutual_info_classif, k=4)\n",
    "selector.fit(x_train, y_train)\n",
    "\n",
    "names = np.array(list(x_train.columns))\n",
    "names = names.T\n",
    "names = names.tolist()\n",
    "\n",
    "importance = selector.scores_.T\n",
    "importance = importance.tolist()\n",
    "\n",
    "features = pd.DataFrame({\"names\":names, \"importance\":importance})\n",
    "features = features.sort_values(\"importance\",ascending=False)"
   ]
  },
  {
   "cell_type": "code",
   "execution_count": 45,
   "metadata": {
    "colab": {
     "base_uri": "https://localhost:8080/",
     "height": 367
    },
    "executionInfo": {
     "elapsed": 977,
     "status": "ok",
     "timestamp": 1618095603577,
     "user": {
      "displayName": "AMYLKAR URREA MONTOYA",
      "photoUrl": "https://lh3.googleusercontent.com/a-/AOh14GgIJADRi0610WZ5MXeu3NO1-K951x4EDzVBxUAz0aNRqX-4eDB6KnTGq1JBYqTZF0MH1zHEyh6FFWTZ3hbuKfJSj6xi-NyTippwXkGu748oqA3I5SCRbdK-iFm0uUrMqCzs-S6L9Qlu-esre5djwXJPz-MjT7J3Tb_kmHA980mqrtbD6Pyy8JoRI8625Ms2NhxlDczIsGVd_8HAN1zndFECSTp_hLxTtbc4xCGDO6FcMqChgDn2rbO_UfHfI_cGzrzd9vfRuW9nhtCReEWcHjzzhqEpC6HgK7FMlrl2PdoZtL0u3l0SP8nY5r5ZGzVkFq4PQIDeeutRZckMRjWUPLOddbAmEsXbhH6y0Y07sXFQwTGABDCyiukXWQgxo1Zef738KbYIxLKg8Y8qwHffHyqpP5GAYs_cjAfCTKOpD4UqThx0LMpC6FH12P3kLSO4t9iEwBKwhn3WpIkjyXXRVLHXP5fPHzxBHWgVZD-U9DBxJvugW-2rEu6sJkN1ReXtABeV8Ajn6NvBhZnZ83UXKc76aOxORXEHxAAcgwB7kEEbRfuC1RP3MMyB9zQ6jXKwNExtFSbogSzse_uDLA1eT1mBvLcN50x1oB_9JZgdqQ2kCOSE2vJ95Hh1By-uHlza0klMV4RYhfTly0RYgkp3MM0Ai1EftgVPL1H5Khmgtv7ICTAitkqoxdMyEzJuJ6CWswn97ZePGMsiDMWz3vxhwz-QpQDJOdpmJHdAk318cx4H80b0MouaCD7HvewAUQw3NOdxsyI=s64",
      "userId": "11963971207796700413"
     },
     "user_tz": 300
    },
    "id": "WNl2bNq481h1",
    "outputId": "8200c39a-1efb-4342-ed95-3e088a30d68d"
   },
   "outputs": [
    {
     "data": {
      "text/plain": [
       "Text(0.5, 1.0, 'SelectKBest with mutual_info_classif')"
      ]
     },
     "execution_count": 45,
     "metadata": {
      "tags": []
     },
     "output_type": "execute_result"
    },
    {
     "data": {
      "image/png": "[encoded data removed]",
      "text/plain": [
       "<Figure size 1152x360 with 1 Axes>"
      ]
     },
     "metadata": {
      "needs_background": "light",
      "tags": []
     },
     "output_type": "display_data"
    }
   ],
   "source": [
    "plt.rcParams[\"figure.figsize\"] = [16,5]\n",
    "plt.plot(features.importance.values)\n",
    "plt.xticks(np.arange(30),list(features.names))\n",
    "plt.xlabel(\"Feature\")\n",
    "plt.ylabel(\"mutual_info_classif score\")\n",
    "plt.title('SelectKBest with mutual_info_classif')"
   ]
  },
  {
   "cell_type": "markdown",
   "metadata": {
    "id": "8k_yKiW81fGj"
   },
   "source": [
    "### RandomForest to feature Selection"
   ]
  },
  {
   "cell_type": "code",
   "execution_count": 46,
   "metadata": {
    "executionInfo": {
     "elapsed": 1327,
     "status": "ok",
     "timestamp": 1618095610252,
     "user": {
      "displayName": "AMYLKAR URREA MONTOYA",
      "photoUrl": "https://lh3.googleusercontent.com/a-/AOh14GgIJADRi0610WZ5MXeu3NO1-K951x4EDzVBxUAz0aNRqX-4eDB6KnTGq1JBYqTZF0MH1zHEyh6FFWTZ3hbuKfJSj6xi-NyTippwXkGu748oqA3I5SCRbdK-iFm0uUrMqCzs-S6L9Qlu-esre5djwXJPz-MjT7J3Tb_kmHA980mqrtbD6Pyy8JoRI8625Ms2NhxlDczIsGVd_8HAN1zndFECSTp_hLxTtbc4xCGDO6FcMqChgDn2rbO_UfHfI_cGzrzd9vfRuW9nhtCReEWcHjzzhqEpC6HgK7FMlrl2PdoZtL0u3l0SP8nY5r5ZGzVkFq4PQIDeeutRZckMRjWUPLOddbAmEsXbhH6y0Y07sXFQwTGABDCyiukXWQgxo1Zef738KbYIxLKg8Y8qwHffHyqpP5GAYs_cjAfCTKOpD4UqThx0LMpC6FH12P3kLSO4t9iEwBKwhn3WpIkjyXXRVLHXP5fPHzxBHWgVZD-U9DBxJvugW-2rEu6sJkN1ReXtABeV8Ajn6NvBhZnZ83UXKc76aOxORXEHxAAcgwB7kEEbRfuC1RP3MMyB9zQ6jXKwNExtFSbogSzse_uDLA1eT1mBvLcN50x1oB_9JZgdqQ2kCOSE2vJ95Hh1By-uHlza0klMV4RYhfTly0RYgkp3MM0Ai1EftgVPL1H5Khmgtv7ICTAitkqoxdMyEzJuJ6CWswn97ZePGMsiDMWz3vxhwz-QpQDJOdpmJHdAk318cx4H80b0MouaCD7HvewAUQw3NOdxsyI=s64",
      "userId": "11963971207796700413"
     },
     "user_tz": 300
    },
    "id": "6g3Veu3v1oYg"
   },
   "outputs": [],
   "source": [
    "rf = RandomForestClassifier(n_estimators=300)\n",
    "rf.fit(x_train, y_train)\n",
    "\n",
    "names = np.array(list(x_train.columns))\n",
    "names = names.T\n",
    "names = names.tolist()\n",
    "\n",
    "importance = rf.feature_importances_.T\n",
    "importance = importance.tolist()\n",
    "\n",
    "features = pd.DataFrame({\"names\":names, \"importance\":importance})\n",
    "features = features.sort_values(\"importance\")"
   ]
  },
  {
   "cell_type": "code",
   "execution_count": 47,
   "metadata": {
    "colab": {
     "base_uri": "https://localhost:8080/",
     "height": 475
    },
    "executionInfo": {
     "elapsed": 851,
     "status": "ok",
     "timestamp": 1618095623889,
     "user": {
      "displayName": "AMYLKAR URREA MONTOYA",
      "photoUrl": "https://lh3.googleusercontent.com/a-/AOh14GgIJADRi0610WZ5MXeu3NO1-K951x4EDzVBxUAz0aNRqX-4eDB6KnTGq1JBYqTZF0MH1zHEyh6FFWTZ3hbuKfJSj6xi-NyTippwXkGu748oqA3I5SCRbdK-iFm0uUrMqCzs-S6L9Qlu-esre5djwXJPz-MjT7J3Tb_kmHA980mqrtbD6Pyy8JoRI8625Ms2NhxlDczIsGVd_8HAN1zndFECSTp_hLxTtbc4xCGDO6FcMqChgDn2rbO_UfHfI_cGzrzd9vfRuW9nhtCReEWcHjzzhqEpC6HgK7FMlrl2PdoZtL0u3l0SP8nY5r5ZGzVkFq4PQIDeeutRZckMRjWUPLOddbAmEsXbhH6y0Y07sXFQwTGABDCyiukXWQgxo1Zef738KbYIxLKg8Y8qwHffHyqpP5GAYs_cjAfCTKOpD4UqThx0LMpC6FH12P3kLSO4t9iEwBKwhn3WpIkjyXXRVLHXP5fPHzxBHWgVZD-U9DBxJvugW-2rEu6sJkN1ReXtABeV8Ajn6NvBhZnZ83UXKc76aOxORXEHxAAcgwB7kEEbRfuC1RP3MMyB9zQ6jXKwNExtFSbogSzse_uDLA1eT1mBvLcN50x1oB_9JZgdqQ2kCOSE2vJ95Hh1By-uHlza0klMV4RYhfTly0RYgkp3MM0Ai1EftgVPL1H5Khmgtv7ICTAitkqoxdMyEzJuJ6CWswn97ZePGMsiDMWz3vxhwz-QpQDJOdpmJHdAk318cx4H80b0MouaCD7HvewAUQw3NOdxsyI=s64",
      "userId": "11963971207796700413"
     },
     "user_tz": 300
    },
    "id": "xln1GmkI1op3",
    "outputId": "8985793c-cc48-4d0a-a844-1ee686f6f52d"
   },
   "outputs": [
    {
     "data": {
      "text/plain": [
       "Text(0.5, 1.0, 'RandomForest to feature selection')"
      ]
     },
     "execution_count": 47,
     "metadata": {
      "tags": []
     },
     "output_type": "execute_result"
    },
    {
     "data": {
      "image/png": "[encoded data removed]",
      "text/plain": [
       "<Figure size 1008x504 with 1 Axes>"
      ]
     },
     "metadata": {
      "needs_background": "light",
      "tags": []
     },
     "output_type": "display_data"
    }
   ],
   "source": [
    "plt.rcParams[\"figure.figsize\"] = [14,7]\n",
    "plt.barh(features.names.values, features.importance.values)\n",
    "plt.xlabel(\"importance\")\n",
    "plt.ylabel(\"Feature\")\n",
    "plt.title('RandomForest to feature selection')"
   ]
  },
  {
   "cell_type": "markdown",
   "metadata": {
    "id": "IBodpoIlmDC0"
   },
   "source": [
    "Top 10 of most important features according to every algorithm used."
   ]
  },
  {
   "cell_type": "markdown",
   "metadata": {
    "id": "Y5RUoKPk602r"
   },
   "source": [
    "mutual_info_classif: V14, V10, V17, V12, V11, V4, V16, V13, V7, V9"
   ]
  },
  {
   "cell_type": "markdown",
   "metadata": {
    "id": "5LBfwUzF7Psp"
   },
   "source": [
    "random_forest: V14, V10, V12, V4, V17, V11, V16, V3, V7, V18 "
   ]
  },
  {
   "cell_type": "markdown",
   "metadata": {
    "id": "oL67jgZV9ASC"
   },
   "source": [
    "f_classif : V14, V4, V12, V10, V16, V3, V9, V17, V2, V7"
   ]
  },
  {
   "cell_type": "markdown",
   "metadata": {
    "id": "38lBwmJTmSsi"
   },
   "source": [
    "According to the previous information, the next features where chosen"
   ]
  },
  {
   "cell_type": "code",
   "execution_count": 48,
   "metadata": {
    "executionInfo": {
     "elapsed": 372,
     "status": "ok",
     "timestamp": 1618095637155,
     "user": {
      "displayName": "AMYLKAR URREA MONTOYA",
      "photoUrl": "https://lh3.googleusercontent.com/a-/AOh14GgIJADRi0610WZ5MXeu3NO1-K951x4EDzVBxUAz0aNRqX-4eDB6KnTGq1JBYqTZF0MH1zHEyh6FFWTZ3hbuKfJSj6xi-NyTippwXkGu748oqA3I5SCRbdK-iFm0uUrMqCzs-S6L9Qlu-esre5djwXJPz-MjT7J3Tb_kmHA980mqrtbD6Pyy8JoRI8625Ms2NhxlDczIsGVd_8HAN1zndFECSTp_hLxTtbc4xCGDO6FcMqChgDn2rbO_UfHfI_cGzrzd9vfRuW9nhtCReEWcHjzzhqEpC6HgK7FMlrl2PdoZtL0u3l0SP8nY5r5ZGzVkFq4PQIDeeutRZckMRjWUPLOddbAmEsXbhH6y0Y07sXFQwTGABDCyiukXWQgxo1Zef738KbYIxLKg8Y8qwHffHyqpP5GAYs_cjAfCTKOpD4UqThx0LMpC6FH12P3kLSO4t9iEwBKwhn3WpIkjyXXRVLHXP5fPHzxBHWgVZD-U9DBxJvugW-2rEu6sJkN1ReXtABeV8Ajn6NvBhZnZ83UXKc76aOxORXEHxAAcgwB7kEEbRfuC1RP3MMyB9zQ6jXKwNExtFSbogSzse_uDLA1eT1mBvLcN50x1oB_9JZgdqQ2kCOSE2vJ95Hh1By-uHlza0klMV4RYhfTly0RYgkp3MM0Ai1EftgVPL1H5Khmgtv7ICTAitkqoxdMyEzJuJ6CWswn97ZePGMsiDMWz3vxhwz-QpQDJOdpmJHdAk318cx4H80b0MouaCD7HvewAUQw3NOdxsyI=s64",
      "userId": "11963971207796700413"
     },
     "user_tz": 300
    },
    "id": "jKpxUTGQEQvI"
   },
   "outputs": [],
   "source": [
    "x_train = x_train[[\"V14\", \"V17\", \"V4\", \"V10\", \"V12\", \"V11\", \"V3\", \"V16\", \"V7\"]]"
   ]
  },
  {
   "cell_type": "code",
   "execution_count": 49,
   "metadata": {
    "colab": {
     "base_uri": "https://localhost:8080/",
     "height": 229
    },
    "executionInfo": {
     "elapsed": 528,
     "status": "ok",
     "timestamp": 1618095638110,
     "user": {
      "displayName": "AMYLKAR URREA MONTOYA",
      "photoUrl": "https://lh3.googleusercontent.com/a-/AOh14GgIJADRi0610WZ5MXeu3NO1-K951x4EDzVBxUAz0aNRqX-4eDB6KnTGq1JBYqTZF0MH1zHEyh6FFWTZ3hbuKfJSj6xi-NyTippwXkGu748oqA3I5SCRbdK-iFm0uUrMqCzs-S6L9Qlu-esre5djwXJPz-MjT7J3Tb_kmHA980mqrtbD6Pyy8JoRI8625Ms2NhxlDczIsGVd_8HAN1zndFECSTp_hLxTtbc4xCGDO6FcMqChgDn2rbO_UfHfI_cGzrzd9vfRuW9nhtCReEWcHjzzhqEpC6HgK7FMlrl2PdoZtL0u3l0SP8nY5r5ZGzVkFq4PQIDeeutRZckMRjWUPLOddbAmEsXbhH6y0Y07sXFQwTGABDCyiukXWQgxo1Zef738KbYIxLKg8Y8qwHffHyqpP5GAYs_cjAfCTKOpD4UqThx0LMpC6FH12P3kLSO4t9iEwBKwhn3WpIkjyXXRVLHXP5fPHzxBHWgVZD-U9DBxJvugW-2rEu6sJkN1ReXtABeV8Ajn6NvBhZnZ83UXKc76aOxORXEHxAAcgwB7kEEbRfuC1RP3MMyB9zQ6jXKwNExtFSbogSzse_uDLA1eT1mBvLcN50x1oB_9JZgdqQ2kCOSE2vJ95Hh1By-uHlza0klMV4RYhfTly0RYgkp3MM0Ai1EftgVPL1H5Khmgtv7ICTAitkqoxdMyEzJuJ6CWswn97ZePGMsiDMWz3vxhwz-QpQDJOdpmJHdAk318cx4H80b0MouaCD7HvewAUQw3NOdxsyI=s64",
      "userId": "11963971207796700413"
     },
     "user_tz": 300
    },
    "id": "R3hG_8nMPgG0",
    "outputId": "e98ea1eb-fe89-4682-bc71-aae2e1598896"
   },
   "outputs": [
    {
     "data": {
      "text/html": [
       "<style  type=\"text/css\" >\n",
       "#T_904d1526_9a50_11eb_af4c_0242ac1c0002row0_col0,#T_904d1526_9a50_11eb_af4c_0242ac1c0002row1_col1,#T_904d1526_9a50_11eb_af4c_0242ac1c0002row2_col2,#T_904d1526_9a50_11eb_af4c_0242ac1c0002row3_col3,#T_904d1526_9a50_11eb_af4c_0242ac1c0002row4_col4,#T_904d1526_9a50_11eb_af4c_0242ac1c0002row5_col5,#T_904d1526_9a50_11eb_af4c_0242ac1c0002row6_col6,#T_904d1526_9a50_11eb_af4c_0242ac1c0002row7_col7,#T_904d1526_9a50_11eb_af4c_0242ac1c0002row8_col8{\n",
       "            background-color:  #b40426;\n",
       "            color:  #f1f1f1;\n",
       "            font-size:  8pt;\n",
       "        }#T_904d1526_9a50_11eb_af4c_0242ac1c0002row0_col1,#T_904d1526_9a50_11eb_af4c_0242ac1c0002row7_col6,#T_904d1526_9a50_11eb_af4c_0242ac1c0002row7_col8{\n",
       "            background-color:  #e36b54;\n",
       "            color:  #000000;\n",
       "            font-size:  8pt;\n",
       "        }#T_904d1526_9a50_11eb_af4c_0242ac1c0002row0_col2{\n",
       "            background-color:  #3f53c6;\n",
       "            color:  #f1f1f1;\n",
       "            font-size:  8pt;\n",
       "        }#T_904d1526_9a50_11eb_af4c_0242ac1c0002row0_col3,#T_904d1526_9a50_11eb_af4c_0242ac1c0002row8_col1{\n",
       "            background-color:  #df634e;\n",
       "            color:  #000000;\n",
       "            font-size:  8pt;\n",
       "        }#T_904d1526_9a50_11eb_af4c_0242ac1c0002row0_col4,#T_904d1526_9a50_11eb_af4c_0242ac1c0002row3_col4,#T_904d1526_9a50_11eb_af4c_0242ac1c0002row4_col0{\n",
       "            background-color:  #ca3b37;\n",
       "            color:  #f1f1f1;\n",
       "            font-size:  8pt;\n",
       "        }#T_904d1526_9a50_11eb_af4c_0242ac1c0002row0_col5,#T_904d1526_9a50_11eb_af4c_0242ac1c0002row2_col6,#T_904d1526_9a50_11eb_af4c_0242ac1c0002row2_col8,#T_904d1526_9a50_11eb_af4c_0242ac1c0002row4_col2,#T_904d1526_9a50_11eb_af4c_0242ac1c0002row4_col5,#T_904d1526_9a50_11eb_af4c_0242ac1c0002row5_col0,#T_904d1526_9a50_11eb_af4c_0242ac1c0002row5_col1,#T_904d1526_9a50_11eb_af4c_0242ac1c0002row5_col3,#T_904d1526_9a50_11eb_af4c_0242ac1c0002row5_col4,#T_904d1526_9a50_11eb_af4c_0242ac1c0002row5_col7{\n",
       "            background-color:  #3b4cc0;\n",
       "            color:  #f1f1f1;\n",
       "            font-size:  8pt;\n",
       "        }#T_904d1526_9a50_11eb_af4c_0242ac1c0002row0_col6{\n",
       "            background-color:  #eb7d62;\n",
       "            color:  #000000;\n",
       "            font-size:  8pt;\n",
       "        }#T_904d1526_9a50_11eb_af4c_0242ac1c0002row0_col7{\n",
       "            background-color:  #da5a49;\n",
       "            color:  #000000;\n",
       "            font-size:  8pt;\n",
       "        }#T_904d1526_9a50_11eb_af4c_0242ac1c0002row0_col8{\n",
       "            background-color:  #f59d7e;\n",
       "            color:  #000000;\n",
       "            font-size:  8pt;\n",
       "        }#T_904d1526_9a50_11eb_af4c_0242ac1c0002row1_col0,#T_904d1526_9a50_11eb_af4c_0242ac1c0002row8_col7{\n",
       "            background-color:  #e16751;\n",
       "            color:  #000000;\n",
       "            font-size:  8pt;\n",
       "        }#T_904d1526_9a50_11eb_af4c_0242ac1c0002row1_col2,#T_904d1526_9a50_11eb_af4c_0242ac1c0002row8_col2{\n",
       "            background-color:  #4e68d8;\n",
       "            color:  #000000;\n",
       "            font-size:  8pt;\n",
       "        }#T_904d1526_9a50_11eb_af4c_0242ac1c0002row1_col3,#T_904d1526_9a50_11eb_af4c_0242ac1c0002row3_col1,#T_904d1526_9a50_11eb_af4c_0242ac1c0002row3_col6,#T_904d1526_9a50_11eb_af4c_0242ac1c0002row6_col3{\n",
       "            background-color:  #d0473d;\n",
       "            color:  #f1f1f1;\n",
       "            font-size:  8pt;\n",
       "        }#T_904d1526_9a50_11eb_af4c_0242ac1c0002row1_col4,#T_904d1526_9a50_11eb_af4c_0242ac1c0002row4_col3{\n",
       "            background-color:  #cb3e38;\n",
       "            color:  #f1f1f1;\n",
       "            font-size:  8pt;\n",
       "        }#T_904d1526_9a50_11eb_af4c_0242ac1c0002row1_col5{\n",
       "            background-color:  #4f69d9;\n",
       "            color:  #000000;\n",
       "            font-size:  8pt;\n",
       "        }#T_904d1526_9a50_11eb_af4c_0242ac1c0002row1_col6,#T_904d1526_9a50_11eb_af4c_0242ac1c0002row6_col1,#T_904d1526_9a50_11eb_af4c_0242ac1c0002row6_col7{\n",
       "            background-color:  #e26952;\n",
       "            color:  #000000;\n",
       "            font-size:  8pt;\n",
       "        }#T_904d1526_9a50_11eb_af4c_0242ac1c0002row1_col7,#T_904d1526_9a50_11eb_af4c_0242ac1c0002row7_col1{\n",
       "            background-color:  #bd1f2d;\n",
       "            color:  #f1f1f1;\n",
       "            font-size:  8pt;\n",
       "        }#T_904d1526_9a50_11eb_af4c_0242ac1c0002row1_col8{\n",
       "            background-color:  #e0654f;\n",
       "            color:  #000000;\n",
       "            font-size:  8pt;\n",
       "        }#T_904d1526_9a50_11eb_af4c_0242ac1c0002row2_col0,#T_904d1526_9a50_11eb_af4c_0242ac1c0002row3_col5,#T_904d1526_9a50_11eb_af4c_0242ac1c0002row7_col2{\n",
       "            background-color:  #4a63d3;\n",
       "            color:  #f1f1f1;\n",
       "            font-size:  8pt;\n",
       "        }#T_904d1526_9a50_11eb_af4c_0242ac1c0002row2_col1,#T_904d1526_9a50_11eb_af4c_0242ac1c0002row5_col6{\n",
       "            background-color:  #445acc;\n",
       "            color:  #f1f1f1;\n",
       "            font-size:  8pt;\n",
       "        }#T_904d1526_9a50_11eb_af4c_0242ac1c0002row2_col3{\n",
       "            background-color:  #3c4ec2;\n",
       "            color:  #f1f1f1;\n",
       "            font-size:  8pt;\n",
       "        }#T_904d1526_9a50_11eb_af4c_0242ac1c0002row2_col4{\n",
       "            background-color:  #455cce;\n",
       "            color:  #f1f1f1;\n",
       "            font-size:  8pt;\n",
       "        }#T_904d1526_9a50_11eb_af4c_0242ac1c0002row2_col5{\n",
       "            background-color:  #d85646;\n",
       "            color:  #000000;\n",
       "            font-size:  8pt;\n",
       "        }#T_904d1526_9a50_11eb_af4c_0242ac1c0002row2_col7,#T_904d1526_9a50_11eb_af4c_0242ac1c0002row5_col8,#T_904d1526_9a50_11eb_af4c_0242ac1c0002row7_col5{\n",
       "            background-color:  #485fd1;\n",
       "            color:  #f1f1f1;\n",
       "            font-size:  8pt;\n",
       "        }#T_904d1526_9a50_11eb_af4c_0242ac1c0002row3_col0{\n",
       "            background-color:  #dd5f4b;\n",
       "            color:  #000000;\n",
       "            font-size:  8pt;\n",
       "        }#T_904d1526_9a50_11eb_af4c_0242ac1c0002row3_col2{\n",
       "            background-color:  #4055c8;\n",
       "            color:  #f1f1f1;\n",
       "            font-size:  8pt;\n",
       "        }#T_904d1526_9a50_11eb_af4c_0242ac1c0002row3_col7,#T_904d1526_9a50_11eb_af4c_0242ac1c0002row7_col3{\n",
       "            background-color:  #cf453c;\n",
       "            color:  #f1f1f1;\n",
       "            font-size:  8pt;\n",
       "        }#T_904d1526_9a50_11eb_af4c_0242ac1c0002row3_col8{\n",
       "            background-color:  #d24b40;\n",
       "            color:  #f1f1f1;\n",
       "            font-size:  8pt;\n",
       "        }#T_904d1526_9a50_11eb_af4c_0242ac1c0002row4_col1,#T_904d1526_9a50_11eb_af4c_0242ac1c0002row8_col6{\n",
       "            background-color:  #cc403a;\n",
       "            color:  #f1f1f1;\n",
       "            font-size:  8pt;\n",
       "        }#T_904d1526_9a50_11eb_af4c_0242ac1c0002row4_col6{\n",
       "            background-color:  #de614d;\n",
       "            color:  #000000;\n",
       "            font-size:  8pt;\n",
       "        }#T_904d1526_9a50_11eb_af4c_0242ac1c0002row4_col7{\n",
       "            background-color:  #c73635;\n",
       "            color:  #f1f1f1;\n",
       "            font-size:  8pt;\n",
       "        }#T_904d1526_9a50_11eb_af4c_0242ac1c0002row4_col8{\n",
       "            background-color:  #e7745b;\n",
       "            color:  #000000;\n",
       "            font-size:  8pt;\n",
       "        }#T_904d1526_9a50_11eb_af4c_0242ac1c0002row5_col2,#T_904d1526_9a50_11eb_af4c_0242ac1c0002row7_col0{\n",
       "            background-color:  #d95847;\n",
       "            color:  #000000;\n",
       "            font-size:  8pt;\n",
       "        }#T_904d1526_9a50_11eb_af4c_0242ac1c0002row6_col0{\n",
       "            background-color:  #e9785d;\n",
       "            color:  #000000;\n",
       "            font-size:  8pt;\n",
       "        }#T_904d1526_9a50_11eb_af4c_0242ac1c0002row6_col2{\n",
       "            background-color:  #4358cb;\n",
       "            color:  #f1f1f1;\n",
       "            font-size:  8pt;\n",
       "        }#T_904d1526_9a50_11eb_af4c_0242ac1c0002row6_col4{\n",
       "            background-color:  #dc5d4a;\n",
       "            color:  #000000;\n",
       "            font-size:  8pt;\n",
       "        }#T_904d1526_9a50_11eb_af4c_0242ac1c0002row6_col5{\n",
       "            background-color:  #5673e0;\n",
       "            color:  #000000;\n",
       "            font-size:  8pt;\n",
       "        }#T_904d1526_9a50_11eb_af4c_0242ac1c0002row6_col8{\n",
       "            background-color:  #cd423b;\n",
       "            color:  #f1f1f1;\n",
       "            font-size:  8pt;\n",
       "        }#T_904d1526_9a50_11eb_af4c_0242ac1c0002row7_col4{\n",
       "            background-color:  #c53334;\n",
       "            color:  #f1f1f1;\n",
       "            font-size:  8pt;\n",
       "        }#T_904d1526_9a50_11eb_af4c_0242ac1c0002row8_col0{\n",
       "            background-color:  #f39475;\n",
       "            color:  #000000;\n",
       "            font-size:  8pt;\n",
       "        }#T_904d1526_9a50_11eb_af4c_0242ac1c0002row8_col3{\n",
       "            background-color:  #d1493f;\n",
       "            color:  #f1f1f1;\n",
       "            font-size:  8pt;\n",
       "        }#T_904d1526_9a50_11eb_af4c_0242ac1c0002row8_col4{\n",
       "            background-color:  #e36c55;\n",
       "            color:  #000000;\n",
       "            font-size:  8pt;\n",
       "        }#T_904d1526_9a50_11eb_af4c_0242ac1c0002row8_col5{\n",
       "            background-color:  #6687ed;\n",
       "            color:  #000000;\n",
       "            font-size:  8pt;\n",
       "        }</style><table id=\"T_904d1526_9a50_11eb_af4c_0242ac1c0002\" ><thead>    <tr>        <th class=\"blank level0\" ></th>        <th class=\"col_heading level0 col0\" >V14</th>        <th class=\"col_heading level0 col1\" >V17</th>        <th class=\"col_heading level0 col2\" >V4</th>        <th class=\"col_heading level0 col3\" >V10</th>        <th class=\"col_heading level0 col4\" >V12</th>        <th class=\"col_heading level0 col5\" >V11</th>        <th class=\"col_heading level0 col6\" >V3</th>        <th class=\"col_heading level0 col7\" >V16</th>        <th class=\"col_heading level0 col8\" >V7</th>    </tr></thead><tbody>\n",
       "                <tr>\n",
       "                        <th id=\"T_904d1526_9a50_11eb_af4c_0242ac1c0002level0_row0\" class=\"row_heading level0 row0\" >V14</th>\n",
       "                        <td id=\"T_904d1526_9a50_11eb_af4c_0242ac1c0002row0_col0\" class=\"data row0 col0\" >1.00</td>\n",
       "                        <td id=\"T_904d1526_9a50_11eb_af4c_0242ac1c0002row0_col1\" class=\"data row0 col1\" >0.74</td>\n",
       "                        <td id=\"T_904d1526_9a50_11eb_af4c_0242ac1c0002row0_col2\" class=\"data row0 col2\" >-0.80</td>\n",
       "                        <td id=\"T_904d1526_9a50_11eb_af4c_0242ac1c0002row0_col3\" class=\"data row0 col3\" >0.76</td>\n",
       "                        <td id=\"T_904d1526_9a50_11eb_af4c_0242ac1c0002row0_col4\" class=\"data row0 col4\" >0.89</td>\n",
       "                        <td id=\"T_904d1526_9a50_11eb_af4c_0242ac1c0002row0_col5\" class=\"data row0 col5\" >-0.90</td>\n",
       "                        <td id=\"T_904d1526_9a50_11eb_af4c_0242ac1c0002row0_col6\" class=\"data row0 col6\" >0.67</td>\n",
       "                        <td id=\"T_904d1526_9a50_11eb_af4c_0242ac1c0002row0_col7\" class=\"data row0 col7\" >0.79</td>\n",
       "                        <td id=\"T_904d1526_9a50_11eb_af4c_0242ac1c0002row0_col8\" class=\"data row0 col8\" >0.55</td>\n",
       "            </tr>\n",
       "            <tr>\n",
       "                        <th id=\"T_904d1526_9a50_11eb_af4c_0242ac1c0002level0_row1\" class=\"row_heading level0 row1\" >V17</th>\n",
       "                        <td id=\"T_904d1526_9a50_11eb_af4c_0242ac1c0002row1_col0\" class=\"data row1 col0\" >0.74</td>\n",
       "                        <td id=\"T_904d1526_9a50_11eb_af4c_0242ac1c0002row1_col1\" class=\"data row1 col1\" >1.00</td>\n",
       "                        <td id=\"T_904d1526_9a50_11eb_af4c_0242ac1c0002row1_col2\" class=\"data row1 col2\" >-0.71</td>\n",
       "                        <td id=\"T_904d1526_9a50_11eb_af4c_0242ac1c0002row1_col3\" class=\"data row1 col3\" >0.86</td>\n",
       "                        <td id=\"T_904d1526_9a50_11eb_af4c_0242ac1c0002row1_col4\" class=\"data row1 col4\" >0.88</td>\n",
       "                        <td id=\"T_904d1526_9a50_11eb_af4c_0242ac1c0002row1_col5\" class=\"data row1 col5\" >-0.77</td>\n",
       "                        <td id=\"T_904d1526_9a50_11eb_af4c_0242ac1c0002row1_col6\" class=\"data row1 col6\" >0.74</td>\n",
       "                        <td id=\"T_904d1526_9a50_11eb_af4c_0242ac1c0002row1_col7\" class=\"data row1 col7\" >0.95</td>\n",
       "                        <td id=\"T_904d1526_9a50_11eb_af4c_0242ac1c0002row1_col8\" class=\"data row1 col8\" >0.77</td>\n",
       "            </tr>\n",
       "            <tr>\n",
       "                        <th id=\"T_904d1526_9a50_11eb_af4c_0242ac1c0002level0_row2\" class=\"row_heading level0 row2\" >V4</th>\n",
       "                        <td id=\"T_904d1526_9a50_11eb_af4c_0242ac1c0002row2_col0\" class=\"data row2 col0\" >-0.80</td>\n",
       "                        <td id=\"T_904d1526_9a50_11eb_af4c_0242ac1c0002row2_col1\" class=\"data row2 col1\" >-0.71</td>\n",
       "                        <td id=\"T_904d1526_9a50_11eb_af4c_0242ac1c0002row2_col2\" class=\"data row2 col2\" >1.00</td>\n",
       "                        <td id=\"T_904d1526_9a50_11eb_af4c_0242ac1c0002row2_col3\" class=\"data row2 col3\" >-0.79</td>\n",
       "                        <td id=\"T_904d1526_9a50_11eb_af4c_0242ac1c0002row2_col4\" class=\"data row2 col4\" >-0.83</td>\n",
       "                        <td id=\"T_904d1526_9a50_11eb_af4c_0242ac1c0002row2_col5\" class=\"data row2 col5\" >0.79</td>\n",
       "                        <td id=\"T_904d1526_9a50_11eb_af4c_0242ac1c0002row2_col6\" class=\"data row2 col6\" >-0.78</td>\n",
       "                        <td id=\"T_904d1526_9a50_11eb_af4c_0242ac1c0002row2_col7\" class=\"data row2 col7\" >-0.74</td>\n",
       "                        <td id=\"T_904d1526_9a50_11eb_af4c_0242ac1c0002row2_col8\" class=\"data row2 col8\" >-0.72</td>\n",
       "            </tr>\n",
       "            <tr>\n",
       "                        <th id=\"T_904d1526_9a50_11eb_af4c_0242ac1c0002level0_row3\" class=\"row_heading level0 row3\" >V10</th>\n",
       "                        <td id=\"T_904d1526_9a50_11eb_af4c_0242ac1c0002row3_col0\" class=\"data row3 col0\" >0.76</td>\n",
       "                        <td id=\"T_904d1526_9a50_11eb_af4c_0242ac1c0002row3_col1\" class=\"data row3 col1\" >0.86</td>\n",
       "                        <td id=\"T_904d1526_9a50_11eb_af4c_0242ac1c0002row3_col2\" class=\"data row3 col2\" >-0.79</td>\n",
       "                        <td id=\"T_904d1526_9a50_11eb_af4c_0242ac1c0002row3_col3\" class=\"data row3 col3\" >1.00</td>\n",
       "                        <td id=\"T_904d1526_9a50_11eb_af4c_0242ac1c0002row3_col4\" class=\"data row3 col4\" >0.88</td>\n",
       "                        <td id=\"T_904d1526_9a50_11eb_af4c_0242ac1c0002row3_col5\" class=\"data row3 col5\" >-0.80</td>\n",
       "                        <td id=\"T_904d1526_9a50_11eb_af4c_0242ac1c0002row3_col6\" class=\"data row3 col6\" >0.86</td>\n",
       "                        <td id=\"T_904d1526_9a50_11eb_af4c_0242ac1c0002row3_col7\" class=\"data row3 col7\" >0.86</td>\n",
       "                        <td id=\"T_904d1526_9a50_11eb_af4c_0242ac1c0002row3_col8\" class=\"data row3 col8\" >0.85</td>\n",
       "            </tr>\n",
       "            <tr>\n",
       "                        <th id=\"T_904d1526_9a50_11eb_af4c_0242ac1c0002level0_row4\" class=\"row_heading level0 row4\" >V12</th>\n",
       "                        <td id=\"T_904d1526_9a50_11eb_af4c_0242ac1c0002row4_col0\" class=\"data row4 col0\" >0.89</td>\n",
       "                        <td id=\"T_904d1526_9a50_11eb_af4c_0242ac1c0002row4_col1\" class=\"data row4 col1\" >0.88</td>\n",
       "                        <td id=\"T_904d1526_9a50_11eb_af4c_0242ac1c0002row4_col2\" class=\"data row4 col2\" >-0.83</td>\n",
       "                        <td id=\"T_904d1526_9a50_11eb_af4c_0242ac1c0002row4_col3\" class=\"data row4 col3\" >0.88</td>\n",
       "                        <td id=\"T_904d1526_9a50_11eb_af4c_0242ac1c0002row4_col4\" class=\"data row4 col4\" >1.00</td>\n",
       "                        <td id=\"T_904d1526_9a50_11eb_af4c_0242ac1c0002row4_col5\" class=\"data row4 col5\" >-0.90</td>\n",
       "                        <td id=\"T_904d1526_9a50_11eb_af4c_0242ac1c0002row4_col6\" class=\"data row4 col6\" >0.77</td>\n",
       "                        <td id=\"T_904d1526_9a50_11eb_af4c_0242ac1c0002row4_col7\" class=\"data row4 col7\" >0.91</td>\n",
       "                        <td id=\"T_904d1526_9a50_11eb_af4c_0242ac1c0002row4_col8\" class=\"data row4 col8\" >0.72</td>\n",
       "            </tr>\n",
       "            <tr>\n",
       "                        <th id=\"T_904d1526_9a50_11eb_af4c_0242ac1c0002level0_row5\" class=\"row_heading level0 row5\" >V11</th>\n",
       "                        <td id=\"T_904d1526_9a50_11eb_af4c_0242ac1c0002row5_col0\" class=\"data row5 col0\" >-0.90</td>\n",
       "                        <td id=\"T_904d1526_9a50_11eb_af4c_0242ac1c0002row5_col1\" class=\"data row5 col1\" >-0.77</td>\n",
       "                        <td id=\"T_904d1526_9a50_11eb_af4c_0242ac1c0002row5_col2\" class=\"data row5 col2\" >0.79</td>\n",
       "                        <td id=\"T_904d1526_9a50_11eb_af4c_0242ac1c0002row5_col3\" class=\"data row5 col3\" >-0.80</td>\n",
       "                        <td id=\"T_904d1526_9a50_11eb_af4c_0242ac1c0002row5_col4\" class=\"data row5 col4\" >-0.90</td>\n",
       "                        <td id=\"T_904d1526_9a50_11eb_af4c_0242ac1c0002row5_col5\" class=\"data row5 col5\" >1.00</td>\n",
       "                        <td id=\"T_904d1526_9a50_11eb_af4c_0242ac1c0002row5_col6\" class=\"data row5 col6\" >-0.72</td>\n",
       "                        <td id=\"T_904d1526_9a50_11eb_af4c_0242ac1c0002row5_col7\" class=\"data row5 col7\" >-0.82</td>\n",
       "                        <td id=\"T_904d1526_9a50_11eb_af4c_0242ac1c0002row5_col8\" class=\"data row5 col8\" >-0.64</td>\n",
       "            </tr>\n",
       "            <tr>\n",
       "                        <th id=\"T_904d1526_9a50_11eb_af4c_0242ac1c0002level0_row6\" class=\"row_heading level0 row6\" >V3</th>\n",
       "                        <td id=\"T_904d1526_9a50_11eb_af4c_0242ac1c0002row6_col0\" class=\"data row6 col0\" >0.67</td>\n",
       "                        <td id=\"T_904d1526_9a50_11eb_af4c_0242ac1c0002row6_col1\" class=\"data row6 col1\" >0.74</td>\n",
       "                        <td id=\"T_904d1526_9a50_11eb_af4c_0242ac1c0002row6_col2\" class=\"data row6 col2\" >-0.78</td>\n",
       "                        <td id=\"T_904d1526_9a50_11eb_af4c_0242ac1c0002row6_col3\" class=\"data row6 col3\" >0.86</td>\n",
       "                        <td id=\"T_904d1526_9a50_11eb_af4c_0242ac1c0002row6_col4\" class=\"data row6 col4\" >0.77</td>\n",
       "                        <td id=\"T_904d1526_9a50_11eb_af4c_0242ac1c0002row6_col5\" class=\"data row6 col5\" >-0.72</td>\n",
       "                        <td id=\"T_904d1526_9a50_11eb_af4c_0242ac1c0002row6_col6\" class=\"data row6 col6\" >1.00</td>\n",
       "                        <td id=\"T_904d1526_9a50_11eb_af4c_0242ac1c0002row6_col7\" class=\"data row6 col7\" >0.74</td>\n",
       "                        <td id=\"T_904d1526_9a50_11eb_af4c_0242ac1c0002row6_col8\" class=\"data row6 col8\" >0.88</td>\n",
       "            </tr>\n",
       "            <tr>\n",
       "                        <th id=\"T_904d1526_9a50_11eb_af4c_0242ac1c0002level0_row7\" class=\"row_heading level0 row7\" >V16</th>\n",
       "                        <td id=\"T_904d1526_9a50_11eb_af4c_0242ac1c0002row7_col0\" class=\"data row7 col0\" >0.79</td>\n",
       "                        <td id=\"T_904d1526_9a50_11eb_af4c_0242ac1c0002row7_col1\" class=\"data row7 col1\" >0.95</td>\n",
       "                        <td id=\"T_904d1526_9a50_11eb_af4c_0242ac1c0002row7_col2\" class=\"data row7 col2\" >-0.74</td>\n",
       "                        <td id=\"T_904d1526_9a50_11eb_af4c_0242ac1c0002row7_col3\" class=\"data row7 col3\" >0.86</td>\n",
       "                        <td id=\"T_904d1526_9a50_11eb_af4c_0242ac1c0002row7_col4\" class=\"data row7 col4\" >0.91</td>\n",
       "                        <td id=\"T_904d1526_9a50_11eb_af4c_0242ac1c0002row7_col5\" class=\"data row7 col5\" >-0.82</td>\n",
       "                        <td id=\"T_904d1526_9a50_11eb_af4c_0242ac1c0002row7_col6\" class=\"data row7 col6\" >0.74</td>\n",
       "                        <td id=\"T_904d1526_9a50_11eb_af4c_0242ac1c0002row7_col7\" class=\"data row7 col7\" >1.00</td>\n",
       "                        <td id=\"T_904d1526_9a50_11eb_af4c_0242ac1c0002row7_col8\" class=\"data row7 col8\" >0.75</td>\n",
       "            </tr>\n",
       "            <tr>\n",
       "                        <th id=\"T_904d1526_9a50_11eb_af4c_0242ac1c0002level0_row8\" class=\"row_heading level0 row8\" >V7</th>\n",
       "                        <td id=\"T_904d1526_9a50_11eb_af4c_0242ac1c0002row8_col0\" class=\"data row8 col0\" >0.55</td>\n",
       "                        <td id=\"T_904d1526_9a50_11eb_af4c_0242ac1c0002row8_col1\" class=\"data row8 col1\" >0.77</td>\n",
       "                        <td id=\"T_904d1526_9a50_11eb_af4c_0242ac1c0002row8_col2\" class=\"data row8 col2\" >-0.72</td>\n",
       "                        <td id=\"T_904d1526_9a50_11eb_af4c_0242ac1c0002row8_col3\" class=\"data row8 col3\" >0.85</td>\n",
       "                        <td id=\"T_904d1526_9a50_11eb_af4c_0242ac1c0002row8_col4\" class=\"data row8 col4\" >0.72</td>\n",
       "                        <td id=\"T_904d1526_9a50_11eb_af4c_0242ac1c0002row8_col5\" class=\"data row8 col5\" >-0.64</td>\n",
       "                        <td id=\"T_904d1526_9a50_11eb_af4c_0242ac1c0002row8_col6\" class=\"data row8 col6\" >0.88</td>\n",
       "                        <td id=\"T_904d1526_9a50_11eb_af4c_0242ac1c0002row8_col7\" class=\"data row8 col7\" >0.75</td>\n",
       "                        <td id=\"T_904d1526_9a50_11eb_af4c_0242ac1c0002row8_col8\" class=\"data row8 col8\" >1.00</td>\n",
       "            </tr>\n",
       "    </tbody></table>"
      ],
      "text/plain": [
       "<pandas.io.formats.style.Styler at 0x7f95d7519d50>"
      ]
     },
     "execution_count": 49,
     "metadata": {
      "tags": []
     },
     "output_type": "execute_result"
    }
   ],
   "source": [
    "corr = x_train.corr()\n",
    "corr.style.background_gradient(cmap='coolwarm').set_precision(2).set_properties(**{'font-size': '8pt'})"
   ]
  },
  {
   "cell_type": "markdown",
   "metadata": {
    "id": "8fLB29SVmetq"
   },
   "source": [
    "Due that there is a correlation of 95% between V16 and V17, it was decided to delete V16."
   ]
  },
  {
   "cell_type": "code",
   "execution_count": 50,
   "metadata": {
    "executionInfo": {
     "elapsed": 354,
     "status": "ok",
     "timestamp": 1618095643495,
     "user": {
      "displayName": "AMYLKAR URREA MONTOYA",
      "photoUrl": "https://lh3.googleusercontent.com/a-/AOh14GgIJADRi0610WZ5MXeu3NO1-K951x4EDzVBxUAz0aNRqX-4eDB6KnTGq1JBYqTZF0MH1zHEyh6FFWTZ3hbuKfJSj6xi-NyTippwXkGu748oqA3I5SCRbdK-iFm0uUrMqCzs-S6L9Qlu-esre5djwXJPz-MjT7J3Tb_kmHA980mqrtbD6Pyy8JoRI8625Ms2NhxlDczIsGVd_8HAN1zndFECSTp_hLxTtbc4xCGDO6FcMqChgDn2rbO_UfHfI_cGzrzd9vfRuW9nhtCReEWcHjzzhqEpC6HgK7FMlrl2PdoZtL0u3l0SP8nY5r5ZGzVkFq4PQIDeeutRZckMRjWUPLOddbAmEsXbhH6y0Y07sXFQwTGABDCyiukXWQgxo1Zef738KbYIxLKg8Y8qwHffHyqpP5GAYs_cjAfCTKOpD4UqThx0LMpC6FH12P3kLSO4t9iEwBKwhn3WpIkjyXXRVLHXP5fPHzxBHWgVZD-U9DBxJvugW-2rEu6sJkN1ReXtABeV8Ajn6NvBhZnZ83UXKc76aOxORXEHxAAcgwB7kEEbRfuC1RP3MMyB9zQ6jXKwNExtFSbogSzse_uDLA1eT1mBvLcN50x1oB_9JZgdqQ2kCOSE2vJ95Hh1By-uHlza0klMV4RYhfTly0RYgkp3MM0Ai1EftgVPL1H5Khmgtv7ICTAitkqoxdMyEzJuJ6CWswn97ZePGMsiDMWz3vxhwz-QpQDJOdpmJHdAk318cx4H80b0MouaCD7HvewAUQw3NOdxsyI=s64",
      "userId": "11963971207796700413"
     },
     "user_tz": 300
    },
    "id": "iOJR3DegE0R7"
   },
   "outputs": [],
   "source": [
    "x_train = x_train[[\"V14\", \"V17\", \"V4\", \"V10\", \"V12\", \"V11\", \"V3\", \"V7\"]]\n",
    "x_test = x_test[[\"V14\", \"V17\", \"V4\", \"V10\", \"V12\", \"V11\", \"V3\", \"V7\"]]"
   ]
  },
  {
   "cell_type": "code",
   "execution_count": 51,
   "metadata": {
    "colab": {
     "base_uri": "https://localhost:8080/",
     "height": 208
    },
    "executionInfo": {
     "elapsed": 336,
     "status": "ok",
     "timestamp": 1618095644745,
     "user": {
      "displayName": "AMYLKAR URREA MONTOYA",
      "photoUrl": "https://lh3.googleusercontent.com/a-/AOh14GgIJADRi0610WZ5MXeu3NO1-K951x4EDzVBxUAz0aNRqX-4eDB6KnTGq1JBYqTZF0MH1zHEyh6FFWTZ3hbuKfJSj6xi-NyTippwXkGu748oqA3I5SCRbdK-iFm0uUrMqCzs-S6L9Qlu-esre5djwXJPz-MjT7J3Tb_kmHA980mqrtbD6Pyy8JoRI8625Ms2NhxlDczIsGVd_8HAN1zndFECSTp_hLxTtbc4xCGDO6FcMqChgDn2rbO_UfHfI_cGzrzd9vfRuW9nhtCReEWcHjzzhqEpC6HgK7FMlrl2PdoZtL0u3l0SP8nY5r5ZGzVkFq4PQIDeeutRZckMRjWUPLOddbAmEsXbhH6y0Y07sXFQwTGABDCyiukXWQgxo1Zef738KbYIxLKg8Y8qwHffHyqpP5GAYs_cjAfCTKOpD4UqThx0LMpC6FH12P3kLSO4t9iEwBKwhn3WpIkjyXXRVLHXP5fPHzxBHWgVZD-U9DBxJvugW-2rEu6sJkN1ReXtABeV8Ajn6NvBhZnZ83UXKc76aOxORXEHxAAcgwB7kEEbRfuC1RP3MMyB9zQ6jXKwNExtFSbogSzse_uDLA1eT1mBvLcN50x1oB_9JZgdqQ2kCOSE2vJ95Hh1By-uHlza0klMV4RYhfTly0RYgkp3MM0Ai1EftgVPL1H5Khmgtv7ICTAitkqoxdMyEzJuJ6CWswn97ZePGMsiDMWz3vxhwz-QpQDJOdpmJHdAk318cx4H80b0MouaCD7HvewAUQw3NOdxsyI=s64",
      "userId": "11963971207796700413"
     },
     "user_tz": 300
    },
    "id": "Mucb9mR0E5Qr",
    "outputId": "a5bd9906-77b5-45d5-e30e-1315197c612c"
   },
   "outputs": [
    {
     "data": {
      "text/html": [
       "<style  type=\"text/css\" >\n",
       "#T_944b1902_9a50_11eb_af4c_0242ac1c0002row0_col0,#T_944b1902_9a50_11eb_af4c_0242ac1c0002row1_col1,#T_944b1902_9a50_11eb_af4c_0242ac1c0002row2_col2,#T_944b1902_9a50_11eb_af4c_0242ac1c0002row3_col3,#T_944b1902_9a50_11eb_af4c_0242ac1c0002row4_col4,#T_944b1902_9a50_11eb_af4c_0242ac1c0002row5_col5,#T_944b1902_9a50_11eb_af4c_0242ac1c0002row6_col6,#T_944b1902_9a50_11eb_af4c_0242ac1c0002row7_col7{\n",
       "            background-color:  #b40426;\n",
       "            color:  #f1f1f1;\n",
       "            font-size:  8pt;\n",
       "        }#T_944b1902_9a50_11eb_af4c_0242ac1c0002row0_col1{\n",
       "            background-color:  #e36b54;\n",
       "            color:  #000000;\n",
       "            font-size:  8pt;\n",
       "        }#T_944b1902_9a50_11eb_af4c_0242ac1c0002row0_col2{\n",
       "            background-color:  #3f53c6;\n",
       "            color:  #f1f1f1;\n",
       "            font-size:  8pt;\n",
       "        }#T_944b1902_9a50_11eb_af4c_0242ac1c0002row0_col3,#T_944b1902_9a50_11eb_af4c_0242ac1c0002row7_col1{\n",
       "            background-color:  #df634e;\n",
       "            color:  #000000;\n",
       "            font-size:  8pt;\n",
       "        }#T_944b1902_9a50_11eb_af4c_0242ac1c0002row0_col4,#T_944b1902_9a50_11eb_af4c_0242ac1c0002row3_col4,#T_944b1902_9a50_11eb_af4c_0242ac1c0002row4_col0{\n",
       "            background-color:  #ca3b37;\n",
       "            color:  #f1f1f1;\n",
       "            font-size:  8pt;\n",
       "        }#T_944b1902_9a50_11eb_af4c_0242ac1c0002row0_col5,#T_944b1902_9a50_11eb_af4c_0242ac1c0002row2_col6,#T_944b1902_9a50_11eb_af4c_0242ac1c0002row2_col7,#T_944b1902_9a50_11eb_af4c_0242ac1c0002row4_col2,#T_944b1902_9a50_11eb_af4c_0242ac1c0002row4_col5,#T_944b1902_9a50_11eb_af4c_0242ac1c0002row5_col0,#T_944b1902_9a50_11eb_af4c_0242ac1c0002row5_col1,#T_944b1902_9a50_11eb_af4c_0242ac1c0002row5_col3,#T_944b1902_9a50_11eb_af4c_0242ac1c0002row5_col4{\n",
       "            background-color:  #3b4cc0;\n",
       "            color:  #f1f1f1;\n",
       "            font-size:  8pt;\n",
       "        }#T_944b1902_9a50_11eb_af4c_0242ac1c0002row0_col6{\n",
       "            background-color:  #eb7d62;\n",
       "            color:  #000000;\n",
       "            font-size:  8pt;\n",
       "        }#T_944b1902_9a50_11eb_af4c_0242ac1c0002row0_col7{\n",
       "            background-color:  #f59d7e;\n",
       "            color:  #000000;\n",
       "            font-size:  8pt;\n",
       "        }#T_944b1902_9a50_11eb_af4c_0242ac1c0002row1_col0{\n",
       "            background-color:  #e16751;\n",
       "            color:  #000000;\n",
       "            font-size:  8pt;\n",
       "        }#T_944b1902_9a50_11eb_af4c_0242ac1c0002row1_col2,#T_944b1902_9a50_11eb_af4c_0242ac1c0002row7_col2{\n",
       "            background-color:  #4e68d8;\n",
       "            color:  #000000;\n",
       "            font-size:  8pt;\n",
       "        }#T_944b1902_9a50_11eb_af4c_0242ac1c0002row1_col3,#T_944b1902_9a50_11eb_af4c_0242ac1c0002row3_col1,#T_944b1902_9a50_11eb_af4c_0242ac1c0002row3_col6,#T_944b1902_9a50_11eb_af4c_0242ac1c0002row6_col3{\n",
       "            background-color:  #d0473d;\n",
       "            color:  #f1f1f1;\n",
       "            font-size:  8pt;\n",
       "        }#T_944b1902_9a50_11eb_af4c_0242ac1c0002row1_col4,#T_944b1902_9a50_11eb_af4c_0242ac1c0002row4_col3{\n",
       "            background-color:  #cb3e38;\n",
       "            color:  #f1f1f1;\n",
       "            font-size:  8pt;\n",
       "        }#T_944b1902_9a50_11eb_af4c_0242ac1c0002row1_col5{\n",
       "            background-color:  #4f69d9;\n",
       "            color:  #000000;\n",
       "            font-size:  8pt;\n",
       "        }#T_944b1902_9a50_11eb_af4c_0242ac1c0002row1_col6,#T_944b1902_9a50_11eb_af4c_0242ac1c0002row6_col1{\n",
       "            background-color:  #e26952;\n",
       "            color:  #000000;\n",
       "            font-size:  8pt;\n",
       "        }#T_944b1902_9a50_11eb_af4c_0242ac1c0002row1_col7{\n",
       "            background-color:  #e0654f;\n",
       "            color:  #000000;\n",
       "            font-size:  8pt;\n",
       "        }#T_944b1902_9a50_11eb_af4c_0242ac1c0002row2_col0,#T_944b1902_9a50_11eb_af4c_0242ac1c0002row3_col5{\n",
       "            background-color:  #4a63d3;\n",
       "            color:  #f1f1f1;\n",
       "            font-size:  8pt;\n",
       "        }#T_944b1902_9a50_11eb_af4c_0242ac1c0002row2_col1,#T_944b1902_9a50_11eb_af4c_0242ac1c0002row5_col6{\n",
       "            background-color:  #445acc;\n",
       "            color:  #f1f1f1;\n",
       "            font-size:  8pt;\n",
       "        }#T_944b1902_9a50_11eb_af4c_0242ac1c0002row2_col3{\n",
       "            background-color:  #3c4ec2;\n",
       "            color:  #f1f1f1;\n",
       "            font-size:  8pt;\n",
       "        }#T_944b1902_9a50_11eb_af4c_0242ac1c0002row2_col4{\n",
       "            background-color:  #455cce;\n",
       "            color:  #f1f1f1;\n",
       "            font-size:  8pt;\n",
       "        }#T_944b1902_9a50_11eb_af4c_0242ac1c0002row2_col5{\n",
       "            background-color:  #d85646;\n",
       "            color:  #000000;\n",
       "            font-size:  8pt;\n",
       "        }#T_944b1902_9a50_11eb_af4c_0242ac1c0002row3_col0{\n",
       "            background-color:  #dd5f4b;\n",
       "            color:  #000000;\n",
       "            font-size:  8pt;\n",
       "        }#T_944b1902_9a50_11eb_af4c_0242ac1c0002row3_col2{\n",
       "            background-color:  #4055c8;\n",
       "            color:  #f1f1f1;\n",
       "            font-size:  8pt;\n",
       "        }#T_944b1902_9a50_11eb_af4c_0242ac1c0002row3_col7{\n",
       "            background-color:  #d24b40;\n",
       "            color:  #f1f1f1;\n",
       "            font-size:  8pt;\n",
       "        }#T_944b1902_9a50_11eb_af4c_0242ac1c0002row4_col1,#T_944b1902_9a50_11eb_af4c_0242ac1c0002row7_col6{\n",
       "            background-color:  #cc403a;\n",
       "            color:  #f1f1f1;\n",
       "            font-size:  8pt;\n",
       "        }#T_944b1902_9a50_11eb_af4c_0242ac1c0002row4_col6{\n",
       "            background-color:  #de614d;\n",
       "            color:  #000000;\n",
       "            font-size:  8pt;\n",
       "        }#T_944b1902_9a50_11eb_af4c_0242ac1c0002row4_col7{\n",
       "            background-color:  #e7745b;\n",
       "            color:  #000000;\n",
       "            font-size:  8pt;\n",
       "        }#T_944b1902_9a50_11eb_af4c_0242ac1c0002row5_col2{\n",
       "            background-color:  #d95847;\n",
       "            color:  #000000;\n",
       "            font-size:  8pt;\n",
       "        }#T_944b1902_9a50_11eb_af4c_0242ac1c0002row5_col7{\n",
       "            background-color:  #485fd1;\n",
       "            color:  #f1f1f1;\n",
       "            font-size:  8pt;\n",
       "        }#T_944b1902_9a50_11eb_af4c_0242ac1c0002row6_col0{\n",
       "            background-color:  #e9785d;\n",
       "            color:  #000000;\n",
       "            font-size:  8pt;\n",
       "        }#T_944b1902_9a50_11eb_af4c_0242ac1c0002row6_col2{\n",
       "            background-color:  #4358cb;\n",
       "            color:  #f1f1f1;\n",
       "            font-size:  8pt;\n",
       "        }#T_944b1902_9a50_11eb_af4c_0242ac1c0002row6_col4{\n",
       "            background-color:  #dc5d4a;\n",
       "            color:  #000000;\n",
       "            font-size:  8pt;\n",
       "        }#T_944b1902_9a50_11eb_af4c_0242ac1c0002row6_col5{\n",
       "            background-color:  #5673e0;\n",
       "            color:  #000000;\n",
       "            font-size:  8pt;\n",
       "        }#T_944b1902_9a50_11eb_af4c_0242ac1c0002row6_col7{\n",
       "            background-color:  #cd423b;\n",
       "            color:  #f1f1f1;\n",
       "            font-size:  8pt;\n",
       "        }#T_944b1902_9a50_11eb_af4c_0242ac1c0002row7_col0{\n",
       "            background-color:  #f39475;\n",
       "            color:  #000000;\n",
       "            font-size:  8pt;\n",
       "        }#T_944b1902_9a50_11eb_af4c_0242ac1c0002row7_col3{\n",
       "            background-color:  #d1493f;\n",
       "            color:  #f1f1f1;\n",
       "            font-size:  8pt;\n",
       "        }#T_944b1902_9a50_11eb_af4c_0242ac1c0002row7_col4{\n",
       "            background-color:  #e36c55;\n",
       "            color:  #000000;\n",
       "            font-size:  8pt;\n",
       "        }#T_944b1902_9a50_11eb_af4c_0242ac1c0002row7_col5{\n",
       "            background-color:  #6687ed;\n",
       "            color:  #000000;\n",
       "            font-size:  8pt;\n",
       "        }</style><table id=\"T_944b1902_9a50_11eb_af4c_0242ac1c0002\" ><thead>    <tr>        <th class=\"blank level0\" ></th>        <th class=\"col_heading level0 col0\" >V14</th>        <th class=\"col_heading level0 col1\" >V17</th>        <th class=\"col_heading level0 col2\" >V4</th>        <th class=\"col_heading level0 col3\" >V10</th>        <th class=\"col_heading level0 col4\" >V12</th>        <th class=\"col_heading level0 col5\" >V11</th>        <th class=\"col_heading level0 col6\" >V3</th>        <th class=\"col_heading level0 col7\" >V7</th>    </tr></thead><tbody>\n",
       "                <tr>\n",
       "                        <th id=\"T_944b1902_9a50_11eb_af4c_0242ac1c0002level0_row0\" class=\"row_heading level0 row0\" >V14</th>\n",
       "                        <td id=\"T_944b1902_9a50_11eb_af4c_0242ac1c0002row0_col0\" class=\"data row0 col0\" >1.00</td>\n",
       "                        <td id=\"T_944b1902_9a50_11eb_af4c_0242ac1c0002row0_col1\" class=\"data row0 col1\" >0.74</td>\n",
       "                        <td id=\"T_944b1902_9a50_11eb_af4c_0242ac1c0002row0_col2\" class=\"data row0 col2\" >-0.80</td>\n",
       "                        <td id=\"T_944b1902_9a50_11eb_af4c_0242ac1c0002row0_col3\" class=\"data row0 col3\" >0.76</td>\n",
       "                        <td id=\"T_944b1902_9a50_11eb_af4c_0242ac1c0002row0_col4\" class=\"data row0 col4\" >0.89</td>\n",
       "                        <td id=\"T_944b1902_9a50_11eb_af4c_0242ac1c0002row0_col5\" class=\"data row0 col5\" >-0.90</td>\n",
       "                        <td id=\"T_944b1902_9a50_11eb_af4c_0242ac1c0002row0_col6\" class=\"data row0 col6\" >0.67</td>\n",
       "                        <td id=\"T_944b1902_9a50_11eb_af4c_0242ac1c0002row0_col7\" class=\"data row0 col7\" >0.55</td>\n",
       "            </tr>\n",
       "            <tr>\n",
       "                        <th id=\"T_944b1902_9a50_11eb_af4c_0242ac1c0002level0_row1\" class=\"row_heading level0 row1\" >V17</th>\n",
       "                        <td id=\"T_944b1902_9a50_11eb_af4c_0242ac1c0002row1_col0\" class=\"data row1 col0\" >0.74</td>\n",
       "                        <td id=\"T_944b1902_9a50_11eb_af4c_0242ac1c0002row1_col1\" class=\"data row1 col1\" >1.00</td>\n",
       "                        <td id=\"T_944b1902_9a50_11eb_af4c_0242ac1c0002row1_col2\" class=\"data row1 col2\" >-0.71</td>\n",
       "                        <td id=\"T_944b1902_9a50_11eb_af4c_0242ac1c0002row1_col3\" class=\"data row1 col3\" >0.86</td>\n",
       "                        <td id=\"T_944b1902_9a50_11eb_af4c_0242ac1c0002row1_col4\" class=\"data row1 col4\" >0.88</td>\n",
       "                        <td id=\"T_944b1902_9a50_11eb_af4c_0242ac1c0002row1_col5\" class=\"data row1 col5\" >-0.77</td>\n",
       "                        <td id=\"T_944b1902_9a50_11eb_af4c_0242ac1c0002row1_col6\" class=\"data row1 col6\" >0.74</td>\n",
       "                        <td id=\"T_944b1902_9a50_11eb_af4c_0242ac1c0002row1_col7\" class=\"data row1 col7\" >0.77</td>\n",
       "            </tr>\n",
       "            <tr>\n",
       "                        <th id=\"T_944b1902_9a50_11eb_af4c_0242ac1c0002level0_row2\" class=\"row_heading level0 row2\" >V4</th>\n",
       "                        <td id=\"T_944b1902_9a50_11eb_af4c_0242ac1c0002row2_col0\" class=\"data row2 col0\" >-0.80</td>\n",
       "                        <td id=\"T_944b1902_9a50_11eb_af4c_0242ac1c0002row2_col1\" class=\"data row2 col1\" >-0.71</td>\n",
       "                        <td id=\"T_944b1902_9a50_11eb_af4c_0242ac1c0002row2_col2\" class=\"data row2 col2\" >1.00</td>\n",
       "                        <td id=\"T_944b1902_9a50_11eb_af4c_0242ac1c0002row2_col3\" class=\"data row2 col3\" >-0.79</td>\n",
       "                        <td id=\"T_944b1902_9a50_11eb_af4c_0242ac1c0002row2_col4\" class=\"data row2 col4\" >-0.83</td>\n",
       "                        <td id=\"T_944b1902_9a50_11eb_af4c_0242ac1c0002row2_col5\" class=\"data row2 col5\" >0.79</td>\n",
       "                        <td id=\"T_944b1902_9a50_11eb_af4c_0242ac1c0002row2_col6\" class=\"data row2 col6\" >-0.78</td>\n",
       "                        <td id=\"T_944b1902_9a50_11eb_af4c_0242ac1c0002row2_col7\" class=\"data row2 col7\" >-0.72</td>\n",
       "            </tr>\n",
       "            <tr>\n",
       "                        <th id=\"T_944b1902_9a50_11eb_af4c_0242ac1c0002level0_row3\" class=\"row_heading level0 row3\" >V10</th>\n",
       "                        <td id=\"T_944b1902_9a50_11eb_af4c_0242ac1c0002row3_col0\" class=\"data row3 col0\" >0.76</td>\n",
       "                        <td id=\"T_944b1902_9a50_11eb_af4c_0242ac1c0002row3_col1\" class=\"data row3 col1\" >0.86</td>\n",
       "                        <td id=\"T_944b1902_9a50_11eb_af4c_0242ac1c0002row3_col2\" class=\"data row3 col2\" >-0.79</td>\n",
       "                        <td id=\"T_944b1902_9a50_11eb_af4c_0242ac1c0002row3_col3\" class=\"data row3 col3\" >1.00</td>\n",
       "                        <td id=\"T_944b1902_9a50_11eb_af4c_0242ac1c0002row3_col4\" class=\"data row3 col4\" >0.88</td>\n",
       "                        <td id=\"T_944b1902_9a50_11eb_af4c_0242ac1c0002row3_col5\" class=\"data row3 col5\" >-0.80</td>\n",
       "                        <td id=\"T_944b1902_9a50_11eb_af4c_0242ac1c0002row3_col6\" class=\"data row3 col6\" >0.86</td>\n",
       "                        <td id=\"T_944b1902_9a50_11eb_af4c_0242ac1c0002row3_col7\" class=\"data row3 col7\" >0.85</td>\n",
       "            </tr>\n",
       "            <tr>\n",
       "                        <th id=\"T_944b1902_9a50_11eb_af4c_0242ac1c0002level0_row4\" class=\"row_heading level0 row4\" >V12</th>\n",
       "                        <td id=\"T_944b1902_9a50_11eb_af4c_0242ac1c0002row4_col0\" class=\"data row4 col0\" >0.89</td>\n",
       "                        <td id=\"T_944b1902_9a50_11eb_af4c_0242ac1c0002row4_col1\" class=\"data row4 col1\" >0.88</td>\n",
       "                        <td id=\"T_944b1902_9a50_11eb_af4c_0242ac1c0002row4_col2\" class=\"data row4 col2\" >-0.83</td>\n",
       "                        <td id=\"T_944b1902_9a50_11eb_af4c_0242ac1c0002row4_col3\" class=\"data row4 col3\" >0.88</td>\n",
       "                        <td id=\"T_944b1902_9a50_11eb_af4c_0242ac1c0002row4_col4\" class=\"data row4 col4\" >1.00</td>\n",
       "                        <td id=\"T_944b1902_9a50_11eb_af4c_0242ac1c0002row4_col5\" class=\"data row4 col5\" >-0.90</td>\n",
       "                        <td id=\"T_944b1902_9a50_11eb_af4c_0242ac1c0002row4_col6\" class=\"data row4 col6\" >0.77</td>\n",
       "                        <td id=\"T_944b1902_9a50_11eb_af4c_0242ac1c0002row4_col7\" class=\"data row4 col7\" >0.72</td>\n",
       "            </tr>\n",
       "            <tr>\n",
       "                        <th id=\"T_944b1902_9a50_11eb_af4c_0242ac1c0002level0_row5\" class=\"row_heading level0 row5\" >V11</th>\n",
       "                        <td id=\"T_944b1902_9a50_11eb_af4c_0242ac1c0002row5_col0\" class=\"data row5 col0\" >-0.90</td>\n",
       "                        <td id=\"T_944b1902_9a50_11eb_af4c_0242ac1c0002row5_col1\" class=\"data row5 col1\" >-0.77</td>\n",
       "                        <td id=\"T_944b1902_9a50_11eb_af4c_0242ac1c0002row5_col2\" class=\"data row5 col2\" >0.79</td>\n",
       "                        <td id=\"T_944b1902_9a50_11eb_af4c_0242ac1c0002row5_col3\" class=\"data row5 col3\" >-0.80</td>\n",
       "                        <td id=\"T_944b1902_9a50_11eb_af4c_0242ac1c0002row5_col4\" class=\"data row5 col4\" >-0.90</td>\n",
       "                        <td id=\"T_944b1902_9a50_11eb_af4c_0242ac1c0002row5_col5\" class=\"data row5 col5\" >1.00</td>\n",
       "                        <td id=\"T_944b1902_9a50_11eb_af4c_0242ac1c0002row5_col6\" class=\"data row5 col6\" >-0.72</td>\n",
       "                        <td id=\"T_944b1902_9a50_11eb_af4c_0242ac1c0002row5_col7\" class=\"data row5 col7\" >-0.64</td>\n",
       "            </tr>\n",
       "            <tr>\n",
       "                        <th id=\"T_944b1902_9a50_11eb_af4c_0242ac1c0002level0_row6\" class=\"row_heading level0 row6\" >V3</th>\n",
       "                        <td id=\"T_944b1902_9a50_11eb_af4c_0242ac1c0002row6_col0\" class=\"data row6 col0\" >0.67</td>\n",
       "                        <td id=\"T_944b1902_9a50_11eb_af4c_0242ac1c0002row6_col1\" class=\"data row6 col1\" >0.74</td>\n",
       "                        <td id=\"T_944b1902_9a50_11eb_af4c_0242ac1c0002row6_col2\" class=\"data row6 col2\" >-0.78</td>\n",
       "                        <td id=\"T_944b1902_9a50_11eb_af4c_0242ac1c0002row6_col3\" class=\"data row6 col3\" >0.86</td>\n",
       "                        <td id=\"T_944b1902_9a50_11eb_af4c_0242ac1c0002row6_col4\" class=\"data row6 col4\" >0.77</td>\n",
       "                        <td id=\"T_944b1902_9a50_11eb_af4c_0242ac1c0002row6_col5\" class=\"data row6 col5\" >-0.72</td>\n",
       "                        <td id=\"T_944b1902_9a50_11eb_af4c_0242ac1c0002row6_col6\" class=\"data row6 col6\" >1.00</td>\n",
       "                        <td id=\"T_944b1902_9a50_11eb_af4c_0242ac1c0002row6_col7\" class=\"data row6 col7\" >0.88</td>\n",
       "            </tr>\n",
       "            <tr>\n",
       "                        <th id=\"T_944b1902_9a50_11eb_af4c_0242ac1c0002level0_row7\" class=\"row_heading level0 row7\" >V7</th>\n",
       "                        <td id=\"T_944b1902_9a50_11eb_af4c_0242ac1c0002row7_col0\" class=\"data row7 col0\" >0.55</td>\n",
       "                        <td id=\"T_944b1902_9a50_11eb_af4c_0242ac1c0002row7_col1\" class=\"data row7 col1\" >0.77</td>\n",
       "                        <td id=\"T_944b1902_9a50_11eb_af4c_0242ac1c0002row7_col2\" class=\"data row7 col2\" >-0.72</td>\n",
       "                        <td id=\"T_944b1902_9a50_11eb_af4c_0242ac1c0002row7_col3\" class=\"data row7 col3\" >0.85</td>\n",
       "                        <td id=\"T_944b1902_9a50_11eb_af4c_0242ac1c0002row7_col4\" class=\"data row7 col4\" >0.72</td>\n",
       "                        <td id=\"T_944b1902_9a50_11eb_af4c_0242ac1c0002row7_col5\" class=\"data row7 col5\" >-0.64</td>\n",
       "                        <td id=\"T_944b1902_9a50_11eb_af4c_0242ac1c0002row7_col6\" class=\"data row7 col6\" >0.88</td>\n",
       "                        <td id=\"T_944b1902_9a50_11eb_af4c_0242ac1c0002row7_col7\" class=\"data row7 col7\" >1.00</td>\n",
       "            </tr>\n",
       "    </tbody></table>"
      ],
      "text/plain": [
       "<pandas.io.formats.style.Styler at 0x7f95d7190650>"
      ]
     },
     "execution_count": 51,
     "metadata": {
      "tags": []
     },
     "output_type": "execute_result"
    }
   ],
   "source": [
    "corr = x_train.corr()\n",
    "corr.style.background_gradient(cmap='coolwarm').set_precision(2).set_properties(**{'font-size': '8pt'})"
   ]
  },
  {
   "cell_type": "markdown",
   "metadata": {
    "id": "ulcBhMSVF8M2"
   },
   "source": [
    "## Modeling"
   ]
  },
  {
   "cell_type": "markdown",
   "metadata": {
    "id": "M2lTZxxBmurK"
   },
   "source": [
    "At this point 5 classifiers were used and at the end one of them is chosen according to its performance"
   ]
  },
  {
   "cell_type": "code",
   "execution_count": 52,
   "metadata": {
    "executionInfo": {
     "elapsed": 365,
     "status": "ok",
     "timestamp": 1618095660588,
     "user": {
      "displayName": "AMYLKAR URREA MONTOYA",
      "photoUrl": "https://lh3.googleusercontent.com/a-/AOh14GgIJADRi0610WZ5MXeu3NO1-K951x4EDzVBxUAz0aNRqX-4eDB6KnTGq1JBYqTZF0MH1zHEyh6FFWTZ3hbuKfJSj6xi-NyTippwXkGu748oqA3I5SCRbdK-iFm0uUrMqCzs-S6L9Qlu-esre5djwXJPz-MjT7J3Tb_kmHA980mqrtbD6Pyy8JoRI8625Ms2NhxlDczIsGVd_8HAN1zndFECSTp_hLxTtbc4xCGDO6FcMqChgDn2rbO_UfHfI_cGzrzd9vfRuW9nhtCReEWcHjzzhqEpC6HgK7FMlrl2PdoZtL0u3l0SP8nY5r5ZGzVkFq4PQIDeeutRZckMRjWUPLOddbAmEsXbhH6y0Y07sXFQwTGABDCyiukXWQgxo1Zef738KbYIxLKg8Y8qwHffHyqpP5GAYs_cjAfCTKOpD4UqThx0LMpC6FH12P3kLSO4t9iEwBKwhn3WpIkjyXXRVLHXP5fPHzxBHWgVZD-U9DBxJvugW-2rEu6sJkN1ReXtABeV8Ajn6NvBhZnZ83UXKc76aOxORXEHxAAcgwB7kEEbRfuC1RP3MMyB9zQ6jXKwNExtFSbogSzse_uDLA1eT1mBvLcN50x1oB_9JZgdqQ2kCOSE2vJ95Hh1By-uHlza0klMV4RYhfTly0RYgkp3MM0Ai1EftgVPL1H5Khmgtv7ICTAitkqoxdMyEzJuJ6CWswn97ZePGMsiDMWz3vxhwz-QpQDJOdpmJHdAk318cx4H80b0MouaCD7HvewAUQw3NOdxsyI=s64",
      "userId": "11963971207796700413"
     },
     "user_tz": 300
    },
    "id": "YWxP45p6F8Xu"
   },
   "outputs": [],
   "source": [
    "from sklearn.model_selection import cross_validate\n",
    "from sklearn.linear_model import LogisticRegression\n",
    "from sklearn.tree import DecisionTreeClassifier\n",
    "from sklearn.neighbors import KNeighborsClassifier\n",
    "from sklearn.naive_bayes import GaussianNB\n",
    "from sklearn.svm import SVC"
   ]
  },
  {
   "cell_type": "code",
   "execution_count": 53,
   "metadata": {
    "executionInfo": {
     "elapsed": 255,
     "status": "ok",
     "timestamp": 1618095661456,
     "user": {
      "displayName": "AMYLKAR URREA MONTOYA",
      "photoUrl": "https://lh3.googleusercontent.com/a-/AOh14GgIJADRi0610WZ5MXeu3NO1-K951x4EDzVBxUAz0aNRqX-4eDB6KnTGq1JBYqTZF0MH1zHEyh6FFWTZ3hbuKfJSj6xi-NyTippwXkGu748oqA3I5SCRbdK-iFm0uUrMqCzs-S6L9Qlu-esre5djwXJPz-MjT7J3Tb_kmHA980mqrtbD6Pyy8JoRI8625Ms2NhxlDczIsGVd_8HAN1zndFECSTp_hLxTtbc4xCGDO6FcMqChgDn2rbO_UfHfI_cGzrzd9vfRuW9nhtCReEWcHjzzhqEpC6HgK7FMlrl2PdoZtL0u3l0SP8nY5r5ZGzVkFq4PQIDeeutRZckMRjWUPLOddbAmEsXbhH6y0Y07sXFQwTGABDCyiukXWQgxo1Zef738KbYIxLKg8Y8qwHffHyqpP5GAYs_cjAfCTKOpD4UqThx0LMpC6FH12P3kLSO4t9iEwBKwhn3WpIkjyXXRVLHXP5fPHzxBHWgVZD-U9DBxJvugW-2rEu6sJkN1ReXtABeV8Ajn6NvBhZnZ83UXKc76aOxORXEHxAAcgwB7kEEbRfuC1RP3MMyB9zQ6jXKwNExtFSbogSzse_uDLA1eT1mBvLcN50x1oB_9JZgdqQ2kCOSE2vJ95Hh1By-uHlza0klMV4RYhfTly0RYgkp3MM0Ai1EftgVPL1H5Khmgtv7ICTAitkqoxdMyEzJuJ6CWswn97ZePGMsiDMWz3vxhwz-QpQDJOdpmJHdAk318cx4H80b0MouaCD7HvewAUQw3NOdxsyI=s64",
      "userId": "11963971207796700413"
     },
     "user_tz": 300
    },
    "id": "H5sI60A7F8ea"
   },
   "outputs": [],
   "source": [
    "models = []\n",
    "models.append(('LR', LogisticRegression()))\n",
    "models.append(('KNN', KNeighborsClassifier()))\n",
    "models.append(('CART', DecisionTreeClassifier()))\n",
    "models.append(('NB', GaussianNB()))\n",
    "models.append(('SVM', SVC()))"
   ]
  },
  {
   "cell_type": "code",
   "execution_count": 54,
   "metadata": {
    "executionInfo": {
     "elapsed": 1251,
     "status": "ok",
     "timestamp": 1618095664565,
     "user": {
      "displayName": "AMYLKAR URREA MONTOYA",
      "photoUrl": "https://lh3.googleusercontent.com/a-/AOh14GgIJADRi0610WZ5MXeu3NO1-K951x4EDzVBxUAz0aNRqX-4eDB6KnTGq1JBYqTZF0MH1zHEyh6FFWTZ3hbuKfJSj6xi-NyTippwXkGu748oqA3I5SCRbdK-iFm0uUrMqCzs-S6L9Qlu-esre5djwXJPz-MjT7J3Tb_kmHA980mqrtbD6Pyy8JoRI8625Ms2NhxlDczIsGVd_8HAN1zndFECSTp_hLxTtbc4xCGDO6FcMqChgDn2rbO_UfHfI_cGzrzd9vfRuW9nhtCReEWcHjzzhqEpC6HgK7FMlrl2PdoZtL0u3l0SP8nY5r5ZGzVkFq4PQIDeeutRZckMRjWUPLOddbAmEsXbhH6y0Y07sXFQwTGABDCyiukXWQgxo1Zef738KbYIxLKg8Y8qwHffHyqpP5GAYs_cjAfCTKOpD4UqThx0LMpC6FH12P3kLSO4t9iEwBKwhn3WpIkjyXXRVLHXP5fPHzxBHWgVZD-U9DBxJvugW-2rEu6sJkN1ReXtABeV8Ajn6NvBhZnZ83UXKc76aOxORXEHxAAcgwB7kEEbRfuC1RP3MMyB9zQ6jXKwNExtFSbogSzse_uDLA1eT1mBvLcN50x1oB_9JZgdqQ2kCOSE2vJ95Hh1By-uHlza0klMV4RYhfTly0RYgkp3MM0Ai1EftgVPL1H5Khmgtv7ICTAitkqoxdMyEzJuJ6CWswn97ZePGMsiDMWz3vxhwz-QpQDJOdpmJHdAk318cx4H80b0MouaCD7HvewAUQw3NOdxsyI=s64",
      "userId": "11963971207796700413"
     },
     "user_tz": 300
    },
    "id": "diugBwOaF8g-"
   },
   "outputs": [],
   "source": [
    "names = []\n",
    "train_scores = []\n",
    "test_scores = []\n",
    "for name, model in models:\n",
    "  result = cross_validate(model, x_train, y_train, return_train_score=True, cv=10, scoring=\"accuracy\")\n",
    "  train_score = round(np.mean(result[\"train_score\"]), 2)\n",
    "  test_score = round(np.mean(result[\"test_score\"]), 2)\n",
    "  names.append(name)\n",
    "  train_scores.append(train_score)\n",
    "  test_scores.append(test_score)"
   ]
  },
  {
   "cell_type": "code",
   "execution_count": 55,
   "metadata": {
    "colab": {
     "base_uri": "https://localhost:8080/",
     "height": 225
    },
    "executionInfo": {
     "elapsed": 579,
     "status": "ok",
     "timestamp": 1618095664804,
     "user": {
      "displayName": "AMYLKAR URREA MONTOYA",
      "photoUrl": "https://lh3.googleusercontent.com/a-/AOh14GgIJADRi0610WZ5MXeu3NO1-K951x4EDzVBxUAz0aNRqX-4eDB6KnTGq1JBYqTZF0MH1zHEyh6FFWTZ3hbuKfJSj6xi-NyTippwXkGu748oqA3I5SCRbdK-iFm0uUrMqCzs-S6L9Qlu-esre5djwXJPz-MjT7J3Tb_kmHA980mqrtbD6Pyy8JoRI8625Ms2NhxlDczIsGVd_8HAN1zndFECSTp_hLxTtbc4xCGDO6FcMqChgDn2rbO_UfHfI_cGzrzd9vfRuW9nhtCReEWcHjzzhqEpC6HgK7FMlrl2PdoZtL0u3l0SP8nY5r5ZGzVkFq4PQIDeeutRZckMRjWUPLOddbAmEsXbhH6y0Y07sXFQwTGABDCyiukXWQgxo1Zef738KbYIxLKg8Y8qwHffHyqpP5GAYs_cjAfCTKOpD4UqThx0LMpC6FH12P3kLSO4t9iEwBKwhn3WpIkjyXXRVLHXP5fPHzxBHWgVZD-U9DBxJvugW-2rEu6sJkN1ReXtABeV8Ajn6NvBhZnZ83UXKc76aOxORXEHxAAcgwB7kEEbRfuC1RP3MMyB9zQ6jXKwNExtFSbogSzse_uDLA1eT1mBvLcN50x1oB_9JZgdqQ2kCOSE2vJ95Hh1By-uHlza0klMV4RYhfTly0RYgkp3MM0Ai1EftgVPL1H5Khmgtv7ICTAitkqoxdMyEzJuJ6CWswn97ZePGMsiDMWz3vxhwz-QpQDJOdpmJHdAk318cx4H80b0MouaCD7HvewAUQw3NOdxsyI=s64",
      "userId": "11963971207796700413"
     },
     "user_tz": 300
    },
    "id": "lw7ynQjJH9sM",
    "outputId": "88d8b2ea-1182-40b8-9fd2-a55272f2bc60"
   },
   "outputs": [
    {
     "data": {
      "image/png": "[encoded data removed]",
      "text/plain": [
       "<Figure size 504x216 with 1 Axes>"
      ]
     },
     "metadata": {
      "needs_background": "light",
      "tags": []
     },
     "output_type": "display_data"
    }
   ],
   "source": [
    "x = np.arange(len(names))  \n",
    "width = 0.35  \n",
    "\n",
    "fig, ax = plt.subplots(figsize=(7,3))\n",
    "train_sc = ax.bar(x - width/2, train_scores, width, label='Train scores')\n",
    "test_sc = ax.bar(x + width/2, test_scores, width, label='Test scores')\n",
    "\n",
    "ax.set_ylabel('Scores')\n",
    "ax.set_title('Scores by method')\n",
    "ax.set_xticks(x)\n",
    "ax.set_xticklabels(names)\n",
    "ax.legend(loc=\"right\")\n",
    "\n",
    "def autolabel(rects):\n",
    "    for rect in rects:\n",
    "        height = rect.get_height()\n",
    "        ax.annotate('{}'.format(height),\n",
    "                    xy=(rect.get_x() + rect.get_width() / 2, height),\n",
    "                    xytext=(0, 3),  \n",
    "                    textcoords=\"offset points\",\n",
    "                    ha='center', va='bottom')\n",
    "\n",
    "autolabel(train_sc)\n",
    "autolabel(test_sc)\n",
    "fig.tight_layout()\n",
    "plt.show()"
   ]
  },
  {
   "cell_type": "code",
   "execution_count": 56,
   "metadata": {
    "executionInfo": {
     "elapsed": 496,
     "status": "ok",
     "timestamp": 1618095791923,
     "user": {
      "displayName": "AMYLKAR URREA MONTOYA",
      "photoUrl": "https://lh3.googleusercontent.com/a-/AOh14GgIJADRi0610WZ5MXeu3NO1-K951x4EDzVBxUAz0aNRqX-4eDB6KnTGq1JBYqTZF0MH1zHEyh6FFWTZ3hbuKfJSj6xi-NyTippwXkGu748oqA3I5SCRbdK-iFm0uUrMqCzs-S6L9Qlu-esre5djwXJPz-MjT7J3Tb_kmHA980mqrtbD6Pyy8JoRI8625Ms2NhxlDczIsGVd_8HAN1zndFECSTp_hLxTtbc4xCGDO6FcMqChgDn2rbO_UfHfI_cGzrzd9vfRuW9nhtCReEWcHjzzhqEpC6HgK7FMlrl2PdoZtL0u3l0SP8nY5r5ZGzVkFq4PQIDeeutRZckMRjWUPLOddbAmEsXbhH6y0Y07sXFQwTGABDCyiukXWQgxo1Zef738KbYIxLKg8Y8qwHffHyqpP5GAYs_cjAfCTKOpD4UqThx0LMpC6FH12P3kLSO4t9iEwBKwhn3WpIkjyXXRVLHXP5fPHzxBHWgVZD-U9DBxJvugW-2rEu6sJkN1ReXtABeV8Ajn6NvBhZnZ83UXKc76aOxORXEHxAAcgwB7kEEbRfuC1RP3MMyB9zQ6jXKwNExtFSbogSzse_uDLA1eT1mBvLcN50x1oB_9JZgdqQ2kCOSE2vJ95Hh1By-uHlza0klMV4RYhfTly0RYgkp3MM0Ai1EftgVPL1H5Khmgtv7ICTAitkqoxdMyEzJuJ6CWswn97ZePGMsiDMWz3vxhwz-QpQDJOdpmJHdAk318cx4H80b0MouaCD7HvewAUQw3NOdxsyI=s64",
      "userId": "11963971207796700413"
     },
     "user_tz": 300
    },
    "id": "P-AlV9TOU13y"
   },
   "outputs": [],
   "source": [
    "class Curves():\n",
    "\n",
    "  def __init__(self, sizes, models, x_train, y_train, scoring):\n",
    "    self.sizes = sizes\n",
    "    self.models = models\n",
    "    self.x_train = x_train\n",
    "    self.y_train = y_train\n",
    "    self.scoring = scoring\n",
    "\n",
    "  def train(self):\n",
    "    model_name = []\n",
    "    train_scs = []\n",
    "    test_scs = []\n",
    "    for name, model in self.models:\n",
    "      train_sizes, train_scores, test_scores = learning_curve(model,\n",
    "                                                              self.x_train,\n",
    "                                                              self.y_train,\n",
    "                                                              train_sizes=self.sizes,\n",
    "                                                              scoring=self.scoring)\n",
    "      model_name.append(name)\n",
    "      train_scs.append(np.mean(train_scores, axis = 1))\n",
    "      test_scs.append(np.mean(test_scores, axis = 1))\n",
    "\n",
    "    df_scores = pd.DataFrame({\"name\":model_name, \"train_score\":train_scs, \"test_score\":test_scs})\n",
    "    return(df_scores)\n",
    "\n",
    "  def learning_c(self):\n",
    "    df_scs = self.train()\n",
    "    fig, ax = plt.subplots(5, 1, figsize=(7, 19))\n",
    "    for i in range(len(df_scs)):\n",
    "      ax[i].plot(self.sizes,\n",
    "                 [x for x in list(df_scs.loc[i, \"train_score\"])],\n",
    "                 label = \"Training Score\",\n",
    "                 color = 'b')\n",
    "      ax[i].plot(self.sizes,\n",
    "                 [x for x in list(df_scs.loc[i, \"test_score\"])],\n",
    "                 label = \"Train_val_score\",\n",
    "                 color = 'g')\n",
    "      ax[i].set_ylim(0.81, 1.01)\n",
    "      ax[i].set_title((df_scs.loc[i, \"name\"]))\n",
    "      ax[i].legend()\n",
    "\n",
    "  def roc_c(self):\n",
    "    fig, ax= plt.subplots(1, figsize=(7, 5))\n",
    "    for name, model in self.models:\n",
    "      model.fit(x_train, y_train)\n",
    "      plot_roc_curve(model, x_test, y_test, ax=ax, name=name)\n",
    "      "
   ]
  },
  {
   "cell_type": "code",
   "execution_count": 58,
   "metadata": {
    "executionInfo": {
     "elapsed": 393,
     "status": "ok",
     "timestamp": 1618095826671,
     "user": {
      "displayName": "AMYLKAR URREA MONTOYA",
      "photoUrl": "https://lh3.googleusercontent.com/a-/AOh14GgIJADRi0610WZ5MXeu3NO1-K951x4EDzVBxUAz0aNRqX-4eDB6KnTGq1JBYqTZF0MH1zHEyh6FFWTZ3hbuKfJSj6xi-NyTippwXkGu748oqA3I5SCRbdK-iFm0uUrMqCzs-S6L9Qlu-esre5djwXJPz-MjT7J3Tb_kmHA980mqrtbD6Pyy8JoRI8625Ms2NhxlDczIsGVd_8HAN1zndFECSTp_hLxTtbc4xCGDO6FcMqChgDn2rbO_UfHfI_cGzrzd9vfRuW9nhtCReEWcHjzzhqEpC6HgK7FMlrl2PdoZtL0u3l0SP8nY5r5ZGzVkFq4PQIDeeutRZckMRjWUPLOddbAmEsXbhH6y0Y07sXFQwTGABDCyiukXWQgxo1Zef738KbYIxLKg8Y8qwHffHyqpP5GAYs_cjAfCTKOpD4UqThx0LMpC6FH12P3kLSO4t9iEwBKwhn3WpIkjyXXRVLHXP5fPHzxBHWgVZD-U9DBxJvugW-2rEu6sJkN1ReXtABeV8Ajn6NvBhZnZ83UXKc76aOxORXEHxAAcgwB7kEEbRfuC1RP3MMyB9zQ6jXKwNExtFSbogSzse_uDLA1eT1mBvLcN50x1oB_9JZgdqQ2kCOSE2vJ95Hh1By-uHlza0klMV4RYhfTly0RYgkp3MM0Ai1EftgVPL1H5Khmgtv7ICTAitkqoxdMyEzJuJ6CWswn97ZePGMsiDMWz3vxhwz-QpQDJOdpmJHdAk318cx4H80b0MouaCD7HvewAUQw3NOdxsyI=s64",
      "userId": "11963971207796700413"
     },
     "user_tz": 300
    },
    "id": "fe_kq3HLY5uq"
   },
   "outputs": [],
   "source": [
    "models = [('LR', LogisticRegression()), ('KNN', KNeighborsClassifier()), ('CART', DecisionTreeClassifier()),\n",
    "          ('NB', GaussianNB()), ('SVM', SVC())]\n",
    "          \n",
    "sizes = np.linspace(0.1, 1.0, 5)\n",
    "\n",
    "prueba = Curves(sizes, models, x_train, y_train, scoring=\"recall\")"
   ]
  },
  {
   "cell_type": "code",
   "execution_count": 59,
   "metadata": {
    "colab": {
     "base_uri": "https://localhost:8080/",
     "height": 1000
    },
    "executionInfo": {
     "elapsed": 3551,
     "status": "ok",
     "timestamp": 1618095830774,
     "user": {
      "displayName": "AMYLKAR URREA MONTOYA",
      "photoUrl": "https://lh3.googleusercontent.com/a-/AOh14GgIJADRi0610WZ5MXeu3NO1-K951x4EDzVBxUAz0aNRqX-4eDB6KnTGq1JBYqTZF0MH1zHEyh6FFWTZ3hbuKfJSj6xi-NyTippwXkGu748oqA3I5SCRbdK-iFm0uUrMqCzs-S6L9Qlu-esre5djwXJPz-MjT7J3Tb_kmHA980mqrtbD6Pyy8JoRI8625Ms2NhxlDczIsGVd_8HAN1zndFECSTp_hLxTtbc4xCGDO6FcMqChgDn2rbO_UfHfI_cGzrzd9vfRuW9nhtCReEWcHjzzhqEpC6HgK7FMlrl2PdoZtL0u3l0SP8nY5r5ZGzVkFq4PQIDeeutRZckMRjWUPLOddbAmEsXbhH6y0Y07sXFQwTGABDCyiukXWQgxo1Zef738KbYIxLKg8Y8qwHffHyqpP5GAYs_cjAfCTKOpD4UqThx0LMpC6FH12P3kLSO4t9iEwBKwhn3WpIkjyXXRVLHXP5fPHzxBHWgVZD-U9DBxJvugW-2rEu6sJkN1ReXtABeV8Ajn6NvBhZnZ83UXKc76aOxORXEHxAAcgwB7kEEbRfuC1RP3MMyB9zQ6jXKwNExtFSbogSzse_uDLA1eT1mBvLcN50x1oB_9JZgdqQ2kCOSE2vJ95Hh1By-uHlza0klMV4RYhfTly0RYgkp3MM0Ai1EftgVPL1H5Khmgtv7ICTAitkqoxdMyEzJuJ6CWswn97ZePGMsiDMWz3vxhwz-QpQDJOdpmJHdAk318cx4H80b0MouaCD7HvewAUQw3NOdxsyI=s64",
      "userId": "11963971207796700413"
     },
     "user_tz": 300
    },
    "id": "7SsZ97tZnBpz",
    "outputId": "7229c72e-c0ba-410f-f301-5f24856ebad7"
   },
   "outputs": [
    {
     "data": {
      "image/png": "[encoded data removed]",
      "text/plain": [
       "<Figure size 504x1368 with 5 Axes>"
      ]
     },
     "metadata": {
      "needs_background": "light",
      "tags": []
     },
     "output_type": "display_data"
    }
   ],
   "source": [
    "prueba.learning_c()"
   ]
  },
  {
   "cell_type": "code",
   "execution_count": 60,
   "metadata": {
    "colab": {
     "base_uri": "https://localhost:8080/",
     "height": 334
    },
    "executionInfo": {
     "elapsed": 794,
     "status": "ok",
     "timestamp": 1618095881885,
     "user": {
      "displayName": "AMYLKAR URREA MONTOYA",
      "photoUrl": "https://lh3.googleusercontent.com/a-/AOh14GgIJADRi0610WZ5MXeu3NO1-K951x4EDzVBxUAz0aNRqX-4eDB6KnTGq1JBYqTZF0MH1zHEyh6FFWTZ3hbuKfJSj6xi-NyTippwXkGu748oqA3I5SCRbdK-iFm0uUrMqCzs-S6L9Qlu-esre5djwXJPz-MjT7J3Tb_kmHA980mqrtbD6Pyy8JoRI8625Ms2NhxlDczIsGVd_8HAN1zndFECSTp_hLxTtbc4xCGDO6FcMqChgDn2rbO_UfHfI_cGzrzd9vfRuW9nhtCReEWcHjzzhqEpC6HgK7FMlrl2PdoZtL0u3l0SP8nY5r5ZGzVkFq4PQIDeeutRZckMRjWUPLOddbAmEsXbhH6y0Y07sXFQwTGABDCyiukXWQgxo1Zef738KbYIxLKg8Y8qwHffHyqpP5GAYs_cjAfCTKOpD4UqThx0LMpC6FH12P3kLSO4t9iEwBKwhn3WpIkjyXXRVLHXP5fPHzxBHWgVZD-U9DBxJvugW-2rEu6sJkN1ReXtABeV8Ajn6NvBhZnZ83UXKc76aOxORXEHxAAcgwB7kEEbRfuC1RP3MMyB9zQ6jXKwNExtFSbogSzse_uDLA1eT1mBvLcN50x1oB_9JZgdqQ2kCOSE2vJ95Hh1By-uHlza0klMV4RYhfTly0RYgkp3MM0Ai1EftgVPL1H5Khmgtv7ICTAitkqoxdMyEzJuJ6CWswn97ZePGMsiDMWz3vxhwz-QpQDJOdpmJHdAk318cx4H80b0MouaCD7HvewAUQw3NOdxsyI=s64",
      "userId": "11963971207796700413"
     },
     "user_tz": 300
    },
    "id": "r8mtj6U6ZoG3",
    "outputId": "6971ccca-d16a-439e-a309-06f5584a0987"
   },
   "outputs": [
    {
     "data": {
      "image/png": "[encoded data removed]",
      "text/plain": [
       "<Figure size 504x360 with 1 Axes>"
      ]
     },
     "metadata": {
      "needs_background": "light",
      "tags": []
     },
     "output_type": "display_data"
    }
   ],
   "source": [
    "prueba.roc_c()"
   ]
  },
  {
   "cell_type": "markdown",
   "metadata": {
    "id": "VGKYQSIDm-DN"
   },
   "source": [
    "The 5 classifiers have similar performance on the learning curve and the ROC, then it was decided to work with LogisticRegression because it has good performance and it is the most basic method."
   ]
  },
  {
   "cell_type": "markdown",
   "metadata": {
    "id": "3n-9xVyqGvWt"
   },
   "source": [
    "## Hyperparameter Optimization"
   ]
  },
  {
   "cell_type": "code",
   "execution_count": 61,
   "metadata": {
    "executionInfo": {
     "elapsed": 359,
     "status": "ok",
     "timestamp": 1618096084443,
     "user": {
      "displayName": "AMYLKAR URREA MONTOYA",
      "photoUrl": "https://lh3.googleusercontent.com/a-/AOh14GgIJADRi0610WZ5MXeu3NO1-K951x4EDzVBxUAz0aNRqX-4eDB6KnTGq1JBYqTZF0MH1zHEyh6FFWTZ3hbuKfJSj6xi-NyTippwXkGu748oqA3I5SCRbdK-iFm0uUrMqCzs-S6L9Qlu-esre5djwXJPz-MjT7J3Tb_kmHA980mqrtbD6Pyy8JoRI8625Ms2NhxlDczIsGVd_8HAN1zndFECSTp_hLxTtbc4xCGDO6FcMqChgDn2rbO_UfHfI_cGzrzd9vfRuW9nhtCReEWcHjzzhqEpC6HgK7FMlrl2PdoZtL0u3l0SP8nY5r5ZGzVkFq4PQIDeeutRZckMRjWUPLOddbAmEsXbhH6y0Y07sXFQwTGABDCyiukXWQgxo1Zef738KbYIxLKg8Y8qwHffHyqpP5GAYs_cjAfCTKOpD4UqThx0LMpC6FH12P3kLSO4t9iEwBKwhn3WpIkjyXXRVLHXP5fPHzxBHWgVZD-U9DBxJvugW-2rEu6sJkN1ReXtABeV8Ajn6NvBhZnZ83UXKc76aOxORXEHxAAcgwB7kEEbRfuC1RP3MMyB9zQ6jXKwNExtFSbogSzse_uDLA1eT1mBvLcN50x1oB_9JZgdqQ2kCOSE2vJ95Hh1By-uHlza0klMV4RYhfTly0RYgkp3MM0Ai1EftgVPL1H5Khmgtv7ICTAitkqoxdMyEzJuJ6CWswn97ZePGMsiDMWz3vxhwz-QpQDJOdpmJHdAk318cx4H80b0MouaCD7HvewAUQw3NOdxsyI=s64",
      "userId": "11963971207796700413"
     },
     "user_tz": 300
    },
    "id": "xElYtrQoUaZ9"
   },
   "outputs": [],
   "source": [
    "from sklearn.metrics import recall_score, precision_score\n",
    "from sklearn.model_selection import GridSearchCV\n",
    "from sklearn.metrics import plot_confusion_matrix\n",
    "from sklearn.metrics import plot_confusion_matrix\n",
    "from sklearn.metrics import classification_report"
   ]
  },
  {
   "cell_type": "code",
   "execution_count": 62,
   "metadata": {
    "executionInfo": {
     "elapsed": 308,
     "status": "ok",
     "timestamp": 1618096085480,
     "user": {
      "displayName": "AMYLKAR URREA MONTOYA",
      "photoUrl": "https://lh3.googleusercontent.com/a-/AOh14GgIJADRi0610WZ5MXeu3NO1-K951x4EDzVBxUAz0aNRqX-4eDB6KnTGq1JBYqTZF0MH1zHEyh6FFWTZ3hbuKfJSj6xi-NyTippwXkGu748oqA3I5SCRbdK-iFm0uUrMqCzs-S6L9Qlu-esre5djwXJPz-MjT7J3Tb_kmHA980mqrtbD6Pyy8JoRI8625Ms2NhxlDczIsGVd_8HAN1zndFECSTp_hLxTtbc4xCGDO6FcMqChgDn2rbO_UfHfI_cGzrzd9vfRuW9nhtCReEWcHjzzhqEpC6HgK7FMlrl2PdoZtL0u3l0SP8nY5r5ZGzVkFq4PQIDeeutRZckMRjWUPLOddbAmEsXbhH6y0Y07sXFQwTGABDCyiukXWQgxo1Zef738KbYIxLKg8Y8qwHffHyqpP5GAYs_cjAfCTKOpD4UqThx0LMpC6FH12P3kLSO4t9iEwBKwhn3WpIkjyXXRVLHXP5fPHzxBHWgVZD-U9DBxJvugW-2rEu6sJkN1ReXtABeV8Ajn6NvBhZnZ83UXKc76aOxORXEHxAAcgwB7kEEbRfuC1RP3MMyB9zQ6jXKwNExtFSbogSzse_uDLA1eT1mBvLcN50x1oB_9JZgdqQ2kCOSE2vJ95Hh1By-uHlza0klMV4RYhfTly0RYgkp3MM0Ai1EftgVPL1H5Khmgtv7ICTAitkqoxdMyEzJuJ6CWswn97ZePGMsiDMWz3vxhwz-QpQDJOdpmJHdAk318cx4H80b0MouaCD7HvewAUQw3NOdxsyI=s64",
      "userId": "11963971207796700413"
     },
     "user_tz": 300
    },
    "id": "vaRyvhx4UadJ"
   },
   "outputs": [],
   "source": [
    "params = {\"C\": np.arange(0.01, 1, 0.1)}"
   ]
  },
  {
   "cell_type": "code",
   "execution_count": 63,
   "metadata": {
    "executionInfo": {
     "elapsed": 362,
     "status": "ok",
     "timestamp": 1618096086306,
     "user": {
      "displayName": "AMYLKAR URREA MONTOYA",
      "photoUrl": "https://lh3.googleusercontent.com/a-/AOh14GgIJADRi0610WZ5MXeu3NO1-K951x4EDzVBxUAz0aNRqX-4eDB6KnTGq1JBYqTZF0MH1zHEyh6FFWTZ3hbuKfJSj6xi-NyTippwXkGu748oqA3I5SCRbdK-iFm0uUrMqCzs-S6L9Qlu-esre5djwXJPz-MjT7J3Tb_kmHA980mqrtbD6Pyy8JoRI8625Ms2NhxlDczIsGVd_8HAN1zndFECSTp_hLxTtbc4xCGDO6FcMqChgDn2rbO_UfHfI_cGzrzd9vfRuW9nhtCReEWcHjzzhqEpC6HgK7FMlrl2PdoZtL0u3l0SP8nY5r5ZGzVkFq4PQIDeeutRZckMRjWUPLOddbAmEsXbhH6y0Y07sXFQwTGABDCyiukXWQgxo1Zef738KbYIxLKg8Y8qwHffHyqpP5GAYs_cjAfCTKOpD4UqThx0LMpC6FH12P3kLSO4t9iEwBKwhn3WpIkjyXXRVLHXP5fPHzxBHWgVZD-U9DBxJvugW-2rEu6sJkN1ReXtABeV8Ajn6NvBhZnZ83UXKc76aOxORXEHxAAcgwB7kEEbRfuC1RP3MMyB9zQ6jXKwNExtFSbogSzse_uDLA1eT1mBvLcN50x1oB_9JZgdqQ2kCOSE2vJ95Hh1By-uHlza0klMV4RYhfTly0RYgkp3MM0Ai1EftgVPL1H5Khmgtv7ICTAitkqoxdMyEzJuJ6CWswn97ZePGMsiDMWz3vxhwz-QpQDJOdpmJHdAk318cx4H80b0MouaCD7HvewAUQw3NOdxsyI=s64",
      "userId": "11963971207796700413"
     },
     "user_tz": 300
    },
    "id": "dRIRFkXGUagX"
   },
   "outputs": [],
   "source": [
    "estimator = LogisticRegression()"
   ]
  },
  {
   "cell_type": "code",
   "execution_count": 64,
   "metadata": {
    "executionInfo": {
     "elapsed": 398,
     "status": "ok",
     "timestamp": 1618096088732,
     "user": {
      "displayName": "AMYLKAR URREA MONTOYA",
      "photoUrl": "https://lh3.googleusercontent.com/a-/AOh14GgIJADRi0610WZ5MXeu3NO1-K951x4EDzVBxUAz0aNRqX-4eDB6KnTGq1JBYqTZF0MH1zHEyh6FFWTZ3hbuKfJSj6xi-NyTippwXkGu748oqA3I5SCRbdK-iFm0uUrMqCzs-S6L9Qlu-esre5djwXJPz-MjT7J3Tb_kmHA980mqrtbD6Pyy8JoRI8625Ms2NhxlDczIsGVd_8HAN1zndFECSTp_hLxTtbc4xCGDO6FcMqChgDn2rbO_UfHfI_cGzrzd9vfRuW9nhtCReEWcHjzzhqEpC6HgK7FMlrl2PdoZtL0u3l0SP8nY5r5ZGzVkFq4PQIDeeutRZckMRjWUPLOddbAmEsXbhH6y0Y07sXFQwTGABDCyiukXWQgxo1Zef738KbYIxLKg8Y8qwHffHyqpP5GAYs_cjAfCTKOpD4UqThx0LMpC6FH12P3kLSO4t9iEwBKwhn3WpIkjyXXRVLHXP5fPHzxBHWgVZD-U9DBxJvugW-2rEu6sJkN1ReXtABeV8Ajn6NvBhZnZ83UXKc76aOxORXEHxAAcgwB7kEEbRfuC1RP3MMyB9zQ6jXKwNExtFSbogSzse_uDLA1eT1mBvLcN50x1oB_9JZgdqQ2kCOSE2vJ95Hh1By-uHlza0klMV4RYhfTly0RYgkp3MM0Ai1EftgVPL1H5Khmgtv7ICTAitkqoxdMyEzJuJ6CWswn97ZePGMsiDMWz3vxhwz-QpQDJOdpmJHdAk318cx4H80b0MouaCD7HvewAUQw3NOdxsyI=s64",
      "userId": "11963971207796700413"
     },
     "user_tz": 300
    },
    "id": "vkdI3-lxUajp"
   },
   "outputs": [],
   "source": [
    "ggrid = GridSearchCV(estimator, \n",
    "                     param_grid = params,\n",
    "                     scoring=\"recall\",\n",
    "                     cv=5\n",
    "                    )"
   ]
  },
  {
   "cell_type": "code",
   "execution_count": 65,
   "metadata": {
    "executionInfo": {
     "elapsed": 1043,
     "status": "ok",
     "timestamp": 1618096090189,
     "user": {
      "displayName": "AMYLKAR URREA MONTOYA",
      "photoUrl": "https://lh3.googleusercontent.com/a-/AOh14GgIJADRi0610WZ5MXeu3NO1-K951x4EDzVBxUAz0aNRqX-4eDB6KnTGq1JBYqTZF0MH1zHEyh6FFWTZ3hbuKfJSj6xi-NyTippwXkGu748oqA3I5SCRbdK-iFm0uUrMqCzs-S6L9Qlu-esre5djwXJPz-MjT7J3Tb_kmHA980mqrtbD6Pyy8JoRI8625Ms2NhxlDczIsGVd_8HAN1zndFECSTp_hLxTtbc4xCGDO6FcMqChgDn2rbO_UfHfI_cGzrzd9vfRuW9nhtCReEWcHjzzhqEpC6HgK7FMlrl2PdoZtL0u3l0SP8nY5r5ZGzVkFq4PQIDeeutRZckMRjWUPLOddbAmEsXbhH6y0Y07sXFQwTGABDCyiukXWQgxo1Zef738KbYIxLKg8Y8qwHffHyqpP5GAYs_cjAfCTKOpD4UqThx0LMpC6FH12P3kLSO4t9iEwBKwhn3WpIkjyXXRVLHXP5fPHzxBHWgVZD-U9DBxJvugW-2rEu6sJkN1ReXtABeV8Ajn6NvBhZnZ83UXKc76aOxORXEHxAAcgwB7kEEbRfuC1RP3MMyB9zQ6jXKwNExtFSbogSzse_uDLA1eT1mBvLcN50x1oB_9JZgdqQ2kCOSE2vJ95Hh1By-uHlza0klMV4RYhfTly0RYgkp3MM0Ai1EftgVPL1H5Khmgtv7ICTAitkqoxdMyEzJuJ6CWswn97ZePGMsiDMWz3vxhwz-QpQDJOdpmJHdAk318cx4H80b0MouaCD7HvewAUQw3NOdxsyI=s64",
      "userId": "11963971207796700413"
     },
     "user_tz": 300
    },
    "id": "OcygoleZUamj"
   },
   "outputs": [],
   "source": [
    "final_model = ggrid.fit(x_train, y_train)"
   ]
  },
  {
   "cell_type": "code",
   "execution_count": 66,
   "metadata": {
    "colab": {
     "base_uri": "https://localhost:8080/"
    },
    "executionInfo": {
     "elapsed": 537,
     "status": "ok",
     "timestamp": 1618096090696,
     "user": {
      "displayName": "AMYLKAR URREA MONTOYA",
      "photoUrl": "https://lh3.googleusercontent.com/a-/AOh14GgIJADRi0610WZ5MXeu3NO1-K951x4EDzVBxUAz0aNRqX-4eDB6KnTGq1JBYqTZF0MH1zHEyh6FFWTZ3hbuKfJSj6xi-NyTippwXkGu748oqA3I5SCRbdK-iFm0uUrMqCzs-S6L9Qlu-esre5djwXJPz-MjT7J3Tb_kmHA980mqrtbD6Pyy8JoRI8625Ms2NhxlDczIsGVd_8HAN1zndFECSTp_hLxTtbc4xCGDO6FcMqChgDn2rbO_UfHfI_cGzrzd9vfRuW9nhtCReEWcHjzzhqEpC6HgK7FMlrl2PdoZtL0u3l0SP8nY5r5ZGzVkFq4PQIDeeutRZckMRjWUPLOddbAmEsXbhH6y0Y07sXFQwTGABDCyiukXWQgxo1Zef738KbYIxLKg8Y8qwHffHyqpP5GAYs_cjAfCTKOpD4UqThx0LMpC6FH12P3kLSO4t9iEwBKwhn3WpIkjyXXRVLHXP5fPHzxBHWgVZD-U9DBxJvugW-2rEu6sJkN1ReXtABeV8Ajn6NvBhZnZ83UXKc76aOxORXEHxAAcgwB7kEEbRfuC1RP3MMyB9zQ6jXKwNExtFSbogSzse_uDLA1eT1mBvLcN50x1oB_9JZgdqQ2kCOSE2vJ95Hh1By-uHlza0klMV4RYhfTly0RYgkp3MM0Ai1EftgVPL1H5Khmgtv7ICTAitkqoxdMyEzJuJ6CWswn97ZePGMsiDMWz3vxhwz-QpQDJOdpmJHdAk318cx4H80b0MouaCD7HvewAUQw3NOdxsyI=s64",
      "userId": "11963971207796700413"
     },
     "user_tz": 300
    },
    "id": "a4N2VIAkUapt",
    "outputId": "e460640a-5de4-405f-b4e7-6aa9629438fb"
   },
   "outputs": [
    {
     "data": {
      "text/plain": [
       "({'mean_fit_time': array([0.01020665, 0.01047907, 0.00905228, 0.00959539, 0.00957966,\n",
       "         0.00885963, 0.00887237, 0.00789857, 0.00883975, 0.00791783]),\n",
       "  'mean_score_time': array([0.00275998, 0.00219731, 0.00281839, 0.00226378, 0.00252314,\n",
       "         0.00221543, 0.00223627, 0.00197964, 0.00229998, 0.00204892]),\n",
       "  'mean_test_score': array([0.88065563, 0.89587796, 0.89587796, 0.89587796, 0.89840961,\n",
       "         0.89840961, 0.89840961, 0.89840961, 0.89840961, 0.89840961]),\n",
       "  'param_C': masked_array(data=[0.01, 0.11, 0.21000000000000002, 0.31000000000000005,\n",
       "                     0.41000000000000003, 0.51, 0.6100000000000001,\n",
       "                     0.7100000000000001, 0.81, 0.91],\n",
       "               mask=[False, False, False, False, False, False, False, False,\n",
       "                     False, False],\n",
       "         fill_value='?',\n",
       "              dtype=object),\n",
       "  'params': [{'C': 0.01},\n",
       "   {'C': 0.11},\n",
       "   {'C': 0.21000000000000002},\n",
       "   {'C': 0.31000000000000005},\n",
       "   {'C': 0.41000000000000003},\n",
       "   {'C': 0.51},\n",
       "   {'C': 0.6100000000000001},\n",
       "   {'C': 0.7100000000000001},\n",
       "   {'C': 0.81},\n",
       "   {'C': 0.91}],\n",
       "  'rank_test_score': array([10,  7,  7,  7,  1,  1,  1,  1,  1,  1], dtype=int32),\n",
       "  'split0_test_score': array([0.89873418, 0.89873418, 0.89873418, 0.89873418, 0.89873418,\n",
       "         0.89873418, 0.89873418, 0.89873418, 0.89873418, 0.89873418]),\n",
       "  'split1_test_score': array([0.92405063, 0.92405063, 0.92405063, 0.92405063, 0.92405063,\n",
       "         0.92405063, 0.92405063, 0.92405063, 0.92405063, 0.92405063]),\n",
       "  'split2_test_score': array([0.85897436, 0.87179487, 0.87179487, 0.87179487, 0.87179487,\n",
       "         0.87179487, 0.87179487, 0.87179487, 0.87179487, 0.87179487]),\n",
       "  'split3_test_score': array([0.88607595, 0.92405063, 0.92405063, 0.92405063, 0.92405063,\n",
       "         0.92405063, 0.92405063, 0.92405063, 0.92405063, 0.92405063]),\n",
       "  'split4_test_score': array([0.83544304, 0.86075949, 0.86075949, 0.86075949, 0.87341772,\n",
       "         0.87341772, 0.87341772, 0.87341772, 0.87341772, 0.87341772]),\n",
       "  'std_fit_time': array([0.00347397, 0.00527205, 0.00093752, 0.001214  , 0.00128568,\n",
       "         0.0015601 , 0.00148749, 0.00022031, 0.00148348, 0.00033473]),\n",
       "  'std_score_time': array([6.58443079e-04, 4.94945486e-05, 7.81401846e-04, 1.35696328e-04,\n",
       "         5.32424388e-04, 2.21288119e-04, 2.74920942e-04, 4.90232662e-05,\n",
       "         5.80335964e-04, 7.17246781e-05]),\n",
       "  'std_test_score': array([0.03083373, 0.02611076, 0.02611076, 0.02611076, 0.0230129 ,\n",
       "         0.0230129 , 0.0230129 , 0.0230129 , 0.0230129 , 0.0230129 ])},\n",
       " {'C': 0.41000000000000003},\n",
       " 0.8984096072703668)"
      ]
     },
     "execution_count": 66,
     "metadata": {
      "tags": []
     },
     "output_type": "execute_result"
    }
   ],
   "source": [
    "ggrid.cv_results_, ggrid.best_params_, ggrid.best_score_"
   ]
  },
  {
   "cell_type": "code",
   "execution_count": 67,
   "metadata": {
    "executionInfo": {
     "elapsed": 366,
     "status": "ok",
     "timestamp": 1618096096261,
     "user": {
      "displayName": "AMYLKAR URREA MONTOYA",
      "photoUrl": "https://lh3.googleusercontent.com/a-/AOh14GgIJADRi0610WZ5MXeu3NO1-K951x4EDzVBxUAz0aNRqX-4eDB6KnTGq1JBYqTZF0MH1zHEyh6FFWTZ3hbuKfJSj6xi-NyTippwXkGu748oqA3I5SCRbdK-iFm0uUrMqCzs-S6L9Qlu-esre5djwXJPz-MjT7J3Tb_kmHA980mqrtbD6Pyy8JoRI8625Ms2NhxlDczIsGVd_8HAN1zndFECSTp_hLxTtbc4xCGDO6FcMqChgDn2rbO_UfHfI_cGzrzd9vfRuW9nhtCReEWcHjzzhqEpC6HgK7FMlrl2PdoZtL0u3l0SP8nY5r5ZGzVkFq4PQIDeeutRZckMRjWUPLOddbAmEsXbhH6y0Y07sXFQwTGABDCyiukXWQgxo1Zef738KbYIxLKg8Y8qwHffHyqpP5GAYs_cjAfCTKOpD4UqThx0LMpC6FH12P3kLSO4t9iEwBKwhn3WpIkjyXXRVLHXP5fPHzxBHWgVZD-U9DBxJvugW-2rEu6sJkN1ReXtABeV8Ajn6NvBhZnZ83UXKc76aOxORXEHxAAcgwB7kEEbRfuC1RP3MMyB9zQ6jXKwNExtFSbogSzse_uDLA1eT1mBvLcN50x1oB_9JZgdqQ2kCOSE2vJ95Hh1By-uHlza0klMV4RYhfTly0RYgkp3MM0Ai1EftgVPL1H5Khmgtv7ICTAitkqoxdMyEzJuJ6CWswn97ZePGMsiDMWz3vxhwz-QpQDJOdpmJHdAk318cx4H80b0MouaCD7HvewAUQw3NOdxsyI=s64",
      "userId": "11963971207796700413"
     },
     "user_tz": 300
    },
    "id": "f4vAMMt7ImaL"
   },
   "outputs": [],
   "source": [
    "final_results = cross_validate(ggrid.best_estimator_, \n",
    "                               x_train, y_train, \n",
    "                               return_train_score=True,\n",
    "                               cv=5, scoring=\"recall\")"
   ]
  },
  {
   "cell_type": "code",
   "execution_count": 68,
   "metadata": {
    "colab": {
     "base_uri": "https://localhost:8080/"
    },
    "executionInfo": {
     "elapsed": 334,
     "status": "ok",
     "timestamp": 1618096097003,
     "user": {
      "displayName": "AMYLKAR URREA MONTOYA",
      "photoUrl": "https://lh3.googleusercontent.com/a-/AOh14GgIJADRi0610WZ5MXeu3NO1-K951x4EDzVBxUAz0aNRqX-4eDB6KnTGq1JBYqTZF0MH1zHEyh6FFWTZ3hbuKfJSj6xi-NyTippwXkGu748oqA3I5SCRbdK-iFm0uUrMqCzs-S6L9Qlu-esre5djwXJPz-MjT7J3Tb_kmHA980mqrtbD6Pyy8JoRI8625Ms2NhxlDczIsGVd_8HAN1zndFECSTp_hLxTtbc4xCGDO6FcMqChgDn2rbO_UfHfI_cGzrzd9vfRuW9nhtCReEWcHjzzhqEpC6HgK7FMlrl2PdoZtL0u3l0SP8nY5r5ZGzVkFq4PQIDeeutRZckMRjWUPLOddbAmEsXbhH6y0Y07sXFQwTGABDCyiukXWQgxo1Zef738KbYIxLKg8Y8qwHffHyqpP5GAYs_cjAfCTKOpD4UqThx0LMpC6FH12P3kLSO4t9iEwBKwhn3WpIkjyXXRVLHXP5fPHzxBHWgVZD-U9DBxJvugW-2rEu6sJkN1ReXtABeV8Ajn6NvBhZnZ83UXKc76aOxORXEHxAAcgwB7kEEbRfuC1RP3MMyB9zQ6jXKwNExtFSbogSzse_uDLA1eT1mBvLcN50x1oB_9JZgdqQ2kCOSE2vJ95Hh1By-uHlza0klMV4RYhfTly0RYgkp3MM0Ai1EftgVPL1H5Khmgtv7ICTAitkqoxdMyEzJuJ6CWswn97ZePGMsiDMWz3vxhwz-QpQDJOdpmJHdAk318cx4H80b0MouaCD7HvewAUQw3NOdxsyI=s64",
      "userId": "11963971207796700413"
     },
     "user_tz": 300
    },
    "id": "TIiLb69DIpo1",
    "outputId": "2c480857-5c11-4c1c-86da-1c6b1f2be8f5"
   },
   "outputs": [
    {
     "name": "stdout",
     "output_type": "stream",
     "text": [
      "0.903550331525015\n",
      "0.8984096072703668\n"
     ]
    }
   ],
   "source": [
    "test_scores = final_results[\"test_score\"]\n",
    "train_scores = final_results[\"train_score\"]\n",
    "print(np.mean(train_scores))\n",
    "print(np.mean(test_scores))"
   ]
  },
  {
   "cell_type": "code",
   "execution_count": 74,
   "metadata": {
    "executionInfo": {
     "elapsed": 350,
     "status": "ok",
     "timestamp": 1618096147966,
     "user": {
      "displayName": "AMYLKAR URREA MONTOYA",
      "photoUrl": "https://lh3.googleusercontent.com/a-/AOh14GgIJADRi0610WZ5MXeu3NO1-K951x4EDzVBxUAz0aNRqX-4eDB6KnTGq1JBYqTZF0MH1zHEyh6FFWTZ3hbuKfJSj6xi-NyTippwXkGu748oqA3I5SCRbdK-iFm0uUrMqCzs-S6L9Qlu-esre5djwXJPz-MjT7J3Tb_kmHA980mqrtbD6Pyy8JoRI8625Ms2NhxlDczIsGVd_8HAN1zndFECSTp_hLxTtbc4xCGDO6FcMqChgDn2rbO_UfHfI_cGzrzd9vfRuW9nhtCReEWcHjzzhqEpC6HgK7FMlrl2PdoZtL0u3l0SP8nY5r5ZGzVkFq4PQIDeeutRZckMRjWUPLOddbAmEsXbhH6y0Y07sXFQwTGABDCyiukXWQgxo1Zef738KbYIxLKg8Y8qwHffHyqpP5GAYs_cjAfCTKOpD4UqThx0LMpC6FH12P3kLSO4t9iEwBKwhn3WpIkjyXXRVLHXP5fPHzxBHWgVZD-U9DBxJvugW-2rEu6sJkN1ReXtABeV8Ajn6NvBhZnZ83UXKc76aOxORXEHxAAcgwB7kEEbRfuC1RP3MMyB9zQ6jXKwNExtFSbogSzse_uDLA1eT1mBvLcN50x1oB_9JZgdqQ2kCOSE2vJ95Hh1By-uHlza0klMV4RYhfTly0RYgkp3MM0Ai1EftgVPL1H5Khmgtv7ICTAitkqoxdMyEzJuJ6CWswn97ZePGMsiDMWz3vxhwz-QpQDJOdpmJHdAk318cx4H80b0MouaCD7HvewAUQw3NOdxsyI=s64",
      "userId": "11963971207796700413"
     },
     "user_tz": 300
    },
    "id": "ZeDNw3RDIptq"
   },
   "outputs": [],
   "source": [
    "final_estimator = LogisticRegression(C=0.41)"
   ]
  },
  {
   "cell_type": "code",
   "execution_count": 75,
   "metadata": {
    "colab": {
     "base_uri": "https://localhost:8080/"
    },
    "executionInfo": {
     "elapsed": 538,
     "status": "ok",
     "timestamp": 1618096148614,
     "user": {
      "displayName": "AMYLKAR URREA MONTOYA",
      "photoUrl": "https://lh3.googleusercontent.com/a-/AOh14GgIJADRi0610WZ5MXeu3NO1-K951x4EDzVBxUAz0aNRqX-4eDB6KnTGq1JBYqTZF0MH1zHEyh6FFWTZ3hbuKfJSj6xi-NyTippwXkGu748oqA3I5SCRbdK-iFm0uUrMqCzs-S6L9Qlu-esre5djwXJPz-MjT7J3Tb_kmHA980mqrtbD6Pyy8JoRI8625Ms2NhxlDczIsGVd_8HAN1zndFECSTp_hLxTtbc4xCGDO6FcMqChgDn2rbO_UfHfI_cGzrzd9vfRuW9nhtCReEWcHjzzhqEpC6HgK7FMlrl2PdoZtL0u3l0SP8nY5r5ZGzVkFq4PQIDeeutRZckMRjWUPLOddbAmEsXbhH6y0Y07sXFQwTGABDCyiukXWQgxo1Zef738KbYIxLKg8Y8qwHffHyqpP5GAYs_cjAfCTKOpD4UqThx0LMpC6FH12P3kLSO4t9iEwBKwhn3WpIkjyXXRVLHXP5fPHzxBHWgVZD-U9DBxJvugW-2rEu6sJkN1ReXtABeV8Ajn6NvBhZnZ83UXKc76aOxORXEHxAAcgwB7kEEbRfuC1RP3MMyB9zQ6jXKwNExtFSbogSzse_uDLA1eT1mBvLcN50x1oB_9JZgdqQ2kCOSE2vJ95Hh1By-uHlza0klMV4RYhfTly0RYgkp3MM0Ai1EftgVPL1H5Khmgtv7ICTAitkqoxdMyEzJuJ6CWswn97ZePGMsiDMWz3vxhwz-QpQDJOdpmJHdAk318cx4H80b0MouaCD7HvewAUQw3NOdxsyI=s64",
      "userId": "11963971207796700413"
     },
     "user_tz": 300
    },
    "id": "BzMfRbxgJFtS",
    "outputId": "a4e753d4-63e1-40a6-8504-e6905d18c375"
   },
   "outputs": [
    {
     "data": {
      "text/plain": [
       "LogisticRegression(C=0.41, class_weight=None, dual=False, fit_intercept=True,\n",
       "                   intercept_scaling=1, l1_ratio=None, max_iter=100,\n",
       "                   multi_class='auto', n_jobs=None, penalty='l2',\n",
       "                   random_state=None, solver='lbfgs', tol=0.0001, verbose=0,\n",
       "                   warm_start=False)"
      ]
     },
     "execution_count": 75,
     "metadata": {
      "tags": []
     },
     "output_type": "execute_result"
    }
   ],
   "source": [
    "final_estimator.fit(x_train, y_train)"
   ]
  },
  {
   "cell_type": "code",
   "execution_count": 76,
   "metadata": {
    "executionInfo": {
     "elapsed": 296,
     "status": "ok",
     "timestamp": 1618096148777,
     "user": {
      "displayName": "AMYLKAR URREA MONTOYA",
      "photoUrl": "https://lh3.googleusercontent.com/a-/AOh14GgIJADRi0610WZ5MXeu3NO1-K951x4EDzVBxUAz0aNRqX-4eDB6KnTGq1JBYqTZF0MH1zHEyh6FFWTZ3hbuKfJSj6xi-NyTippwXkGu748oqA3I5SCRbdK-iFm0uUrMqCzs-S6L9Qlu-esre5djwXJPz-MjT7J3Tb_kmHA980mqrtbD6Pyy8JoRI8625Ms2NhxlDczIsGVd_8HAN1zndFECSTp_hLxTtbc4xCGDO6FcMqChgDn2rbO_UfHfI_cGzrzd9vfRuW9nhtCReEWcHjzzhqEpC6HgK7FMlrl2PdoZtL0u3l0SP8nY5r5ZGzVkFq4PQIDeeutRZckMRjWUPLOddbAmEsXbhH6y0Y07sXFQwTGABDCyiukXWQgxo1Zef738KbYIxLKg8Y8qwHffHyqpP5GAYs_cjAfCTKOpD4UqThx0LMpC6FH12P3kLSO4t9iEwBKwhn3WpIkjyXXRVLHXP5fPHzxBHWgVZD-U9DBxJvugW-2rEu6sJkN1ReXtABeV8Ajn6NvBhZnZ83UXKc76aOxORXEHxAAcgwB7kEEbRfuC1RP3MMyB9zQ6jXKwNExtFSbogSzse_uDLA1eT1mBvLcN50x1oB_9JZgdqQ2kCOSE2vJ95Hh1By-uHlza0klMV4RYhfTly0RYgkp3MM0Ai1EftgVPL1H5Khmgtv7ICTAitkqoxdMyEzJuJ6CWswn97ZePGMsiDMWz3vxhwz-QpQDJOdpmJHdAk318cx4H80b0MouaCD7HvewAUQw3NOdxsyI=s64",
      "userId": "11963971207796700413"
     },
     "user_tz": 300
    },
    "id": "8beMMa-FJITh"
   },
   "outputs": [],
   "source": [
    "predicte = final_estimator.predict(x_test)"
   ]
  },
  {
   "cell_type": "code",
   "execution_count": 81,
   "metadata": {
    "colab": {
     "base_uri": "https://localhost:8080/",
     "height": 442
    },
    "executionInfo": {
     "elapsed": 601,
     "status": "ok",
     "timestamp": 1618096577887,
     "user": {
      "displayName": "AMYLKAR URREA MONTOYA",
      "photoUrl": "https://lh3.googleusercontent.com/a-/AOh14GgIJADRi0610WZ5MXeu3NO1-K951x4EDzVBxUAz0aNRqX-4eDB6KnTGq1JBYqTZF0MH1zHEyh6FFWTZ3hbuKfJSj6xi-NyTippwXkGu748oqA3I5SCRbdK-iFm0uUrMqCzs-S6L9Qlu-esre5djwXJPz-MjT7J3Tb_kmHA980mqrtbD6Pyy8JoRI8625Ms2NhxlDczIsGVd_8HAN1zndFECSTp_hLxTtbc4xCGDO6FcMqChgDn2rbO_UfHfI_cGzrzd9vfRuW9nhtCReEWcHjzzhqEpC6HgK7FMlrl2PdoZtL0u3l0SP8nY5r5ZGzVkFq4PQIDeeutRZckMRjWUPLOddbAmEsXbhH6y0Y07sXFQwTGABDCyiukXWQgxo1Zef738KbYIxLKg8Y8qwHffHyqpP5GAYs_cjAfCTKOpD4UqThx0LMpC6FH12P3kLSO4t9iEwBKwhn3WpIkjyXXRVLHXP5fPHzxBHWgVZD-U9DBxJvugW-2rEu6sJkN1ReXtABeV8Ajn6NvBhZnZ83UXKc76aOxORXEHxAAcgwB7kEEbRfuC1RP3MMyB9zQ6jXKwNExtFSbogSzse_uDLA1eT1mBvLcN50x1oB_9JZgdqQ2kCOSE2vJ95Hh1By-uHlza0klMV4RYhfTly0RYgkp3MM0Ai1EftgVPL1H5Khmgtv7ICTAitkqoxdMyEzJuJ6CWswn97ZePGMsiDMWz3vxhwz-QpQDJOdpmJHdAk318cx4H80b0MouaCD7HvewAUQw3NOdxsyI=s64",
      "userId": "11963971207796700413"
     },
     "user_tz": 300
    },
    "id": "UubaexOhJIZ7",
    "outputId": "b43583e4-2902-4095-8360-c0832725bf41"
   },
   "outputs": [
    {
     "data": {
      "image/png": "[encoded data removed]",
      "text/plain": [
       "<Figure size 1008x504 with 2 Axes>"
      ]
     },
     "metadata": {
      "needs_background": "light",
      "tags": []
     },
     "output_type": "display_data"
    }
   ],
   "source": [
    "plot_confusion_matrix(final_estimator, x_test, y_test, display_labels=[\"Non fraud\", \"Fraud\"])  \n",
    "plt.show()"
   ]
  },
  {
   "cell_type": "code",
   "execution_count": 78,
   "metadata": {
    "colab": {
     "base_uri": "https://localhost:8080/"
    },
    "executionInfo": {
     "elapsed": 476,
     "status": "ok",
     "timestamp": 1618096152295,
     "user": {
      "displayName": "AMYLKAR URREA MONTOYA",
      "photoUrl": "https://lh3.googleusercontent.com/a-/AOh14GgIJADRi0610WZ5MXeu3NO1-K951x4EDzVBxUAz0aNRqX-4eDB6KnTGq1JBYqTZF0MH1zHEyh6FFWTZ3hbuKfJSj6xi-NyTippwXkGu748oqA3I5SCRbdK-iFm0uUrMqCzs-S6L9Qlu-esre5djwXJPz-MjT7J3Tb_kmHA980mqrtbD6Pyy8JoRI8625Ms2NhxlDczIsGVd_8HAN1zndFECSTp_hLxTtbc4xCGDO6FcMqChgDn2rbO_UfHfI_cGzrzd9vfRuW9nhtCReEWcHjzzhqEpC6HgK7FMlrl2PdoZtL0u3l0SP8nY5r5ZGzVkFq4PQIDeeutRZckMRjWUPLOddbAmEsXbhH6y0Y07sXFQwTGABDCyiukXWQgxo1Zef738KbYIxLKg8Y8qwHffHyqpP5GAYs_cjAfCTKOpD4UqThx0LMpC6FH12P3kLSO4t9iEwBKwhn3WpIkjyXXRVLHXP5fPHzxBHWgVZD-U9DBxJvugW-2rEu6sJkN1ReXtABeV8Ajn6NvBhZnZ83UXKc76aOxORXEHxAAcgwB7kEEbRfuC1RP3MMyB9zQ6jXKwNExtFSbogSzse_uDLA1eT1mBvLcN50x1oB_9JZgdqQ2kCOSE2vJ95Hh1By-uHlza0klMV4RYhfTly0RYgkp3MM0Ai1EftgVPL1H5Khmgtv7ICTAitkqoxdMyEzJuJ6CWswn97ZePGMsiDMWz3vxhwz-QpQDJOdpmJHdAk318cx4H80b0MouaCD7HvewAUQw3NOdxsyI=s64",
      "userId": "11963971207796700413"
     },
     "user_tz": 300
    },
    "id": "WGG3m1wySR3-",
    "outputId": "9c938358-2e6e-472f-88e2-f1ffd06131fe"
   },
   "outputs": [
    {
     "name": "stdout",
     "output_type": "stream",
     "text": [
      "              precision    recall  f1-score   support\n",
      "\n",
      "   Non fraud       0.92      0.98      0.95        99\n",
      "       Fraud       0.98      0.91      0.94        98\n",
      "\n",
      "    accuracy                           0.94       197\n",
      "   macro avg       0.95      0.94      0.94       197\n",
      "weighted avg       0.95      0.94      0.94       197\n",
      "\n"
     ]
    }
   ],
   "source": [
    "target_names = ['Non fraud', 'Fraud']\n",
    "print(classification_report(y_test, predicte, target_names=target_names))"
   ]
  },
  {
   "cell_type": "markdown",
   "metadata": {
    "id": "LzkP_qrPnsLx"
   },
   "source": [
    "Although good results were obtained , 9% of the frauds were incorretly detected as non frauds, so it is important to improve recall."
   ]
  }
 ],
 "metadata": {
  "colab": {
   "authorship_tag": "ABX9TyNAH9QivQIw0JrqYbvYnFFg",
   "collapsed_sections": [],
   "mount_file_id": "1HrZ9bLW0eqtaKBsEA1Yaa0kiGjroEuRQ",
   "name": "credit_card_fraud_detection.ipynb",
   "provenance": [],
   "toc_visible": true
  },
  "kernelspec": {
   "display_name": "Python 3",
   "language": "python",
   "name": "python3"
  },
  "language_info": {
   "codemirror_mode": {
    "name": "ipython",
    "version": 3
   },
   "file_extension": ".py",
   "mimetype": "text/x-python",
   "name": "python",
   "nbconvert_exporter": "python",
   "pygments_lexer": "ipython3",
   "version": "3.7.6"
  }
 },
 "nbformat": 4,
 "nbformat_minor": 1
}
