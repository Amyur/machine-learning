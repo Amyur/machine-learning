{
 "cells": [
  {
   "cell_type": "markdown",
   "metadata": {},
   "source": [
    "# Extract"
   ]
  },
  {
   "cell_type": "code",
   "execution_count": 1,
   "metadata": {},
   "outputs": [],
   "source": [
    "import bs4\n",
    "import requests\n",
    "import pandas as pd"
   ]
  },
  {
   "cell_type": "code",
   "execution_count": 2,
   "metadata": {},
   "outputs": [],
   "source": [
    "responses = []\n",
    "for i in range(1, 18):\n",
    "    response = requests.get(\"https://www.linio.com.co/c/libros/literatura-y-novelas?page={}\".format(i))\n",
    "    responses.append(response)"
   ]
  },
  {
   "cell_type": "code",
   "execution_count": 3,
   "metadata": {},
   "outputs": [],
   "source": [
    "soups = []\n",
    "for i in range(len(responses)):\n",
    "    soup = bs4.BeautifulSoup(responses[i].text, \"html.parser\")\n",
    "    soups.append(soup)"
   ]
  },
  {
   "cell_type": "code",
   "execution_count": 4,
   "metadata": {},
   "outputs": [],
   "source": [
    "titles_book = []\n",
    "for i in range(len(soups)):\n",
    "    titles = soups[i].select(\"span.title-section\")\n",
    "    for title in titles:\n",
    "        titles_book.append(title.string)"
   ]
  },
  {
   "cell_type": "code",
   "execution_count": 5,
   "metadata": {},
   "outputs": [
    {
     "data": {
      "text/plain": [
       "['Jaque Al Psicoanalista',\n",
       " 'Libro El Hombre Mas Rico De Babilonia +...',\n",
       " 'Libro El Milagro De La Dinámica Mental',\n",
       " 'Quinientas Veces Tu Nombre',\n",
       " 'Pascualina Hollywood 2019',\n",
       " 'Asfixia']"
      ]
     },
     "execution_count": 5,
     "metadata": {},
     "output_type": "execute_result"
    }
   ],
   "source": [
    "titles_book[0:6]"
   ]
  },
  {
   "cell_type": "code",
   "execution_count": 6,
   "metadata": {},
   "outputs": [
    {
     "data": {
      "text/plain": [
       "1000"
      ]
     },
     "execution_count": 6,
     "metadata": {},
     "output_type": "execute_result"
    }
   ],
   "source": [
    "len(titles_book)"
   ]
  },
  {
   "cell_type": "code",
   "execution_count": 7,
   "metadata": {},
   "outputs": [],
   "source": [
    "prices_book = []\n",
    "for i in range(len(soups)):\n",
    "    prices = soups[i].select(\"span.price-main\")\n",
    "    for price_1 in prices:\n",
    "        prices_book.append(price_1.text)"
   ]
  },
  {
   "cell_type": "code",
   "execution_count": 8,
   "metadata": {},
   "outputs": [
    {
     "data": {
      "text/plain": [
       "['$52.000\\n          \\n\\n',\n",
       " '$15.900\\n          \\n\\n',\n",
       " '$15.900\\n          \\n\\n',\n",
       " '$64.900\\n          \\n\\n',\n",
       " '$70.000\\n          \\n\\n',\n",
       " '$59.900\\n          \\n\\n']"
      ]
     },
     "execution_count": 8,
     "metadata": {},
     "output_type": "execute_result"
    }
   ],
   "source": [
    "prices_book[0:6]"
   ]
  },
  {
   "cell_type": "code",
   "execution_count": 9,
   "metadata": {},
   "outputs": [
    {
     "data": {
      "text/plain": [
       "1000"
      ]
     },
     "execution_count": 9,
     "metadata": {},
     "output_type": "execute_result"
    }
   ],
   "source": [
    "len(prices_book)"
   ]
  },
  {
   "cell_type": "code",
   "execution_count": 10,
   "metadata": {},
   "outputs": [],
   "source": [
    "urls = []\n",
    "for i in range(len(soups)):\n",
    "    url = soups[i]\n",
    "    for link in url.select(\"div.catalogue-product.row a\"):\n",
    "        urls.append(link.get(\"href\"))"
   ]
  },
  {
   "cell_type": "code",
   "execution_count": 11,
   "metadata": {},
   "outputs": [
    {
     "data": {
      "text/plain": [
       "['/p/jaque-al-psicoanalista-qck95p?qid=c6b382d3d39f250fa314e14b92d281ac&oid=PE516BK0XMXNELACO&sku=PE516BK0XMXNELACO',\n",
       " '/p/jaque-al-psicoanalista-qck95p',\n",
       " '/p/jaque-al-psicoanalista-qck95p',\n",
       " '/p/libro-el-hombre-mas-rico-de-babilonia-separador-de-pa-gina-n55va3?qid=c6b382d3d39f250fa314e14b92d281ac&oid=2F9077A1B7449789584827449&sku=MU087BK160CQ0LCO',\n",
       " '/p/libro-el-hombre-mas-rico-de-babilonia-separador-de-pa-gina-n55va3',\n",
       " '/p/libro-el-hombre-mas-rico-de-babilonia-separador-de-pa-gina-n55va3',\n",
       " '/p/libro-el-milagro-de-la-dina-mica-mental-n2p9h1?qid=c6b382d3d39f250fa314e14b92d281ac&oid=MU087BK18AQS2LCO&sku=MU087BK18AQS2LCO',\n",
       " '/p/libro-el-milagro-de-la-dina-mica-mental-n2p9h1',\n",
       " '/p/libro-el-milagro-de-la-dina-mica-mental-n2p9h1',\n",
       " '/p/quinientas-veces-tu-nombre-oqrtay?qid=c6b382d3d39f250fa314e14b92d281ac&oid=DE106BK11Y98WLACO&sku=DE106BK11Y98WLACO']"
      ]
     },
     "execution_count": 11,
     "metadata": {},
     "output_type": "execute_result"
    }
   ],
   "source": [
    "urls[0:10]"
   ]
  },
  {
   "cell_type": "code",
   "execution_count": 12,
   "metadata": {},
   "outputs": [
    {
     "data": {
      "text/plain": [
       "3000"
      ]
     },
     "execution_count": 12,
     "metadata": {},
     "output_type": "execute_result"
    }
   ],
   "source": [
    "len(urls)"
   ]
  },
  {
   "cell_type": "code",
   "execution_count": 13,
   "metadata": {},
   "outputs": [],
   "source": [
    "df = pd.DataFrame({\"URLS\":urls})"
   ]
  },
  {
   "cell_type": "code",
   "execution_count": 14,
   "metadata": {},
   "outputs": [],
   "source": [
    "df = df.drop_duplicates(keep=False)"
   ]
  },
  {
   "cell_type": "code",
   "execution_count": 15,
   "metadata": {},
   "outputs": [
    {
     "data": {
      "text/html": [
       "<div>\n",
       "<style scoped>\n",
       "    .dataframe tbody tr th:only-of-type {\n",
       "        vertical-align: middle;\n",
       "    }\n",
       "\n",
       "    .dataframe tbody tr th {\n",
       "        vertical-align: top;\n",
       "    }\n",
       "\n",
       "    .dataframe thead th {\n",
       "        text-align: right;\n",
       "    }\n",
       "</style>\n",
       "<table border=\"1\" class=\"dataframe\">\n",
       "  <thead>\n",
       "    <tr style=\"text-align: right;\">\n",
       "      <th></th>\n",
       "      <th>URLS</th>\n",
       "    </tr>\n",
       "  </thead>\n",
       "  <tbody>\n",
       "    <tr>\n",
       "      <th>0</th>\n",
       "      <td>/p/jaque-al-psicoanalista-qck95p?qid=c6b382d3d...</td>\n",
       "    </tr>\n",
       "    <tr>\n",
       "      <th>3</th>\n",
       "      <td>/p/libro-el-hombre-mas-rico-de-babilonia-separ...</td>\n",
       "    </tr>\n",
       "    <tr>\n",
       "      <th>6</th>\n",
       "      <td>/p/libro-el-milagro-de-la-dina-mica-mental-n2p...</td>\n",
       "    </tr>\n",
       "    <tr>\n",
       "      <th>9</th>\n",
       "      <td>/p/quinientas-veces-tu-nombre-oqrtay?qid=c6b38...</td>\n",
       "    </tr>\n",
       "    <tr>\n",
       "      <th>12</th>\n",
       "      <td>/p/pascualina-hollywood-2019-qg5nda?qid=c6b382...</td>\n",
       "    </tr>\n",
       "    <tr>\n",
       "      <th>15</th>\n",
       "      <td>/p/asfixia-qd4al6?qid=c6b382d3d39f250fa314e14b...</td>\n",
       "    </tr>\n",
       "  </tbody>\n",
       "</table>\n",
       "</div>"
      ],
      "text/plain": [
       "                                                 URLS\n",
       "0   /p/jaque-al-psicoanalista-qck95p?qid=c6b382d3d...\n",
       "3   /p/libro-el-hombre-mas-rico-de-babilonia-separ...\n",
       "6   /p/libro-el-milagro-de-la-dina-mica-mental-n2p...\n",
       "9   /p/quinientas-veces-tu-nombre-oqrtay?qid=c6b38...\n",
       "12  /p/pascualina-hollywood-2019-qg5nda?qid=c6b382...\n",
       "15  /p/asfixia-qd4al6?qid=c6b382d3d39f250fa314e14b..."
      ]
     },
     "execution_count": 15,
     "metadata": {},
     "output_type": "execute_result"
    }
   ],
   "source": [
    "df[0:6]"
   ]
  },
  {
   "cell_type": "code",
   "execution_count": 16,
   "metadata": {},
   "outputs": [
    {
     "data": {
      "text/plain": [
       "1000"
      ]
     },
     "execution_count": 16,
     "metadata": {},
     "output_type": "execute_result"
    }
   ],
   "source": [
    "len(df)"
   ]
  },
  {
   "cell_type": "markdown",
   "metadata": {},
   "source": [
    "# Transform"
   ]
  },
  {
   "cell_type": "code",
   "execution_count": 84,
   "metadata": {},
   "outputs": [],
   "source": [
    "df[\"SQRT\"] = \"https://www.linio.com.co\""
   ]
  },
  {
   "cell_type": "code",
   "execution_count": 85,
   "metadata": {},
   "outputs": [],
   "source": [
    "df[\"URLS\"]= df[\"SQRT\"].str.cat(df[\"URLS\"], sep=\"\") "
   ]
  },
  {
   "cell_type": "code",
   "execution_count": 87,
   "metadata": {},
   "outputs": [
    {
     "data": {
      "text/html": [
       "<div>\n",
       "<style scoped>\n",
       "    .dataframe tbody tr th:only-of-type {\n",
       "        vertical-align: middle;\n",
       "    }\n",
       "\n",
       "    .dataframe tbody tr th {\n",
       "        vertical-align: top;\n",
       "    }\n",
       "\n",
       "    .dataframe thead th {\n",
       "        text-align: right;\n",
       "    }\n",
       "</style>\n",
       "<table border=\"1\" class=\"dataframe\">\n",
       "  <thead>\n",
       "    <tr style=\"text-align: right;\">\n",
       "      <th></th>\n",
       "      <th>URLS</th>\n",
       "      <th>SQRT</th>\n",
       "    </tr>\n",
       "  </thead>\n",
       "  <tbody>\n",
       "    <tr>\n",
       "      <th>0</th>\n",
       "      <td>https://www.linio.com.co/p/jaque-al-psicoanali...</td>\n",
       "      <td>https://www.linio.com.co</td>\n",
       "    </tr>\n",
       "    <tr>\n",
       "      <th>3</th>\n",
       "      <td>https://www.linio.com.co/p/libro-el-hombre-mas...</td>\n",
       "      <td>https://www.linio.com.co</td>\n",
       "    </tr>\n",
       "    <tr>\n",
       "      <th>6</th>\n",
       "      <td>https://www.linio.com.co/p/libro-el-milagro-de...</td>\n",
       "      <td>https://www.linio.com.co</td>\n",
       "    </tr>\n",
       "    <tr>\n",
       "      <th>9</th>\n",
       "      <td>https://www.linio.com.co/p/quinientas-veces-tu...</td>\n",
       "      <td>https://www.linio.com.co</td>\n",
       "    </tr>\n",
       "    <tr>\n",
       "      <th>12</th>\n",
       "      <td>https://www.linio.com.co/p/pascualina-hollywoo...</td>\n",
       "      <td>https://www.linio.com.co</td>\n",
       "    </tr>\n",
       "    <tr>\n",
       "      <th>15</th>\n",
       "      <td>https://www.linio.com.co/p/asfixia-qd4al6?qid=...</td>\n",
       "      <td>https://www.linio.com.co</td>\n",
       "    </tr>\n",
       "  </tbody>\n",
       "</table>\n",
       "</div>"
      ],
      "text/plain": [
       "                                                 URLS  \\\n",
       "0   https://www.linio.com.co/p/jaque-al-psicoanali...   \n",
       "3   https://www.linio.com.co/p/libro-el-hombre-mas...   \n",
       "6   https://www.linio.com.co/p/libro-el-milagro-de...   \n",
       "9   https://www.linio.com.co/p/quinientas-veces-tu...   \n",
       "12  https://www.linio.com.co/p/pascualina-hollywoo...   \n",
       "15  https://www.linio.com.co/p/asfixia-qd4al6?qid=...   \n",
       "\n",
       "                        SQRT  \n",
       "0   https://www.linio.com.co  \n",
       "3   https://www.linio.com.co  \n",
       "6   https://www.linio.com.co  \n",
       "9   https://www.linio.com.co  \n",
       "12  https://www.linio.com.co  \n",
       "15  https://www.linio.com.co  "
      ]
     },
     "execution_count": 87,
     "metadata": {},
     "output_type": "execute_result"
    }
   ],
   "source": [
    "df[0:6]"
   ]
  },
  {
   "cell_type": "code",
   "execution_count": 88,
   "metadata": {},
   "outputs": [],
   "source": [
    "urls = list(df[\"URLS\"])"
   ]
  },
  {
   "cell_type": "code",
   "execution_count": 89,
   "metadata": {},
   "outputs": [
    {
     "data": {
      "text/plain": [
       "1000"
      ]
     },
     "execution_count": 89,
     "metadata": {},
     "output_type": "execute_result"
    }
   ],
   "source": [
    "len(urls)"
   ]
  },
  {
   "cell_type": "code",
   "execution_count": 75,
   "metadata": {},
   "outputs": [
    {
     "data": {
      "text/plain": [
       "['https://www.linio.com.co/p/jaque-al-psicoanalista-qck95p?qid=267e1ffc4f4534e337be9da3cfcd7860&oid=PE516BK0XMXNELACO&sku=PE516BK0XMXNELACO',\n",
       " 'https://www.linio.com.co/p/libro-el-hombre-mas-rico-de-babilonia-separador-de-pa-gina-n55va3?qid=267e1ffc4f4534e337be9da3cfcd7860&oid=2F9077A1B7449789584827449&sku=MU087BK160CQ0LCO',\n",
       " 'https://www.linio.com.co/p/libro-el-milagro-de-la-dina-mica-mental-n2p9h1?qid=267e1ffc4f4534e337be9da3cfcd7860&oid=MU087BK18AQS2LCO&sku=MU087BK18AQS2LCO',\n",
       " 'https://www.linio.com.co/p/quinientas-veces-tu-nombre-oqrtay?qid=267e1ffc4f4534e337be9da3cfcd7860&oid=DE106BK11Y98WLACO&sku=DE106BK11Y98WLACO',\n",
       " 'https://www.linio.com.co/p/pascualina-hollywood-2019-qg5nda?qid=267e1ffc4f4534e337be9da3cfcd7860&oid=TH727BK0TS6Z2LCO&sku=TH727BK0TS6Z2LCO',\n",
       " 'https://www.linio.com.co/p/asfixia-qd4al6?qid=267e1ffc4f4534e337be9da3cfcd7860&oid=NO848BK0X6SEOLACO&sku=NO848BK0X6SEOLACO']"
      ]
     },
     "execution_count": 75,
     "metadata": {},
     "output_type": "execute_result"
    }
   ],
   "source": [
    "urls[0:6]"
   ]
  },
  {
   "cell_type": "code",
   "execution_count": 76,
   "metadata": {},
   "outputs": [
    {
     "data": {
      "text/plain": [
       "6"
      ]
     },
     "execution_count": 76,
     "metadata": {},
     "output_type": "execute_result"
    }
   ],
   "source": []
  },
  {
   "cell_type": "code",
   "execution_count": null,
   "metadata": {},
   "outputs": [],
   "source": []
  }
 ],
 "metadata": {
  "kernelspec": {
   "display_name": "Python 3",
   "language": "python",
   "name": "python3"
  },
  "language_info": {
   "codemirror_mode": {
    "name": "ipython",
    "version": 3
   },
   "file_extension": ".py",
   "mimetype": "text/x-python",
   "name": "python",
   "nbconvert_exporter": "python",
   "pygments_lexer": "ipython3",
   "version": "3.6.4"
  }
 },
 "nbformat": 4,
 "nbformat_minor": 2
}
