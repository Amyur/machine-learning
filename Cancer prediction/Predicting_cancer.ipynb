{
 "cells": [
  {
   "cell_type": "markdown",
   "metadata": {},
   "source": [
    "# Preprocessing"
   ]
  },
  {
   "cell_type": "code",
   "execution_count": 1,
   "metadata": {},
   "outputs": [],
   "source": [
    "import pandas as pd\n",
    "import numpy as np"
   ]
  },
  {
   "cell_type": "code",
   "execution_count": 2,
   "metadata": {},
   "outputs": [],
   "source": [
    "df = pd.read_csv(\"cancer_data.csv\")"
   ]
  },
  {
   "cell_type": "code",
   "execution_count": 3,
   "metadata": {},
   "outputs": [
    {
     "data": {
      "text/html": [
       "<div>\n",
       "<style scoped>\n",
       "    .dataframe tbody tr th:only-of-type {\n",
       "        vertical-align: middle;\n",
       "    }\n",
       "\n",
       "    .dataframe tbody tr th {\n",
       "        vertical-align: top;\n",
       "    }\n",
       "\n",
       "    .dataframe thead th {\n",
       "        text-align: right;\n",
       "    }\n",
       "</style>\n",
       "<table border=\"1\" class=\"dataframe\">\n",
       "  <thead>\n",
       "    <tr style=\"text-align: right;\">\n",
       "      <th></th>\n",
       "      <th>id</th>\n",
       "      <th>diagnosis_result</th>\n",
       "      <th>radius</th>\n",
       "      <th>texture</th>\n",
       "      <th>perimeter</th>\n",
       "      <th>area</th>\n",
       "      <th>smoothness</th>\n",
       "      <th>compactness</th>\n",
       "      <th>symmetry</th>\n",
       "      <th>fractal_dimension</th>\n",
       "    </tr>\n",
       "  </thead>\n",
       "  <tbody>\n",
       "    <tr>\n",
       "      <td>0</td>\n",
       "      <td>1</td>\n",
       "      <td>M</td>\n",
       "      <td>23</td>\n",
       "      <td>12</td>\n",
       "      <td>151</td>\n",
       "      <td>954</td>\n",
       "      <td>0.143</td>\n",
       "      <td>0.278</td>\n",
       "      <td>0.242</td>\n",
       "      <td>0.079</td>\n",
       "    </tr>\n",
       "    <tr>\n",
       "      <td>1</td>\n",
       "      <td>2</td>\n",
       "      <td>B</td>\n",
       "      <td>9</td>\n",
       "      <td>13</td>\n",
       "      <td>133</td>\n",
       "      <td>1326</td>\n",
       "      <td>0.143</td>\n",
       "      <td>0.079</td>\n",
       "      <td>0.181</td>\n",
       "      <td>0.057</td>\n",
       "    </tr>\n",
       "    <tr>\n",
       "      <td>2</td>\n",
       "      <td>3</td>\n",
       "      <td>M</td>\n",
       "      <td>21</td>\n",
       "      <td>27</td>\n",
       "      <td>130</td>\n",
       "      <td>1203</td>\n",
       "      <td>0.125</td>\n",
       "      <td>0.160</td>\n",
       "      <td>0.207</td>\n",
       "      <td>0.060</td>\n",
       "    </tr>\n",
       "    <tr>\n",
       "      <td>3</td>\n",
       "      <td>4</td>\n",
       "      <td>M</td>\n",
       "      <td>14</td>\n",
       "      <td>16</td>\n",
       "      <td>78</td>\n",
       "      <td>386</td>\n",
       "      <td>0.070</td>\n",
       "      <td>0.284</td>\n",
       "      <td>0.260</td>\n",
       "      <td>0.097</td>\n",
       "    </tr>\n",
       "  </tbody>\n",
       "</table>\n",
       "</div>"
      ],
      "text/plain": [
       "   id diagnosis_result  radius  texture  perimeter  area  smoothness  \\\n",
       "0   1                M      23       12        151   954       0.143   \n",
       "1   2                B       9       13        133  1326       0.143   \n",
       "2   3                M      21       27        130  1203       0.125   \n",
       "3   4                M      14       16         78   386       0.070   \n",
       "\n",
       "   compactness  symmetry  fractal_dimension  \n",
       "0        0.278     0.242              0.079  \n",
       "1        0.079     0.181              0.057  \n",
       "2        0.160     0.207              0.060  \n",
       "3        0.284     0.260              0.097  "
      ]
     },
     "execution_count": 3,
     "metadata": {},
     "output_type": "execute_result"
    }
   ],
   "source": [
    "df.head(4)"
   ]
  },
  {
   "cell_type": "code",
   "execution_count": 4,
   "metadata": {},
   "outputs": [
    {
     "data": {
      "text/plain": [
       "(100, 10)"
      ]
     },
     "execution_count": 4,
     "metadata": {},
     "output_type": "execute_result"
    }
   ],
   "source": [
    "df.shape"
   ]
  },
  {
   "cell_type": "code",
   "execution_count": 5,
   "metadata": {},
   "outputs": [
    {
     "name": "stdout",
     "output_type": "stream",
     "text": [
      "<class 'pandas.core.frame.DataFrame'>\n",
      "RangeIndex: 100 entries, 0 to 99\n",
      "Data columns (total 10 columns):\n",
      "id                   100 non-null int64\n",
      "diagnosis_result     100 non-null object\n",
      "radius               100 non-null int64\n",
      "texture              100 non-null int64\n",
      "perimeter            100 non-null int64\n",
      "area                 100 non-null int64\n",
      "smoothness           100 non-null float64\n",
      "compactness          100 non-null float64\n",
      "symmetry             100 non-null float64\n",
      "fractal_dimension    100 non-null float64\n",
      "dtypes: float64(4), int64(5), object(1)\n",
      "memory usage: 7.9+ KB\n"
     ]
    }
   ],
   "source": [
    "df.info()"
   ]
  },
  {
   "cell_type": "code",
   "execution_count": 6,
   "metadata": {},
   "outputs": [],
   "source": [
    "df = df.replace(\"M\", 1)"
   ]
  },
  {
   "cell_type": "code",
   "execution_count": 7,
   "metadata": {},
   "outputs": [],
   "source": [
    "df = df.replace(\"B\", 0)"
   ]
  },
  {
   "cell_type": "code",
   "execution_count": 8,
   "metadata": {},
   "outputs": [
    {
     "data": {
      "text/html": [
       "<div>\n",
       "<style scoped>\n",
       "    .dataframe tbody tr th:only-of-type {\n",
       "        vertical-align: middle;\n",
       "    }\n",
       "\n",
       "    .dataframe tbody tr th {\n",
       "        vertical-align: top;\n",
       "    }\n",
       "\n",
       "    .dataframe thead th {\n",
       "        text-align: right;\n",
       "    }\n",
       "</style>\n",
       "<table border=\"1\" class=\"dataframe\">\n",
       "  <thead>\n",
       "    <tr style=\"text-align: right;\">\n",
       "      <th></th>\n",
       "      <th>id</th>\n",
       "      <th>diagnosis_result</th>\n",
       "      <th>radius</th>\n",
       "      <th>texture</th>\n",
       "      <th>perimeter</th>\n",
       "      <th>area</th>\n",
       "      <th>smoothness</th>\n",
       "      <th>compactness</th>\n",
       "      <th>symmetry</th>\n",
       "      <th>fractal_dimension</th>\n",
       "    </tr>\n",
       "  </thead>\n",
       "  <tbody>\n",
       "    <tr>\n",
       "      <td>0</td>\n",
       "      <td>1</td>\n",
       "      <td>1</td>\n",
       "      <td>23</td>\n",
       "      <td>12</td>\n",
       "      <td>151</td>\n",
       "      <td>954</td>\n",
       "      <td>0.143</td>\n",
       "      <td>0.278</td>\n",
       "      <td>0.242</td>\n",
       "      <td>0.079</td>\n",
       "    </tr>\n",
       "    <tr>\n",
       "      <td>1</td>\n",
       "      <td>2</td>\n",
       "      <td>0</td>\n",
       "      <td>9</td>\n",
       "      <td>13</td>\n",
       "      <td>133</td>\n",
       "      <td>1326</td>\n",
       "      <td>0.143</td>\n",
       "      <td>0.079</td>\n",
       "      <td>0.181</td>\n",
       "      <td>0.057</td>\n",
       "    </tr>\n",
       "    <tr>\n",
       "      <td>2</td>\n",
       "      <td>3</td>\n",
       "      <td>1</td>\n",
       "      <td>21</td>\n",
       "      <td>27</td>\n",
       "      <td>130</td>\n",
       "      <td>1203</td>\n",
       "      <td>0.125</td>\n",
       "      <td>0.160</td>\n",
       "      <td>0.207</td>\n",
       "      <td>0.060</td>\n",
       "    </tr>\n",
       "    <tr>\n",
       "      <td>3</td>\n",
       "      <td>4</td>\n",
       "      <td>1</td>\n",
       "      <td>14</td>\n",
       "      <td>16</td>\n",
       "      <td>78</td>\n",
       "      <td>386</td>\n",
       "      <td>0.070</td>\n",
       "      <td>0.284</td>\n",
       "      <td>0.260</td>\n",
       "      <td>0.097</td>\n",
       "    </tr>\n",
       "  </tbody>\n",
       "</table>\n",
       "</div>"
      ],
      "text/plain": [
       "   id  diagnosis_result  radius  texture  perimeter  area  smoothness  \\\n",
       "0   1                 1      23       12        151   954       0.143   \n",
       "1   2                 0       9       13        133  1326       0.143   \n",
       "2   3                 1      21       27        130  1203       0.125   \n",
       "3   4                 1      14       16         78   386       0.070   \n",
       "\n",
       "   compactness  symmetry  fractal_dimension  \n",
       "0        0.278     0.242              0.079  \n",
       "1        0.079     0.181              0.057  \n",
       "2        0.160     0.207              0.060  \n",
       "3        0.284     0.260              0.097  "
      ]
     },
     "execution_count": 8,
     "metadata": {},
     "output_type": "execute_result"
    }
   ],
   "source": [
    "df.head(4)"
   ]
  },
  {
   "cell_type": "code",
   "execution_count": 9,
   "metadata": {},
   "outputs": [
    {
     "data": {
      "text/plain": [
       "<matplotlib.axes._subplots.AxesSubplot at 0x15a0e09d808>"
      ]
     },
     "execution_count": 9,
     "metadata": {},
     "output_type": "execute_result"
    },
    {
     "data": {
      "image/png": "[encoded data removed]",
      "text/plain": [
       "<Figure size 432x288 with 1 Axes>"
      ]
     },
     "metadata": {
      "needs_background": "light"
     },
     "output_type": "display_data"
    }
   ],
   "source": [
    "%matplotlib inline\n",
    "df[\"diagnosis_result\"].hist()"
   ]
  },
  {
   "cell_type": "markdown",
   "metadata": {},
   "source": [
    "### Splitting data"
   ]
  },
  {
   "cell_type": "code",
   "execution_count": 10,
   "metadata": {},
   "outputs": [],
   "source": [
    "x = df.drop(\"diagnosis_result\", axis=1)"
   ]
  },
  {
   "cell_type": "code",
   "execution_count": 11,
   "metadata": {},
   "outputs": [],
   "source": [
    "y = df[\"diagnosis_result\"]"
   ]
  },
  {
   "cell_type": "code",
   "execution_count": 12,
   "metadata": {},
   "outputs": [],
   "source": [
    "from sklearn.model_selection import train_test_split\n",
    "\n",
    "x_train, x_test, y_train, y_test = train_test_split(x, y, test_size=0.33, random_state=42, stratify=y)"
   ]
  },
  {
   "cell_type": "code",
   "execution_count": 13,
   "metadata": {},
   "outputs": [
    {
     "data": {
      "text/plain": [
       "<matplotlib.axes._subplots.AxesSubplot at 0x15a108d7148>"
      ]
     },
     "execution_count": 13,
     "metadata": {},
     "output_type": "execute_result"
    },
    {
     "data": {
      "image/png": "[encoded data removed]",
      "text/plain": [
       "<Figure size 432x288 with 1 Axes>"
      ]
     },
     "metadata": {
      "needs_background": "light"
     },
     "output_type": "display_data"
    }
   ],
   "source": [
    "y_train.hist()"
   ]
  },
  {
   "cell_type": "code",
   "execution_count": 14,
   "metadata": {},
   "outputs": [
    {
     "data": {
      "text/plain": [
       "<matplotlib.axes._subplots.AxesSubplot at 0x15a10960cc8>"
      ]
     },
     "execution_count": 14,
     "metadata": {},
     "output_type": "execute_result"
    },
    {
     "data": {
      "image/png": "[encoded data removed]",
      "text/plain": [
       "<Figure size 432x288 with 1 Axes>"
      ]
     },
     "metadata": {
      "needs_background": "light"
     },
     "output_type": "display_data"
    }
   ],
   "source": [
    "y_test.hist()"
   ]
  },
  {
   "cell_type": "code",
   "execution_count": 15,
   "metadata": {},
   "outputs": [],
   "source": [
    "from sklearn.preprocessing import StandardScaler\n",
    "\n",
    "sc = StandardScaler()"
   ]
  },
  {
   "cell_type": "code",
   "execution_count": 16,
   "metadata": {},
   "outputs": [],
   "source": [
    "x_train = sc.fit_transform(x_train)"
   ]
  },
  {
   "cell_type": "code",
   "execution_count": 17,
   "metadata": {},
   "outputs": [
    {
     "data": {
      "text/html": [
       "<div>\n",
       "<style scoped>\n",
       "    .dataframe tbody tr th:only-of-type {\n",
       "        vertical-align: middle;\n",
       "    }\n",
       "\n",
       "    .dataframe tbody tr th {\n",
       "        vertical-align: top;\n",
       "    }\n",
       "\n",
       "    .dataframe thead th {\n",
       "        text-align: right;\n",
       "    }\n",
       "</style>\n",
       "<table border=\"1\" class=\"dataframe\">\n",
       "  <thead>\n",
       "    <tr style=\"text-align: right;\">\n",
       "      <th></th>\n",
       "      <th>radius</th>\n",
       "      <th>texture</th>\n",
       "      <th>perimeter</th>\n",
       "      <th>area</th>\n",
       "      <th>smoothness</th>\n",
       "      <th>compactness</th>\n",
       "      <th>symmetry</th>\n",
       "      <th>fractal_dimension</th>\n",
       "    </tr>\n",
       "  </thead>\n",
       "  <tbody>\n",
       "    <tr>\n",
       "      <td>0</td>\n",
       "      <td>-0.527005</td>\n",
       "      <td>1.776113</td>\n",
       "      <td>0.916088</td>\n",
       "      <td>0.984532</td>\n",
       "      <td>0.906981</td>\n",
       "      <td>0.335983</td>\n",
       "      <td>0.508431</td>\n",
       "      <td>-0.188917</td>\n",
       "    </tr>\n",
       "    <tr>\n",
       "      <td>1</td>\n",
       "      <td>-0.949872</td>\n",
       "      <td>0.948290</td>\n",
       "      <td>-0.084639</td>\n",
       "      <td>-0.223148</td>\n",
       "      <td>0.210902</td>\n",
       "      <td>1.148310</td>\n",
       "      <td>0.052496</td>\n",
       "      <td>1.039963</td>\n",
       "    </tr>\n",
       "    <tr>\n",
       "      <td>2</td>\n",
       "      <td>-0.104139</td>\n",
       "      <td>1.155246</td>\n",
       "      <td>0.374028</td>\n",
       "      <td>0.279272</td>\n",
       "      <td>0.141294</td>\n",
       "      <td>0.445334</td>\n",
       "      <td>0.215330</td>\n",
       "      <td>0.056859</td>\n",
       "    </tr>\n",
       "    <tr>\n",
       "      <td>3</td>\n",
       "      <td>-0.949872</td>\n",
       "      <td>-0.914312</td>\n",
       "      <td>-0.168033</td>\n",
       "      <td>-0.435350</td>\n",
       "      <td>0.767765</td>\n",
       "      <td>1.585717</td>\n",
       "      <td>0.443298</td>\n",
       "      <td>1.531515</td>\n",
       "    </tr>\n",
       "  </tbody>\n",
       "</table>\n",
       "</div>"
      ],
      "text/plain": [
       "     radius   texture  perimeter      area  smoothness  compactness  symmetry  \\\n",
       "0 -0.527005  1.776113   0.916088  0.984532    0.906981     0.335983  0.508431   \n",
       "1 -0.949872  0.948290  -0.084639 -0.223148    0.210902     1.148310  0.052496   \n",
       "2 -0.104139  1.155246   0.374028  0.279272    0.141294     0.445334  0.215330   \n",
       "3 -0.949872 -0.914312  -0.168033 -0.435350    0.767765     1.585717  0.443298   \n",
       "\n",
       "   fractal_dimension  \n",
       "0          -0.188917  \n",
       "1           1.039963  \n",
       "2           0.056859  \n",
       "3           1.531515  "
      ]
     },
     "execution_count": 17,
     "metadata": {},
     "output_type": "execute_result"
    }
   ],
   "source": [
    "x_train = pd.DataFrame(data=x_train[:,1:],    # values\n",
    "             index=range(0,67), \n",
    "              columns=x.columns[1:])\n",
    "x_train.head(4)"
   ]
  },
  {
   "cell_type": "code",
   "execution_count": 18,
   "metadata": {},
   "outputs": [
    {
     "data": {
      "text/plain": [
       "(67, 8)"
      ]
     },
     "execution_count": 18,
     "metadata": {},
     "output_type": "execute_result"
    }
   ],
   "source": [
    "x_train.shape"
   ]
  },
  {
   "cell_type": "markdown",
   "metadata": {},
   "source": [
    "# Feature selection"
   ]
  },
  {
   "cell_type": "markdown",
   "metadata": {},
   "source": [
    "### K best"
   ]
  },
  {
   "cell_type": "code",
   "execution_count": 19,
   "metadata": {},
   "outputs": [],
   "source": [
    "from sklearn.feature_selection import SelectKBest\n",
    "from sklearn.feature_selection import mutual_info_regression\n",
    "import matplotlib.pyplot as plt"
   ]
  },
  {
   "cell_type": "code",
   "execution_count": 20,
   "metadata": {},
   "outputs": [],
   "source": [
    "selector = SelectKBest(mutual_info_regression, k=4)"
   ]
  },
  {
   "cell_type": "code",
   "execution_count": 21,
   "metadata": {},
   "outputs": [
    {
     "data": {
      "text/plain": [
       "SelectKBest(k=4,\n",
       "            score_func=<function mutual_info_regression at 0x0000015A10A93798>)"
      ]
     },
     "execution_count": 21,
     "metadata": {},
     "output_type": "execute_result"
    }
   ],
   "source": [
    "selector.fit(x_train, y_train)"
   ]
  },
  {
   "cell_type": "code",
   "execution_count": 22,
   "metadata": {},
   "outputs": [
    {
     "data": {
      "text/plain": [
       "array([0.        , 0.02925074, 0.26991197, 0.2897641 , 0.01840877,\n",
       "       0.23761696, 0.02775505, 0.08717424])"
      ]
     },
     "execution_count": 22,
     "metadata": {},
     "output_type": "execute_result"
    }
   ],
   "source": [
    "selector.scores_"
   ]
  },
  {
   "cell_type": "code",
   "execution_count": 23,
   "metadata": {},
   "outputs": [
    {
     "data": {
      "image/png": "[encoded data removed]",
      "text/plain": [
       "<Figure size 864x360 with 1 Axes>"
      ]
     },
     "metadata": {
      "needs_background": "light"
     },
     "output_type": "display_data"
    }
   ],
   "source": [
    "scores = selector.scores_\n",
    "plt.rcParams[\"figure.figsize\"] = [12,5]\n",
    "plt.plot(scores)\n",
    "plt.xticks(np.arange(7),list(x_train.columns));"
   ]
  },
  {
   "cell_type": "markdown",
   "metadata": {},
   "source": [
    "- Perimeter\n",
    "- Area\n",
    "- Compactness\n",
    "- fractal_dimension"
   ]
  },
  {
   "cell_type": "markdown",
   "metadata": {},
   "source": [
    "### Ridge CV"
   ]
  },
  {
   "cell_type": "code",
   "execution_count": 24,
   "metadata": {},
   "outputs": [],
   "source": [
    "from sklearn.linear_model import RidgeCV"
   ]
  },
  {
   "cell_type": "code",
   "execution_count": 25,
   "metadata": {},
   "outputs": [],
   "source": [
    "crv = RidgeCV(store_cv_values=True)"
   ]
  },
  {
   "cell_type": "code",
   "execution_count": 26,
   "metadata": {},
   "outputs": [],
   "source": [
    "fit = crv.fit(x_train, y_train)"
   ]
  },
  {
   "cell_type": "code",
   "execution_count": 27,
   "metadata": {},
   "outputs": [
    {
     "data": {
      "text/plain": [
       "1.0"
      ]
     },
     "execution_count": 27,
     "metadata": {},
     "output_type": "execute_result"
    }
   ],
   "source": [
    "fit.alpha_"
   ]
  },
  {
   "cell_type": "code",
   "execution_count": 28,
   "metadata": {},
   "outputs": [],
   "source": [
    "var = np.floor(np.log10(np.abs(fit.coef_)))"
   ]
  },
  {
   "cell_type": "code",
   "execution_count": 29,
   "metadata": {},
   "outputs": [
    {
     "data": {
      "image/png": "[encoded data removed]",
      "text/plain": [
       "<Figure size 864x360 with 1 Axes>"
      ]
     },
     "metadata": {
      "needs_background": "light"
     },
     "output_type": "display_data"
    }
   ],
   "source": [
    "plt.rcParams[\"figure.figsize\"] = [12,5]\n",
    "plt.plot(var)\n",
    "plt.xticks(np.arange(7),list(x_train.columns));"
   ]
  },
  {
   "cell_type": "markdown",
   "metadata": {},
   "source": [
    "- Perimeter\n",
    "- area\n",
    "- compactness\n",
    "- fractal_dimension"
   ]
  },
  {
   "cell_type": "markdown",
   "metadata": {},
   "source": [
    "### Recursive Feature Elimination (RFE)"
   ]
  },
  {
   "cell_type": "markdown",
   "metadata": {},
   "source": [
    "Es un método backward de selección, es decir que se van creando modelos y removiendo aquellos features que menos info aporten."
   ]
  },
  {
   "cell_type": "code",
   "execution_count": 30,
   "metadata": {},
   "outputs": [],
   "source": [
    "import warnings\n",
    "warnings.filterwarnings('ignore')\n",
    "pd.options.display.max_columns = None\n",
    "\n",
    "from sklearn.ensemble import RandomForestClassifier\n",
    "from sklearn.model_selection import StratifiedKFold  #Hace que el set test y train esten estratificados\n",
    "from sklearn.feature_selection import RFECV"
   ]
  },
  {
   "cell_type": "code",
   "execution_count": 31,
   "metadata": {},
   "outputs": [
    {
     "data": {
      "text/plain": [
       "RFECV(cv=StratifiedKFold(n_splits=10, random_state=None, shuffle=False),\n",
       "      estimator=RandomForestClassifier(bootstrap=True, class_weight=None,\n",
       "                                       criterion='gini', max_depth=None,\n",
       "                                       max_features='auto', max_leaf_nodes=None,\n",
       "                                       min_impurity_decrease=0.0,\n",
       "                                       min_impurity_split=None,\n",
       "                                       min_samples_leaf=1, min_samples_split=2,\n",
       "                                       min_weight_fraction_leaf=0.0,\n",
       "                                       n_estimators='warn', n_jobs=None,\n",
       "                                       oob_score=False, random_state=101,\n",
       "                                       verbose=0, warm_start=False),\n",
       "      min_features_to_select=1, n_jobs=None, scoring='accuracy', step=1,\n",
       "      verbose=0)"
      ]
     },
     "execution_count": 31,
     "metadata": {},
     "output_type": "execute_result"
    }
   ],
   "source": [
    "rfc = RandomForestClassifier(random_state=101)\n",
    "\n",
    "rfecv = RFECV(estimator=rfc, step=1, cv=StratifiedKFold(10), scoring='accuracy')\n",
    "rfecv.fit(x_train, y_train)"
   ]
  },
  {
   "cell_type": "code",
   "execution_count": 32,
   "metadata": {},
   "outputs": [
    {
     "name": "stdout",
     "output_type": "stream",
     "text": [
      "Optimal number of features: 8\n"
     ]
    }
   ],
   "source": [
    "print('Optimal number of features: {}'.format(rfecv.n_features_))"
   ]
  },
  {
   "cell_type": "code",
   "execution_count": 33,
   "metadata": {},
   "outputs": [
    {
     "data": {
      "image/png": "[encoded data removed]",
      "text/plain": [
       "<Figure size 864x360 with 1 Axes>"
      ]
     },
     "metadata": {
      "needs_background": "light"
     },
     "output_type": "display_data"
    }
   ],
   "source": [
    "plt.figure(figsize=(12, 5))\n",
    "plt.title('Recursive Feature Elimination with Cross-Validation', fontsize=18, fontweight='bold', pad=20)\n",
    "plt.xlabel('Number of features selected', fontsize=14, labelpad=20)\n",
    "plt.ylabel('% Correct Classification', fontsize=14, labelpad=20)\n",
    "plt.plot(range(1, len(rfecv.grid_scores_) + 1), rfecv.grid_scores_, color='#303F9F', linewidth=3)\n",
    "\n",
    "plt.show()"
   ]
  },
  {
   "cell_type": "markdown",
   "metadata": {},
   "source": [
    "- The performance of choising 3 and 5 variables is almost de same, then we chose 3 to reduce the complexity"
   ]
  },
  {
   "cell_type": "code",
   "execution_count": 34,
   "metadata": {},
   "outputs": [],
   "source": [
    "dset = pd.DataFrame()\n",
    "dset['attr'] = x_train.columns\n",
    "dset['importance'] = rfecv.estimator_.feature_importances_\n",
    "\n",
    "dset = dset.sort_values(by='importance', ascending=False)"
   ]
  },
  {
   "cell_type": "code",
   "execution_count": 35,
   "metadata": {},
   "outputs": [
    {
     "data": {
      "image/png": "[encoded data removed]",
      "text/plain": [
       "<Figure size 864x360 with 1 Axes>"
      ]
     },
     "metadata": {
      "needs_background": "light"
     },
     "output_type": "display_data"
    }
   ],
   "source": [
    "plt.figure(figsize=(12, 5))\n",
    "plt.barh(y=dset['attr'], width=dset['importance'], color='#1976D2')\n",
    "plt.title('RFECV - Feature Importances', fontsize=20, fontweight='bold', pad=20)\n",
    "plt.xlabel('Importance', fontsize=14, labelpad=20)\n",
    "plt.show()"
   ]
  },
  {
   "cell_type": "markdown",
   "metadata": {},
   "source": [
    "- compactness\n",
    "- area\n",
    "- perimeter\n",
    "- symmetry"
   ]
  },
  {
   "cell_type": "markdown",
   "metadata": {},
   "source": [
    "#### Choosed variables are: area, perimeter, compactness and fractal_dimension"
   ]
  },
  {
   "cell_type": "code",
   "execution_count": 36,
   "metadata": {},
   "outputs": [],
   "source": [
    "x_test, x_train = (x_test[[\"area\", \"perimeter\", \"compactness\", \"fractal_dimension\"]],\n",
    "                   x_train[[\"area\", \"perimeter\", \"compactness\", \"fractal_dimension\"]])"
   ]
  },
  {
   "cell_type": "code",
   "execution_count": 37,
   "metadata": {},
   "outputs": [
    {
     "data": {
      "text/html": [
       "<div>\n",
       "<style scoped>\n",
       "    .dataframe tbody tr th:only-of-type {\n",
       "        vertical-align: middle;\n",
       "    }\n",
       "\n",
       "    .dataframe tbody tr th {\n",
       "        vertical-align: top;\n",
       "    }\n",
       "\n",
       "    .dataframe thead th {\n",
       "        text-align: right;\n",
       "    }\n",
       "</style>\n",
       "<table border=\"1\" class=\"dataframe\">\n",
       "  <thead>\n",
       "    <tr style=\"text-align: right;\">\n",
       "      <th></th>\n",
       "      <th>area</th>\n",
       "      <th>perimeter</th>\n",
       "      <th>compactness</th>\n",
       "      <th>fractal_dimension</th>\n",
       "    </tr>\n",
       "  </thead>\n",
       "  <tbody>\n",
       "    <tr>\n",
       "      <td>area</td>\n",
       "      <td>1.000000</td>\n",
       "      <td>0.971628</td>\n",
       "      <td>0.447421</td>\n",
       "      <td>-0.239045</td>\n",
       "    </tr>\n",
       "    <tr>\n",
       "      <td>perimeter</td>\n",
       "      <td>0.971628</td>\n",
       "      <td>1.000000</td>\n",
       "      <td>0.559076</td>\n",
       "      <td>-0.144321</td>\n",
       "    </tr>\n",
       "    <tr>\n",
       "      <td>compactness</td>\n",
       "      <td>0.447421</td>\n",
       "      <td>0.559076</td>\n",
       "      <td>1.000000</td>\n",
       "      <td>0.663771</td>\n",
       "    </tr>\n",
       "    <tr>\n",
       "      <td>fractal_dimension</td>\n",
       "      <td>-0.239045</td>\n",
       "      <td>-0.144321</td>\n",
       "      <td>0.663771</td>\n",
       "      <td>1.000000</td>\n",
       "    </tr>\n",
       "  </tbody>\n",
       "</table>\n",
       "</div>"
      ],
      "text/plain": [
       "                       area  perimeter  compactness  fractal_dimension\n",
       "area               1.000000   0.971628     0.447421          -0.239045\n",
       "perimeter          0.971628   1.000000     0.559076          -0.144321\n",
       "compactness        0.447421   0.559076     1.000000           0.663771\n",
       "fractal_dimension -0.239045  -0.144321     0.663771           1.000000"
      ]
     },
     "execution_count": 37,
     "metadata": {},
     "output_type": "execute_result"
    }
   ],
   "source": [
    "x_train.corr()"
   ]
  },
  {
   "cell_type": "markdown",
   "metadata": {},
   "source": [
    "- There is multicolinealitity between area and perimeter, then we delete on of those, in this case we delete perimeter"
   ]
  },
  {
   "cell_type": "code",
   "execution_count": 38,
   "metadata": {},
   "outputs": [],
   "source": [
    "x_test, x_train = x_test.drop(\"perimeter\", axis=1), x_train.drop(\"perimeter\", axis=1)"
   ]
  },
  {
   "cell_type": "markdown",
   "metadata": {},
   "source": [
    "# Modeling"
   ]
  },
  {
   "cell_type": "code",
   "execution_count": 39,
   "metadata": {},
   "outputs": [],
   "source": [
    "from sklearn.linear_model import LogisticRegression\n",
    "from sklearn.model_selection import cross_validate"
   ]
  },
  {
   "cell_type": "markdown",
   "metadata": {},
   "source": [
    "- Logistic regression"
   ]
  },
  {
   "cell_type": "code",
   "execution_count": 40,
   "metadata": {},
   "outputs": [],
   "source": [
    "results_1 = cross_validate(LogisticRegression(), x_train, y_train, return_train_score=True, cv=5)"
   ]
  },
  {
   "cell_type": "code",
   "execution_count": 41,
   "metadata": {},
   "outputs": [
    {
     "name": "stdout",
     "output_type": "stream",
     "text": [
      "0.8733752620545072\n",
      "0.8692307692307694\n"
     ]
    }
   ],
   "source": [
    "test_scores = results_1['test_score']\n",
    "train_scores = results_1['train_score']\n",
    "print(np.mean(train_scores))\n",
    "print(np.mean(test_scores))"
   ]
  },
  {
   "cell_type": "markdown",
   "metadata": {},
   "source": [
    "- SVM linear"
   ]
  },
  {
   "cell_type": "code",
   "execution_count": 42,
   "metadata": {},
   "outputs": [],
   "source": [
    "from sklearn.svm import LinearSVC"
   ]
  },
  {
   "cell_type": "code",
   "execution_count": 43,
   "metadata": {},
   "outputs": [],
   "source": [
    "results_2 = cross_validate(LinearSVC(), x_train, y_train, return_train_score=True, cv=5)"
   ]
  },
  {
   "cell_type": "code",
   "execution_count": 44,
   "metadata": {},
   "outputs": [
    {
     "name": "stdout",
     "output_type": "stream",
     "text": [
      "0.8473794549266248\n",
      "0.8076923076923078\n"
     ]
    }
   ],
   "source": [
    "test_scores = results_2['test_score']\n",
    "train_scores = results_2['train_score']\n",
    "print(np.mean(train_scores))\n",
    "print(np.mean(test_scores))"
   ]
  },
  {
   "cell_type": "markdown",
   "metadata": {},
   "source": [
    "- SVM poly degree=2"
   ]
  },
  {
   "cell_type": "code",
   "execution_count": 45,
   "metadata": {},
   "outputs": [],
   "source": [
    "from sklearn.svm import SVC"
   ]
  },
  {
   "cell_type": "code",
   "execution_count": 46,
   "metadata": {},
   "outputs": [],
   "source": [
    "results_3 = cross_validate(SVC(kernel=\"poly\", degree=2, coef0=1, C=5), x_train, y_train, return_train_score=True, cv=5)"
   ]
  },
  {
   "cell_type": "code",
   "execution_count": 47,
   "metadata": {},
   "outputs": [
    {
     "name": "stdout",
     "output_type": "stream",
     "text": [
      "0.8994409503843466\n",
      "0.867032967032967\n"
     ]
    }
   ],
   "source": [
    "test_scores = results_3['test_score']\n",
    "train_scores = results_3['train_score']\n",
    "print(np.mean(train_scores))\n",
    "print(np.mean(test_scores))"
   ]
  },
  {
   "cell_type": "markdown",
   "metadata": {},
   "source": [
    "- DecisionTree"
   ]
  },
  {
   "cell_type": "code",
   "execution_count": 48,
   "metadata": {},
   "outputs": [],
   "source": [
    "from sklearn.tree import DecisionTreeClassifier"
   ]
  },
  {
   "cell_type": "code",
   "execution_count": 49,
   "metadata": {},
   "outputs": [],
   "source": [
    "results_4 = cross_validate(DecisionTreeClassifier(max_depth=3), x_train, y_train, return_train_score=True, cv=5)"
   ]
  },
  {
   "cell_type": "code",
   "execution_count": 50,
   "metadata": {},
   "outputs": [
    {
     "name": "stdout",
     "output_type": "stream",
     "text": [
      "0.940461215932914\n",
      "0.7934065934065935\n"
     ]
    }
   ],
   "source": [
    "test_scores = results_4[\"test_score\"]\n",
    "train_scores = results_4[\"train_score\"]\n",
    "print(np.mean(train_scores))\n",
    "print(np.mean(test_scores))"
   ]
  },
  {
   "cell_type": "markdown",
   "metadata": {},
   "source": [
    "- RandomForest"
   ]
  },
  {
   "cell_type": "code",
   "execution_count": 51,
   "metadata": {},
   "outputs": [],
   "source": [
    "from sklearn.ensemble import RandomForestClassifier"
   ]
  },
  {
   "cell_type": "code",
   "execution_count": 52,
   "metadata": {},
   "outputs": [],
   "source": [
    "results_5 = cross_validate(RandomForestClassifier(max_leaf_nodes=10), x_train, y_train, return_train_score=True, cv=5)"
   ]
  },
  {
   "cell_type": "code",
   "execution_count": 53,
   "metadata": {},
   "outputs": [
    {
     "name": "stdout",
     "output_type": "stream",
     "text": [
      "0.9776380153738644\n",
      "0.8824175824175825\n"
     ]
    }
   ],
   "source": [
    "test_scores = results_5[\"test_score\"]\n",
    "train_scores = results_5[\"train_score\"]\n",
    "print(np.mean(train_scores))\n",
    "print(np.mean(test_scores))"
   ]
  },
  {
   "cell_type": "markdown",
   "metadata": {},
   "source": [
    "- AdaBoost"
   ]
  },
  {
   "cell_type": "code",
   "execution_count": 54,
   "metadata": {},
   "outputs": [],
   "source": [
    "from sklearn.ensemble import AdaBoostClassifier"
   ]
  },
  {
   "cell_type": "code",
   "execution_count": 55,
   "metadata": {},
   "outputs": [],
   "source": [
    "results_6 = cross_validate(AdaBoostClassifier(DecisionTreeClassifier(max_leaf_nodes=10),\n",
    "                                              n_estimators=500, algorithm=\"SAMME.R\",\n",
    "                                              learning_rate=0.1), x_train, y_train, return_train_score=True, cv=5)"
   ]
  },
  {
   "cell_type": "code",
   "execution_count": 56,
   "metadata": {},
   "outputs": [
    {
     "name": "stdout",
     "output_type": "stream",
     "text": [
      "1.0\n",
      "0.7945054945054946\n"
     ]
    }
   ],
   "source": [
    "test_scores = results_6[\"test_score\"]\n",
    "train_scores = results_6[\"train_score\"]\n",
    "print(np.mean(train_scores))\n",
    "print(np.mean(test_scores))"
   ]
  },
  {
   "cell_type": "markdown",
   "metadata": {},
   "source": [
    "- GradientBoosting"
   ]
  },
  {
   "cell_type": "code",
   "execution_count": 57,
   "metadata": {},
   "outputs": [],
   "source": [
    "from sklearn.ensemble import GradientBoostingClassifier\n",
    "\n",
    "results_7 = cross_validate(GradientBoostingClassifier(max_depth=3, n_estimators=40, learning_rate=0.01), x_train, y_train,\n",
    "                      return_train_score=True, cv=5)"
   ]
  },
  {
   "cell_type": "code",
   "execution_count": 58,
   "metadata": {},
   "outputs": [
    {
     "name": "stdout",
     "output_type": "stream",
     "text": [
      "0.9255765199161425\n",
      "0.8087912087912088\n"
     ]
    }
   ],
   "source": [
    "test_scores = results_7[\"test_score\"]\n",
    "train_scores = results_7[\"train_score\"]\n",
    "print(np.mean(train_scores))\n",
    "print(np.mean(test_scores))"
   ]
  },
  {
   "cell_type": "markdown",
   "metadata": {},
   "source": [
    "## Hyperparameter's optimization"
   ]
  },
  {
   "cell_type": "markdown",
   "metadata": {},
   "source": [
    "### RandomForestClassifier"
   ]
  },
  {
   "cell_type": "code",
   "execution_count": 65,
   "metadata": {},
   "outputs": [],
   "source": [
    "params = {\"n_estimators\": range(20, 400, 50),\n",
    "           \"max_features\": [\"auto\",\"sqrt\",\"log2\"],\n",
    "           \"max_depth\": range(2, 10, 1)}"
   ]
  },
  {
   "cell_type": "code",
   "execution_count": 74,
   "metadata": {},
   "outputs": [],
   "source": [
    "from sklearn.model_selection import GridSearchCV"
   ]
  },
  {
   "cell_type": "code",
   "execution_count": 67,
   "metadata": {},
   "outputs": [],
   "source": [
    "estimator = RandomForestClassifier()"
   ]
  },
  {
   "cell_type": "code",
   "execution_count": 68,
   "metadata": {},
   "outputs": [],
   "source": [
    "ggrid = GridSearchCV(estimator, \n",
    "                     param_grid = params,\n",
    "                     scoring=\"accuracy\",\n",
    "                     cv=5\n",
    "                    )"
   ]
  },
  {
   "cell_type": "code",
   "execution_count": 69,
   "metadata": {},
   "outputs": [],
   "source": [
    "final_model = ggrid.fit(x_train, y_train)"
   ]
  },
  {
   "cell_type": "code",
   "execution_count": 77,
   "metadata": {},
   "outputs": [
    {
     "data": {
      "text/plain": [
       "({'mean_fit_time': array([0.02842798, 0.07419977, 0.12360735, 0.17681789, 0.25282879,\n",
       "         0.31956038, 0.4004663 , 0.42277775, 0.02809625, 0.0844378 ,\n",
       "         0.14283538, 0.1831522 , 0.31079535, 0.3613122 , 0.41596675,\n",
       "         0.48844094, 0.03121252, 0.08922243, 0.16599164, 0.23147745,\n",
       "         0.24879508, 0.42384644, 0.38128705, 0.45070362, 0.02695775,\n",
       "         0.10158825, 0.20511045, 0.1998858 , 0.31569786, 0.31963434,\n",
       "         0.39567833, 0.46688871, 0.03048463, 0.08686433, 0.14789672,\n",
       "         0.22010345, 0.30278397, 0.30234003, 0.3556643 , 0.4030035 ,\n",
       "         0.0256721 , 0.0787035 , 0.12991595, 0.18156171, 0.23698683,\n",
       "         0.33172669, 0.33945918, 0.46210546, 0.02556114, 0.07367539,\n",
       "         0.12020946, 0.20004463, 0.2463232 , 0.28555174, 0.36354566,\n",
       "         0.45173349, 0.02360544, 0.08440466, 0.13899055, 0.20448861,\n",
       "         0.25266056, 0.3361783 , 0.4053566 , 0.46136198, 0.03984485,\n",
       "         0.09939404, 0.14211378, 0.19006157, 0.25391588, 0.29374514,\n",
       "         0.36857033, 0.43024354, 0.02682457, 0.08180823, 0.14569149,\n",
       "         0.20607567, 0.23628178, 0.29557896, 0.36306977, 0.40593224,\n",
       "         0.02486687, 0.08010826, 0.15087209, 0.19268279, 0.25910349,\n",
       "         0.30210333, 0.36361032, 0.46574187, 0.0252655 , 0.08017082,\n",
       "         0.13136992, 0.22864227, 0.2829339 , 0.32403789, 0.36088843,\n",
       "         0.42043357, 0.02866812, 0.0797122 , 0.13356977, 0.18888931,\n",
       "         0.25936441, 0.32278214, 0.40958595, 0.42284675, 0.0287612 ,\n",
       "         0.07927237, 0.13563447, 0.19351645, 0.27497354, 0.36898346,\n",
       "         0.44292479, 0.45429902, 0.03261166, 0.08114867, 0.18318448,\n",
       "         0.2270195 , 0.25949812, 0.26865063, 0.32316322, 0.37192845,\n",
       "         0.02262149, 0.07463908, 0.12321534, 0.17505827, 0.22724481,\n",
       "         0.26859393, 0.32432718, 0.37282262, 0.02453909, 0.07034683,\n",
       "         0.12890983, 0.17576542, 0.21486416, 0.27213745, 0.31237607,\n",
       "         0.36688194, 0.02248311, 0.06928687, 0.1260788 , 0.1853878 ,\n",
       "         0.2141727 , 0.25957618, 0.31524668, 0.37850523, 0.02256379,\n",
       "         0.0701417 , 0.13142815, 0.17616892, 0.22041326, 0.27101183,\n",
       "         0.31886249, 0.35671844, 0.02290449, 0.0764854 , 0.12068572,\n",
       "         0.16925769, 0.24080105, 0.32917771, 0.40187511, 0.47427487,\n",
       "         0.03417659, 0.1260736 , 0.17788658, 0.27208319, 0.31845174,\n",
       "         0.37240314, 0.40740976, 0.61709995, 0.02993088, 0.11069994,\n",
       "         0.17442131, 0.23169141, 0.33508086, 0.34306145, 0.39462295,\n",
       "         0.4690949 , 0.0248692 , 0.07626224, 0.12776113, 0.17844725,\n",
       "         0.22303433, 0.29684019, 0.33415542, 0.38250918, 0.0241385 ,\n",
       "         0.07488956, 0.12727647, 0.17475681, 0.23946476, 0.31085329,\n",
       "         0.40669417, 0.47526989]),\n",
       "  'std_fit_time': array([0.00529391, 0.00438034, 0.00233387, 0.00608125, 0.01228861,\n",
       "         0.02038894, 0.03205665, 0.0136412 , 0.0038786 , 0.00262748,\n",
       "         0.0149497 , 0.01009397, 0.0535969 , 0.06208465, 0.08137171,\n",
       "         0.06173736, 0.00633626, 0.01017714, 0.02225915, 0.03803459,\n",
       "         0.0098244 , 0.03437089, 0.0360319 , 0.02527843, 0.00218525,\n",
       "         0.01446415, 0.04323013, 0.01626372, 0.04677172, 0.03904981,\n",
       "         0.03647843, 0.05912901, 0.00541695, 0.0090207 , 0.01773015,\n",
       "         0.02745116, 0.05531479, 0.03163525, 0.01459915, 0.01869544,\n",
       "         0.00198038, 0.00477056, 0.00622319, 0.00522287, 0.00542598,\n",
       "         0.02360592, 0.00689336, 0.11404698, 0.00333448, 0.00729688,\n",
       "         0.00134382, 0.01663185, 0.02648084, 0.01777106, 0.01249713,\n",
       "         0.01165919, 0.00238254, 0.00777192, 0.01043498, 0.02066394,\n",
       "         0.01740429, 0.01324647, 0.03029037, 0.031968  , 0.00904553,\n",
       "         0.00895092, 0.00879749, 0.00812952, 0.02975847, 0.01183527,\n",
       "         0.02424297, 0.01893383, 0.0007118 , 0.00413387, 0.01332262,\n",
       "         0.01369527, 0.00714533, 0.01086131, 0.02047499, 0.01367322,\n",
       "         0.00112392, 0.00878055, 0.01952891, 0.01811777, 0.02779867,\n",
       "         0.01883552, 0.01237044, 0.02367915, 0.00539234, 0.00853308,\n",
       "         0.01038512, 0.0298396 , 0.02643484, 0.02340166, 0.03192251,\n",
       "         0.01467639, 0.00385404, 0.00398489, 0.00788671, 0.00656684,\n",
       "         0.02794222, 0.020293  , 0.05780388, 0.01083901, 0.00718324,\n",
       "         0.00369321, 0.00877057, 0.00389336, 0.04978745, 0.05703038,\n",
       "         0.0456774 , 0.03403118, 0.00533095, 0.00595665, 0.04015737,\n",
       "         0.01613239, 0.0096604 , 0.00614434, 0.0087848 , 0.01098452,\n",
       "         0.00142494, 0.00554732, 0.00338203, 0.0045126 , 0.01155716,\n",
       "         0.01061705, 0.00755513, 0.00633356, 0.00447143, 0.00133348,\n",
       "         0.01389866, 0.01409839, 0.00383975, 0.01173551, 0.00868237,\n",
       "         0.01590752, 0.00257641, 0.0021238 , 0.01137009, 0.01331923,\n",
       "         0.00386064, 0.00427881, 0.01177671, 0.01553064, 0.00213591,\n",
       "         0.00195325, 0.00881813, 0.01293974, 0.00957508, 0.01165871,\n",
       "         0.0099943 , 0.00580791, 0.00268388, 0.00587725, 0.00185554,\n",
       "         0.00454247, 0.00981438, 0.02444722, 0.02478674, 0.03271175,\n",
       "         0.00603659, 0.03309462, 0.02853196, 0.01631271, 0.03001433,\n",
       "         0.0507808 , 0.03479249, 0.1116717 , 0.00362081, 0.02105405,\n",
       "         0.02559609, 0.0179808 , 0.03019493, 0.02816019, 0.02030121,\n",
       "         0.05615238, 0.00255609, 0.00491578, 0.00534087, 0.00669212,\n",
       "         0.00613539, 0.01632711, 0.02162091, 0.00798138, 0.00146537,\n",
       "         0.00322545, 0.00879964, 0.00177277, 0.0161431 , 0.03668863,\n",
       "         0.04390352, 0.04738054]),\n",
       "  'mean_score_time': array([0.00408368, 0.00924239, 0.01325455, 0.0173162 , 0.022473  ,\n",
       "         0.02988563, 0.03821716, 0.0423028 , 0.0040978 , 0.01034374,\n",
       "         0.01501026, 0.01775846, 0.03401074, 0.03412452, 0.03625836,\n",
       "         0.05095024, 0.00378761, 0.01033101, 0.01598759, 0.02609439,\n",
       "         0.02565551, 0.03769712, 0.03545856, 0.05266547, 0.00307512,\n",
       "         0.01183996, 0.02265086, 0.01885114, 0.02766809, 0.02806301,\n",
       "         0.03826208, 0.04852238, 0.0037147 , 0.00856032, 0.013586  ,\n",
       "         0.02074342, 0.03162308, 0.02823453, 0.03219309, 0.03973594,\n",
       "         0.00363493, 0.00918097, 0.01303754, 0.01652222, 0.02384467,\n",
       "         0.03260918, 0.03272247, 0.03872347, 0.00334358, 0.00971742,\n",
       "         0.01420007, 0.01855464, 0.02108159, 0.0292686 , 0.03450389,\n",
       "         0.04030499, 0.00529895, 0.01020565, 0.01670585, 0.02297473,\n",
       "         0.02463932, 0.03131218, 0.04259505, 0.05043812, 0.00789762,\n",
       "         0.01193762, 0.0161509 , 0.02071013, 0.02421746, 0.02861366,\n",
       "         0.03552566, 0.0443193 , 0.00510373, 0.00944991, 0.01403012,\n",
       "         0.02100544, 0.02534637, 0.02823567, 0.03332462, 0.0359138 ,\n",
       "         0.00352874, 0.00999513, 0.01505604, 0.01698203, 0.02707572,\n",
       "         0.03179765, 0.03466883, 0.04161634, 0.00657101, 0.005476  ,\n",
       "         0.01469727, 0.02169909, 0.02730074, 0.0271606 , 0.0338172 ,\n",
       "         0.04478197, 0.00518889, 0.00967736, 0.01431065, 0.0186595 ,\n",
       "         0.02583513, 0.02881217, 0.03536825, 0.04206533, 0.00581293,\n",
       "         0.00979695, 0.01409125, 0.02253561, 0.02661219, 0.03644457,\n",
       "         0.03930511, 0.04222369, 0.00506992, 0.00872207, 0.02033477,\n",
       "         0.02401667, 0.02592793, 0.02625222, 0.0310379 , 0.03413529,\n",
       "         0.00366216, 0.00878124, 0.01250405, 0.0188499 , 0.02056947,\n",
       "         0.02875252, 0.03173957, 0.03398547, 0.00364075, 0.0071579 ,\n",
       "         0.01384954, 0.01526818, 0.02077403, 0.02606626, 0.02991495,\n",
       "         0.03444743, 0.00241375, 0.00645633, 0.01166773, 0.01790276,\n",
       "         0.02034483, 0.0239779 , 0.0280551 , 0.03697004, 0.00399036,\n",
       "         0.00822864, 0.01383533, 0.01567216, 0.01896896, 0.0243741 ,\n",
       "         0.02985005, 0.03260789, 0.00373774, 0.00909319, 0.01249757,\n",
       "         0.01673207, 0.02230048, 0.03152232, 0.03648944, 0.04685507,\n",
       "         0.00578375, 0.01373987, 0.02084827, 0.02483859, 0.03083377,\n",
       "         0.03428993, 0.03614841, 0.05789847, 0.00591884, 0.0113658 ,\n",
       "         0.01489754, 0.02556481, 0.02945414, 0.02886896, 0.03671498,\n",
       "         0.04208245, 0.00485277, 0.0072423 , 0.01340218, 0.01763134,\n",
       "         0.02338977, 0.02891517, 0.03032479, 0.03561416, 0.00329471,\n",
       "         0.00892653, 0.0123642 , 0.01612172, 0.02722492, 0.02627187,\n",
       "         0.03230629, 0.04011288]),\n",
       "  'std_score_time': array([2.53862180e-03, 6.15198193e-04, 2.63890359e-03, 9.18398228e-04,\n",
       "         2.79989456e-03, 2.17244794e-03, 7.92834277e-03, 3.38087090e-03,\n",
       "         1.38699020e-04, 1.65702441e-03, 9.32908687e-04, 1.42531827e-03,\n",
       "         7.33306552e-03, 8.70591702e-03, 6.73496850e-03, 8.54840899e-03,\n",
       "         1.44136872e-03, 1.92280427e-03, 2.00097607e-03, 7.58644093e-03,\n",
       "         5.24054904e-03, 7.62468600e-03, 1.00089763e-02, 1.61124692e-02,\n",
       "         1.27463279e-03, 2.48906139e-03, 7.34477647e-03, 4.89946097e-03,\n",
       "         6.71851396e-03, 1.67041450e-03, 4.02414269e-03, 1.28660930e-02,\n",
       "         1.40171555e-03, 1.14910328e-03, 1.96547076e-03, 2.85109466e-03,\n",
       "         7.07634228e-03, 4.68618816e-03, 1.90254693e-03, 2.28862848e-03,\n",
       "         1.26728348e-03, 1.22950133e-03, 2.24860275e-03, 2.14272361e-03,\n",
       "         1.29321282e-03, 7.99968303e-03, 3.79037006e-03, 5.30881097e-03,\n",
       "         1.77599602e-03, 3.10649719e-03, 2.08043897e-03, 1.03626195e-03,\n",
       "         4.38232083e-03, 8.31561778e-03, 4.73650424e-03, 7.33463887e-03,\n",
       "         1.23848072e-03, 1.42014306e-03, 2.96773338e-03, 4.76710469e-03,\n",
       "         3.62547378e-03, 3.70127666e-03, 1.12262841e-02, 9.58219956e-03,\n",
       "         2.22642777e-03, 2.04773447e-03, 2.64532657e-03, 3.85267606e-03,\n",
       "         5.38714619e-03, 5.78774069e-03, 1.49028329e-03, 9.45155137e-03,\n",
       "         1.34543098e-03, 2.49154864e-03, 2.09778343e-03, 2.98069499e-03,\n",
       "         2.82277953e-03, 3.49429778e-03, 4.09947350e-03, 3.84682251e-03,\n",
       "         2.02887993e-03, 1.60218180e-03, 2.76072130e-03, 1.44809878e-03,\n",
       "         7.09653361e-03, 3.66603985e-03, 3.66194718e-03, 3.17336589e-03,\n",
       "         3.51108886e-03, 3.09096951e-03, 9.38639972e-03, 4.82437105e-03,\n",
       "         5.64610112e-03, 1.52537154e-03, 3.05615082e-03, 9.83334900e-03,\n",
       "         3.47761010e-03, 1.36360809e-03, 4.23617889e-03, 3.37915150e-03,\n",
       "         6.53384434e-03, 4.26964791e-03, 2.95772597e-03, 6.85740069e-03,\n",
       "         1.49943095e-03, 1.77022984e-03, 2.02041323e-03, 4.26441548e-03,\n",
       "         6.29488083e-03, 9.20482760e-03, 1.25404684e-02, 5.24710552e-03,\n",
       "         1.36539680e-03, 3.21717090e-03, 3.18119785e-03, 2.21199433e-03,\n",
       "         4.36509990e-03, 3.42296609e-03, 1.32026438e-03, 2.46607484e-03,\n",
       "         1.18819928e-03, 1.00470095e-03, 1.96981697e-03, 1.61660862e-03,\n",
       "         2.53354606e-03, 5.77554490e-03, 3.76458588e-03, 2.42396860e-03,\n",
       "         1.86059948e-03, 2.30737244e-03, 3.17158512e-03, 7.28295585e-04,\n",
       "         1.88372224e-03, 1.27408124e-03, 1.09536512e-03, 1.54569662e-03,\n",
       "         1.97096272e-03, 1.99455096e-03, 8.39532682e-04, 2.66240188e-03,\n",
       "         9.32935118e-04, 6.94056099e-06, 7.58455145e-04, 3.05822907e-03,\n",
       "         2.52421360e-03, 4.23477751e-04, 3.53948125e-03, 2.59049246e-03,\n",
       "         1.85412752e-03, 2.57593884e-03, 2.63087100e-03, 5.21162108e-04,\n",
       "         1.16992164e-03, 1.82605209e-03, 6.45190360e-04, 2.74030354e-03,\n",
       "         1.83539363e-03, 6.87563122e-03, 4.52616113e-03, 1.08951053e-02,\n",
       "         2.90133423e-03, 3.39719846e-03, 4.98483054e-03, 6.57992027e-03,\n",
       "         6.84671281e-03, 5.98486937e-03, 2.19303053e-03, 1.19836254e-02,\n",
       "         5.12993985e-04, 4.42683983e-03, 1.96841190e-03, 6.56751459e-03,\n",
       "         8.07442381e-03, 2.54274391e-03, 4.69004937e-03, 8.40513470e-03,\n",
       "         2.56880041e-03, 1.55762209e-03, 1.13766726e-03, 1.78605739e-03,\n",
       "         5.68066564e-03, 4.02612984e-03, 2.34929451e-03, 4.39882922e-03,\n",
       "         1.81672338e-03, 1.89212837e-03, 1.89203178e-03, 1.43875509e-03,\n",
       "         5.14213751e-03, 2.36630335e-03, 2.24360606e-03, 3.77900085e-03]),\n",
       "  'param_max_depth': masked_array(data=[2, 2, 2, 2, 2, 2, 2, 2, 2, 2, 2, 2, 2, 2, 2, 2, 2, 2,\n",
       "                     2, 2, 2, 2, 2, 2, 3, 3, 3, 3, 3, 3, 3, 3, 3, 3, 3, 3,\n",
       "                     3, 3, 3, 3, 3, 3, 3, 3, 3, 3, 3, 3, 4, 4, 4, 4, 4, 4,\n",
       "                     4, 4, 4, 4, 4, 4, 4, 4, 4, 4, 4, 4, 4, 4, 4, 4, 4, 4,\n",
       "                     5, 5, 5, 5, 5, 5, 5, 5, 5, 5, 5, 5, 5, 5, 5, 5, 5, 5,\n",
       "                     5, 5, 5, 5, 5, 5, 6, 6, 6, 6, 6, 6, 6, 6, 6, 6, 6, 6,\n",
       "                     6, 6, 6, 6, 6, 6, 6, 6, 6, 6, 6, 6, 7, 7, 7, 7, 7, 7,\n",
       "                     7, 7, 7, 7, 7, 7, 7, 7, 7, 7, 7, 7, 7, 7, 7, 7, 7, 7,\n",
       "                     8, 8, 8, 8, 8, 8, 8, 8, 8, 8, 8, 8, 8, 8, 8, 8, 8, 8,\n",
       "                     8, 8, 8, 8, 8, 8, 9, 9, 9, 9, 9, 9, 9, 9, 9, 9, 9, 9,\n",
       "                     9, 9, 9, 9, 9, 9, 9, 9, 9, 9, 9, 9],\n",
       "               mask=[False, False, False, False, False, False, False, False,\n",
       "                     False, False, False, False, False, False, False, False,\n",
       "                     False, False, False, False, False, False, False, False,\n",
       "                     False, False, False, False, False, False, False, False,\n",
       "                     False, False, False, False, False, False, False, False,\n",
       "                     False, False, False, False, False, False, False, False,\n",
       "                     False, False, False, False, False, False, False, False,\n",
       "                     False, False, False, False, False, False, False, False,\n",
       "                     False, False, False, False, False, False, False, False,\n",
       "                     False, False, False, False, False, False, False, False,\n",
       "                     False, False, False, False, False, False, False, False,\n",
       "                     False, False, False, False, False, False, False, False,\n",
       "                     False, False, False, False, False, False, False, False,\n",
       "                     False, False, False, False, False, False, False, False,\n",
       "                     False, False, False, False, False, False, False, False,\n",
       "                     False, False, False, False, False, False, False, False,\n",
       "                     False, False, False, False, False, False, False, False,\n",
       "                     False, False, False, False, False, False, False, False,\n",
       "                     False, False, False, False, False, False, False, False,\n",
       "                     False, False, False, False, False, False, False, False,\n",
       "                     False, False, False, False, False, False, False, False,\n",
       "                     False, False, False, False, False, False, False, False,\n",
       "                     False, False, False, False, False, False, False, False,\n",
       "                     False, False, False, False, False, False, False, False],\n",
       "         fill_value='?',\n",
       "              dtype=object),\n",
       "  'param_max_features': masked_array(data=['auto', 'auto', 'auto', 'auto', 'auto', 'auto', 'auto',\n",
       "                     'auto', 'sqrt', 'sqrt', 'sqrt', 'sqrt', 'sqrt', 'sqrt',\n",
       "                     'sqrt', 'sqrt', 'log2', 'log2', 'log2', 'log2', 'log2',\n",
       "                     'log2', 'log2', 'log2', 'auto', 'auto', 'auto', 'auto',\n",
       "                     'auto', 'auto', 'auto', 'auto', 'sqrt', 'sqrt', 'sqrt',\n",
       "                     'sqrt', 'sqrt', 'sqrt', 'sqrt', 'sqrt', 'log2', 'log2',\n",
       "                     'log2', 'log2', 'log2', 'log2', 'log2', 'log2', 'auto',\n",
       "                     'auto', 'auto', 'auto', 'auto', 'auto', 'auto', 'auto',\n",
       "                     'sqrt', 'sqrt', 'sqrt', 'sqrt', 'sqrt', 'sqrt', 'sqrt',\n",
       "                     'sqrt', 'log2', 'log2', 'log2', 'log2', 'log2', 'log2',\n",
       "                     'log2', 'log2', 'auto', 'auto', 'auto', 'auto', 'auto',\n",
       "                     'auto', 'auto', 'auto', 'sqrt', 'sqrt', 'sqrt', 'sqrt',\n",
       "                     'sqrt', 'sqrt', 'sqrt', 'sqrt', 'log2', 'log2', 'log2',\n",
       "                     'log2', 'log2', 'log2', 'log2', 'log2', 'auto', 'auto',\n",
       "                     'auto', 'auto', 'auto', 'auto', 'auto', 'auto', 'sqrt',\n",
       "                     'sqrt', 'sqrt', 'sqrt', 'sqrt', 'sqrt', 'sqrt', 'sqrt',\n",
       "                     'log2', 'log2', 'log2', 'log2', 'log2', 'log2', 'log2',\n",
       "                     'log2', 'auto', 'auto', 'auto', 'auto', 'auto', 'auto',\n",
       "                     'auto', 'auto', 'sqrt', 'sqrt', 'sqrt', 'sqrt', 'sqrt',\n",
       "                     'sqrt', 'sqrt', 'sqrt', 'log2', 'log2', 'log2', 'log2',\n",
       "                     'log2', 'log2', 'log2', 'log2', 'auto', 'auto', 'auto',\n",
       "                     'auto', 'auto', 'auto', 'auto', 'auto', 'sqrt', 'sqrt',\n",
       "                     'sqrt', 'sqrt', 'sqrt', 'sqrt', 'sqrt', 'sqrt', 'log2',\n",
       "                     'log2', 'log2', 'log2', 'log2', 'log2', 'log2', 'log2',\n",
       "                     'auto', 'auto', 'auto', 'auto', 'auto', 'auto', 'auto',\n",
       "                     'auto', 'sqrt', 'sqrt', 'sqrt', 'sqrt', 'sqrt', 'sqrt',\n",
       "                     'sqrt', 'sqrt', 'log2', 'log2', 'log2', 'log2', 'log2',\n",
       "                     'log2', 'log2', 'log2'],\n",
       "               mask=[False, False, False, False, False, False, False, False,\n",
       "                     False, False, False, False, False, False, False, False,\n",
       "                     False, False, False, False, False, False, False, False,\n",
       "                     False, False, False, False, False, False, False, False,\n",
       "                     False, False, False, False, False, False, False, False,\n",
       "                     False, False, False, False, False, False, False, False,\n",
       "                     False, False, False, False, False, False, False, False,\n",
       "                     False, False, False, False, False, False, False, False,\n",
       "                     False, False, False, False, False, False, False, False,\n",
       "                     False, False, False, False, False, False, False, False,\n",
       "                     False, False, False, False, False, False, False, False,\n",
       "                     False, False, False, False, False, False, False, False,\n",
       "                     False, False, False, False, False, False, False, False,\n",
       "                     False, False, False, False, False, False, False, False,\n",
       "                     False, False, False, False, False, False, False, False,\n",
       "                     False, False, False, False, False, False, False, False,\n",
       "                     False, False, False, False, False, False, False, False,\n",
       "                     False, False, False, False, False, False, False, False,\n",
       "                     False, False, False, False, False, False, False, False,\n",
       "                     False, False, False, False, False, False, False, False,\n",
       "                     False, False, False, False, False, False, False, False,\n",
       "                     False, False, False, False, False, False, False, False,\n",
       "                     False, False, False, False, False, False, False, False,\n",
       "                     False, False, False, False, False, False, False, False],\n",
       "         fill_value='?',\n",
       "              dtype=object),\n",
       "  'param_n_estimators': masked_array(data=[20, 70, 120, 170, 220, 270, 320, 370, 20, 70, 120, 170,\n",
       "                     220, 270, 320, 370, 20, 70, 120, 170, 220, 270, 320,\n",
       "                     370, 20, 70, 120, 170, 220, 270, 320, 370, 20, 70, 120,\n",
       "                     170, 220, 270, 320, 370, 20, 70, 120, 170, 220, 270,\n",
       "                     320, 370, 20, 70, 120, 170, 220, 270, 320, 370, 20, 70,\n",
       "                     120, 170, 220, 270, 320, 370, 20, 70, 120, 170, 220,\n",
       "                     270, 320, 370, 20, 70, 120, 170, 220, 270, 320, 370,\n",
       "                     20, 70, 120, 170, 220, 270, 320, 370, 20, 70, 120, 170,\n",
       "                     220, 270, 320, 370, 20, 70, 120, 170, 220, 270, 320,\n",
       "                     370, 20, 70, 120, 170, 220, 270, 320, 370, 20, 70, 120,\n",
       "                     170, 220, 270, 320, 370, 20, 70, 120, 170, 220, 270,\n",
       "                     320, 370, 20, 70, 120, 170, 220, 270, 320, 370, 20, 70,\n",
       "                     120, 170, 220, 270, 320, 370, 20, 70, 120, 170, 220,\n",
       "                     270, 320, 370, 20, 70, 120, 170, 220, 270, 320, 370,\n",
       "                     20, 70, 120, 170, 220, 270, 320, 370, 20, 70, 120, 170,\n",
       "                     220, 270, 320, 370, 20, 70, 120, 170, 220, 270, 320,\n",
       "                     370, 20, 70, 120, 170, 220, 270, 320, 370],\n",
       "               mask=[False, False, False, False, False, False, False, False,\n",
       "                     False, False, False, False, False, False, False, False,\n",
       "                     False, False, False, False, False, False, False, False,\n",
       "                     False, False, False, False, False, False, False, False,\n",
       "                     False, False, False, False, False, False, False, False,\n",
       "                     False, False, False, False, False, False, False, False,\n",
       "                     False, False, False, False, False, False, False, False,\n",
       "                     False, False, False, False, False, False, False, False,\n",
       "                     False, False, False, False, False, False, False, False,\n",
       "                     False, False, False, False, False, False, False, False,\n",
       "                     False, False, False, False, False, False, False, False,\n",
       "                     False, False, False, False, False, False, False, False,\n",
       "                     False, False, False, False, False, False, False, False,\n",
       "                     False, False, False, False, False, False, False, False,\n",
       "                     False, False, False, False, False, False, False, False,\n",
       "                     False, False, False, False, False, False, False, False,\n",
       "                     False, False, False, False, False, False, False, False,\n",
       "                     False, False, False, False, False, False, False, False,\n",
       "                     False, False, False, False, False, False, False, False,\n",
       "                     False, False, False, False, False, False, False, False,\n",
       "                     False, False, False, False, False, False, False, False,\n",
       "                     False, False, False, False, False, False, False, False,\n",
       "                     False, False, False, False, False, False, False, False,\n",
       "                     False, False, False, False, False, False, False, False],\n",
       "         fill_value='?',\n",
       "              dtype=object),\n",
       "  'params': [{'max_depth': 2, 'max_features': 'auto', 'n_estimators': 20},\n",
       "   {'max_depth': 2, 'max_features': 'auto', 'n_estimators': 70},\n",
       "   {'max_depth': 2, 'max_features': 'auto', 'n_estimators': 120},\n",
       "   {'max_depth': 2, 'max_features': 'auto', 'n_estimators': 170},\n",
       "   {'max_depth': 2, 'max_features': 'auto', 'n_estimators': 220},\n",
       "   {'max_depth': 2, 'max_features': 'auto', 'n_estimators': 270},\n",
       "   {'max_depth': 2, 'max_features': 'auto', 'n_estimators': 320},\n",
       "   {'max_depth': 2, 'max_features': 'auto', 'n_estimators': 370},\n",
       "   {'max_depth': 2, 'max_features': 'sqrt', 'n_estimators': 20},\n",
       "   {'max_depth': 2, 'max_features': 'sqrt', 'n_estimators': 70},\n",
       "   {'max_depth': 2, 'max_features': 'sqrt', 'n_estimators': 120},\n",
       "   {'max_depth': 2, 'max_features': 'sqrt', 'n_estimators': 170},\n",
       "   {'max_depth': 2, 'max_features': 'sqrt', 'n_estimators': 220},\n",
       "   {'max_depth': 2, 'max_features': 'sqrt', 'n_estimators': 270},\n",
       "   {'max_depth': 2, 'max_features': 'sqrt', 'n_estimators': 320},\n",
       "   {'max_depth': 2, 'max_features': 'sqrt', 'n_estimators': 370},\n",
       "   {'max_depth': 2, 'max_features': 'log2', 'n_estimators': 20},\n",
       "   {'max_depth': 2, 'max_features': 'log2', 'n_estimators': 70},\n",
       "   {'max_depth': 2, 'max_features': 'log2', 'n_estimators': 120},\n",
       "   {'max_depth': 2, 'max_features': 'log2', 'n_estimators': 170},\n",
       "   {'max_depth': 2, 'max_features': 'log2', 'n_estimators': 220},\n",
       "   {'max_depth': 2, 'max_features': 'log2', 'n_estimators': 270},\n",
       "   {'max_depth': 2, 'max_features': 'log2', 'n_estimators': 320},\n",
       "   {'max_depth': 2, 'max_features': 'log2', 'n_estimators': 370},\n",
       "   {'max_depth': 3, 'max_features': 'auto', 'n_estimators': 20},\n",
       "   {'max_depth': 3, 'max_features': 'auto', 'n_estimators': 70},\n",
       "   {'max_depth': 3, 'max_features': 'auto', 'n_estimators': 120},\n",
       "   {'max_depth': 3, 'max_features': 'auto', 'n_estimators': 170},\n",
       "   {'max_depth': 3, 'max_features': 'auto', 'n_estimators': 220},\n",
       "   {'max_depth': 3, 'max_features': 'auto', 'n_estimators': 270},\n",
       "   {'max_depth': 3, 'max_features': 'auto', 'n_estimators': 320},\n",
       "   {'max_depth': 3, 'max_features': 'auto', 'n_estimators': 370},\n",
       "   {'max_depth': 3, 'max_features': 'sqrt', 'n_estimators': 20},\n",
       "   {'max_depth': 3, 'max_features': 'sqrt', 'n_estimators': 70},\n",
       "   {'max_depth': 3, 'max_features': 'sqrt', 'n_estimators': 120},\n",
       "   {'max_depth': 3, 'max_features': 'sqrt', 'n_estimators': 170},\n",
       "   {'max_depth': 3, 'max_features': 'sqrt', 'n_estimators': 220},\n",
       "   {'max_depth': 3, 'max_features': 'sqrt', 'n_estimators': 270},\n",
       "   {'max_depth': 3, 'max_features': 'sqrt', 'n_estimators': 320},\n",
       "   {'max_depth': 3, 'max_features': 'sqrt', 'n_estimators': 370},\n",
       "   {'max_depth': 3, 'max_features': 'log2', 'n_estimators': 20},\n",
       "   {'max_depth': 3, 'max_features': 'log2', 'n_estimators': 70},\n",
       "   {'max_depth': 3, 'max_features': 'log2', 'n_estimators': 120},\n",
       "   {'max_depth': 3, 'max_features': 'log2', 'n_estimators': 170},\n",
       "   {'max_depth': 3, 'max_features': 'log2', 'n_estimators': 220},\n",
       "   {'max_depth': 3, 'max_features': 'log2', 'n_estimators': 270},\n",
       "   {'max_depth': 3, 'max_features': 'log2', 'n_estimators': 320},\n",
       "   {'max_depth': 3, 'max_features': 'log2', 'n_estimators': 370},\n",
       "   {'max_depth': 4, 'max_features': 'auto', 'n_estimators': 20},\n",
       "   {'max_depth': 4, 'max_features': 'auto', 'n_estimators': 70},\n",
       "   {'max_depth': 4, 'max_features': 'auto', 'n_estimators': 120},\n",
       "   {'max_depth': 4, 'max_features': 'auto', 'n_estimators': 170},\n",
       "   {'max_depth': 4, 'max_features': 'auto', 'n_estimators': 220},\n",
       "   {'max_depth': 4, 'max_features': 'auto', 'n_estimators': 270},\n",
       "   {'max_depth': 4, 'max_features': 'auto', 'n_estimators': 320},\n",
       "   {'max_depth': 4, 'max_features': 'auto', 'n_estimators': 370},\n",
       "   {'max_depth': 4, 'max_features': 'sqrt', 'n_estimators': 20},\n",
       "   {'max_depth': 4, 'max_features': 'sqrt', 'n_estimators': 70},\n",
       "   {'max_depth': 4, 'max_features': 'sqrt', 'n_estimators': 120},\n",
       "   {'max_depth': 4, 'max_features': 'sqrt', 'n_estimators': 170},\n",
       "   {'max_depth': 4, 'max_features': 'sqrt', 'n_estimators': 220},\n",
       "   {'max_depth': 4, 'max_features': 'sqrt', 'n_estimators': 270},\n",
       "   {'max_depth': 4, 'max_features': 'sqrt', 'n_estimators': 320},\n",
       "   {'max_depth': 4, 'max_features': 'sqrt', 'n_estimators': 370},\n",
       "   {'max_depth': 4, 'max_features': 'log2', 'n_estimators': 20},\n",
       "   {'max_depth': 4, 'max_features': 'log2', 'n_estimators': 70},\n",
       "   {'max_depth': 4, 'max_features': 'log2', 'n_estimators': 120},\n",
       "   {'max_depth': 4, 'max_features': 'log2', 'n_estimators': 170},\n",
       "   {'max_depth': 4, 'max_features': 'log2', 'n_estimators': 220},\n",
       "   {'max_depth': 4, 'max_features': 'log2', 'n_estimators': 270},\n",
       "   {'max_depth': 4, 'max_features': 'log2', 'n_estimators': 320},\n",
       "   {'max_depth': 4, 'max_features': 'log2', 'n_estimators': 370},\n",
       "   {'max_depth': 5, 'max_features': 'auto', 'n_estimators': 20},\n",
       "   {'max_depth': 5, 'max_features': 'auto', 'n_estimators': 70},\n",
       "   {'max_depth': 5, 'max_features': 'auto', 'n_estimators': 120},\n",
       "   {'max_depth': 5, 'max_features': 'auto', 'n_estimators': 170},\n",
       "   {'max_depth': 5, 'max_features': 'auto', 'n_estimators': 220},\n",
       "   {'max_depth': 5, 'max_features': 'auto', 'n_estimators': 270},\n",
       "   {'max_depth': 5, 'max_features': 'auto', 'n_estimators': 320},\n",
       "   {'max_depth': 5, 'max_features': 'auto', 'n_estimators': 370},\n",
       "   {'max_depth': 5, 'max_features': 'sqrt', 'n_estimators': 20},\n",
       "   {'max_depth': 5, 'max_features': 'sqrt', 'n_estimators': 70},\n",
       "   {'max_depth': 5, 'max_features': 'sqrt', 'n_estimators': 120},\n",
       "   {'max_depth': 5, 'max_features': 'sqrt', 'n_estimators': 170},\n",
       "   {'max_depth': 5, 'max_features': 'sqrt', 'n_estimators': 220},\n",
       "   {'max_depth': 5, 'max_features': 'sqrt', 'n_estimators': 270},\n",
       "   {'max_depth': 5, 'max_features': 'sqrt', 'n_estimators': 320},\n",
       "   {'max_depth': 5, 'max_features': 'sqrt', 'n_estimators': 370},\n",
       "   {'max_depth': 5, 'max_features': 'log2', 'n_estimators': 20},\n",
       "   {'max_depth': 5, 'max_features': 'log2', 'n_estimators': 70},\n",
       "   {'max_depth': 5, 'max_features': 'log2', 'n_estimators': 120},\n",
       "   {'max_depth': 5, 'max_features': 'log2', 'n_estimators': 170},\n",
       "   {'max_depth': 5, 'max_features': 'log2', 'n_estimators': 220},\n",
       "   {'max_depth': 5, 'max_features': 'log2', 'n_estimators': 270},\n",
       "   {'max_depth': 5, 'max_features': 'log2', 'n_estimators': 320},\n",
       "   {'max_depth': 5, 'max_features': 'log2', 'n_estimators': 370},\n",
       "   {'max_depth': 6, 'max_features': 'auto', 'n_estimators': 20},\n",
       "   {'max_depth': 6, 'max_features': 'auto', 'n_estimators': 70},\n",
       "   {'max_depth': 6, 'max_features': 'auto', 'n_estimators': 120},\n",
       "   {'max_depth': 6, 'max_features': 'auto', 'n_estimators': 170},\n",
       "   {'max_depth': 6, 'max_features': 'auto', 'n_estimators': 220},\n",
       "   {'max_depth': 6, 'max_features': 'auto', 'n_estimators': 270},\n",
       "   {'max_depth': 6, 'max_features': 'auto', 'n_estimators': 320},\n",
       "   {'max_depth': 6, 'max_features': 'auto', 'n_estimators': 370},\n",
       "   {'max_depth': 6, 'max_features': 'sqrt', 'n_estimators': 20},\n",
       "   {'max_depth': 6, 'max_features': 'sqrt', 'n_estimators': 70},\n",
       "   {'max_depth': 6, 'max_features': 'sqrt', 'n_estimators': 120},\n",
       "   {'max_depth': 6, 'max_features': 'sqrt', 'n_estimators': 170},\n",
       "   {'max_depth': 6, 'max_features': 'sqrt', 'n_estimators': 220},\n",
       "   {'max_depth': 6, 'max_features': 'sqrt', 'n_estimators': 270},\n",
       "   {'max_depth': 6, 'max_features': 'sqrt', 'n_estimators': 320},\n",
       "   {'max_depth': 6, 'max_features': 'sqrt', 'n_estimators': 370},\n",
       "   {'max_depth': 6, 'max_features': 'log2', 'n_estimators': 20},\n",
       "   {'max_depth': 6, 'max_features': 'log2', 'n_estimators': 70},\n",
       "   {'max_depth': 6, 'max_features': 'log2', 'n_estimators': 120},\n",
       "   {'max_depth': 6, 'max_features': 'log2', 'n_estimators': 170},\n",
       "   {'max_depth': 6, 'max_features': 'log2', 'n_estimators': 220},\n",
       "   {'max_depth': 6, 'max_features': 'log2', 'n_estimators': 270},\n",
       "   {'max_depth': 6, 'max_features': 'log2', 'n_estimators': 320},\n",
       "   {'max_depth': 6, 'max_features': 'log2', 'n_estimators': 370},\n",
       "   {'max_depth': 7, 'max_features': 'auto', 'n_estimators': 20},\n",
       "   {'max_depth': 7, 'max_features': 'auto', 'n_estimators': 70},\n",
       "   {'max_depth': 7, 'max_features': 'auto', 'n_estimators': 120},\n",
       "   {'max_depth': 7, 'max_features': 'auto', 'n_estimators': 170},\n",
       "   {'max_depth': 7, 'max_features': 'auto', 'n_estimators': 220},\n",
       "   {'max_depth': 7, 'max_features': 'auto', 'n_estimators': 270},\n",
       "   {'max_depth': 7, 'max_features': 'auto', 'n_estimators': 320},\n",
       "   {'max_depth': 7, 'max_features': 'auto', 'n_estimators': 370},\n",
       "   {'max_depth': 7, 'max_features': 'sqrt', 'n_estimators': 20},\n",
       "   {'max_depth': 7, 'max_features': 'sqrt', 'n_estimators': 70},\n",
       "   {'max_depth': 7, 'max_features': 'sqrt', 'n_estimators': 120},\n",
       "   {'max_depth': 7, 'max_features': 'sqrt', 'n_estimators': 170},\n",
       "   {'max_depth': 7, 'max_features': 'sqrt', 'n_estimators': 220},\n",
       "   {'max_depth': 7, 'max_features': 'sqrt', 'n_estimators': 270},\n",
       "   {'max_depth': 7, 'max_features': 'sqrt', 'n_estimators': 320},\n",
       "   {'max_depth': 7, 'max_features': 'sqrt', 'n_estimators': 370},\n",
       "   {'max_depth': 7, 'max_features': 'log2', 'n_estimators': 20},\n",
       "   {'max_depth': 7, 'max_features': 'log2', 'n_estimators': 70},\n",
       "   {'max_depth': 7, 'max_features': 'log2', 'n_estimators': 120},\n",
       "   {'max_depth': 7, 'max_features': 'log2', 'n_estimators': 170},\n",
       "   {'max_depth': 7, 'max_features': 'log2', 'n_estimators': 220},\n",
       "   {'max_depth': 7, 'max_features': 'log2', 'n_estimators': 270},\n",
       "   {'max_depth': 7, 'max_features': 'log2', 'n_estimators': 320},\n",
       "   {'max_depth': 7, 'max_features': 'log2', 'n_estimators': 370},\n",
       "   {'max_depth': 8, 'max_features': 'auto', 'n_estimators': 20},\n",
       "   {'max_depth': 8, 'max_features': 'auto', 'n_estimators': 70},\n",
       "   {'max_depth': 8, 'max_features': 'auto', 'n_estimators': 120},\n",
       "   {'max_depth': 8, 'max_features': 'auto', 'n_estimators': 170},\n",
       "   {'max_depth': 8, 'max_features': 'auto', 'n_estimators': 220},\n",
       "   {'max_depth': 8, 'max_features': 'auto', 'n_estimators': 270},\n",
       "   {'max_depth': 8, 'max_features': 'auto', 'n_estimators': 320},\n",
       "   {'max_depth': 8, 'max_features': 'auto', 'n_estimators': 370},\n",
       "   {'max_depth': 8, 'max_features': 'sqrt', 'n_estimators': 20},\n",
       "   {'max_depth': 8, 'max_features': 'sqrt', 'n_estimators': 70},\n",
       "   {'max_depth': 8, 'max_features': 'sqrt', 'n_estimators': 120},\n",
       "   {'max_depth': 8, 'max_features': 'sqrt', 'n_estimators': 170},\n",
       "   {'max_depth': 8, 'max_features': 'sqrt', 'n_estimators': 220},\n",
       "   {'max_depth': 8, 'max_features': 'sqrt', 'n_estimators': 270},\n",
       "   {'max_depth': 8, 'max_features': 'sqrt', 'n_estimators': 320},\n",
       "   {'max_depth': 8, 'max_features': 'sqrt', 'n_estimators': 370},\n",
       "   {'max_depth': 8, 'max_features': 'log2', 'n_estimators': 20},\n",
       "   {'max_depth': 8, 'max_features': 'log2', 'n_estimators': 70},\n",
       "   {'max_depth': 8, 'max_features': 'log2', 'n_estimators': 120},\n",
       "   {'max_depth': 8, 'max_features': 'log2', 'n_estimators': 170},\n",
       "   {'max_depth': 8, 'max_features': 'log2', 'n_estimators': 220},\n",
       "   {'max_depth': 8, 'max_features': 'log2', 'n_estimators': 270},\n",
       "   {'max_depth': 8, 'max_features': 'log2', 'n_estimators': 320},\n",
       "   {'max_depth': 8, 'max_features': 'log2', 'n_estimators': 370},\n",
       "   {'max_depth': 9, 'max_features': 'auto', 'n_estimators': 20},\n",
       "   {'max_depth': 9, 'max_features': 'auto', 'n_estimators': 70},\n",
       "   {'max_depth': 9, 'max_features': 'auto', 'n_estimators': 120},\n",
       "   {'max_depth': 9, 'max_features': 'auto', 'n_estimators': 170},\n",
       "   {'max_depth': 9, 'max_features': 'auto', 'n_estimators': 220},\n",
       "   {'max_depth': 9, 'max_features': 'auto', 'n_estimators': 270},\n",
       "   {'max_depth': 9, 'max_features': 'auto', 'n_estimators': 320},\n",
       "   {'max_depth': 9, 'max_features': 'auto', 'n_estimators': 370},\n",
       "   {'max_depth': 9, 'max_features': 'sqrt', 'n_estimators': 20},\n",
       "   {'max_depth': 9, 'max_features': 'sqrt', 'n_estimators': 70},\n",
       "   {'max_depth': 9, 'max_features': 'sqrt', 'n_estimators': 120},\n",
       "   {'max_depth': 9, 'max_features': 'sqrt', 'n_estimators': 170},\n",
       "   {'max_depth': 9, 'max_features': 'sqrt', 'n_estimators': 220},\n",
       "   {'max_depth': 9, 'max_features': 'sqrt', 'n_estimators': 270},\n",
       "   {'max_depth': 9, 'max_features': 'sqrt', 'n_estimators': 320},\n",
       "   {'max_depth': 9, 'max_features': 'sqrt', 'n_estimators': 370},\n",
       "   {'max_depth': 9, 'max_features': 'log2', 'n_estimators': 20},\n",
       "   {'max_depth': 9, 'max_features': 'log2', 'n_estimators': 70},\n",
       "   {'max_depth': 9, 'max_features': 'log2', 'n_estimators': 120},\n",
       "   {'max_depth': 9, 'max_features': 'log2', 'n_estimators': 170},\n",
       "   {'max_depth': 9, 'max_features': 'log2', 'n_estimators': 220},\n",
       "   {'max_depth': 9, 'max_features': 'log2', 'n_estimators': 270},\n",
       "   {'max_depth': 9, 'max_features': 'log2', 'n_estimators': 320},\n",
       "   {'max_depth': 9, 'max_features': 'log2', 'n_estimators': 370}],\n",
       "  'split0_test_score': array([0.71428571, 0.78571429, 0.71428571, 0.78571429, 0.71428571,\n",
       "         0.71428571, 0.78571429, 0.78571429, 0.71428571, 0.78571429,\n",
       "         0.71428571, 0.71428571, 0.78571429, 0.78571429, 0.78571429,\n",
       "         0.71428571, 0.78571429, 0.78571429, 0.78571429, 0.71428571,\n",
       "         0.78571429, 0.78571429, 0.78571429, 0.71428571, 0.78571429,\n",
       "         0.78571429, 0.71428571, 0.71428571, 0.78571429, 0.71428571,\n",
       "         0.78571429, 0.78571429, 0.78571429, 0.78571429, 0.78571429,\n",
       "         0.78571429, 0.71428571, 0.78571429, 0.71428571, 0.78571429,\n",
       "         0.78571429, 0.78571429, 0.78571429, 0.71428571, 0.71428571,\n",
       "         0.71428571, 0.78571429, 0.71428571, 0.78571429, 0.78571429,\n",
       "         0.71428571, 0.78571429, 0.78571429, 0.78571429, 0.78571429,\n",
       "         0.78571429, 0.78571429, 0.78571429, 0.78571429, 0.78571429,\n",
       "         0.78571429, 0.71428571, 0.78571429, 0.78571429, 0.78571429,\n",
       "         0.78571429, 0.71428571, 0.78571429, 0.71428571, 0.78571429,\n",
       "         0.78571429, 0.78571429, 0.71428571, 0.78571429, 0.78571429,\n",
       "         0.78571429, 0.78571429, 0.78571429, 0.78571429, 0.78571429,\n",
       "         0.78571429, 0.78571429, 0.78571429, 0.78571429, 0.78571429,\n",
       "         0.78571429, 0.78571429, 0.78571429, 0.78571429, 0.71428571,\n",
       "         0.78571429, 0.78571429, 0.78571429, 0.78571429, 0.78571429,\n",
       "         0.78571429, 0.78571429, 0.78571429, 0.78571429, 0.78571429,\n",
       "         0.78571429, 0.71428571, 0.78571429, 0.78571429, 0.78571429,\n",
       "         0.78571429, 0.78571429, 0.78571429, 0.78571429, 0.78571429,\n",
       "         0.78571429, 0.78571429, 0.71428571, 0.78571429, 0.78571429,\n",
       "         0.78571429, 0.71428571, 0.78571429, 0.78571429, 0.78571429,\n",
       "         0.71428571, 0.78571429, 0.78571429, 0.78571429, 0.78571429,\n",
       "         0.78571429, 0.78571429, 0.78571429, 0.78571429, 0.78571429,\n",
       "         0.78571429, 0.78571429, 0.78571429, 0.78571429, 0.71428571,\n",
       "         0.78571429, 0.78571429, 0.78571429, 0.78571429, 0.78571429,\n",
       "         0.78571429, 0.78571429, 0.78571429, 0.78571429, 0.78571429,\n",
       "         0.78571429, 0.71428571, 0.78571429, 0.78571429, 0.78571429,\n",
       "         0.78571429, 0.78571429, 0.71428571, 0.78571429, 0.78571429,\n",
       "         0.78571429, 0.78571429, 0.78571429, 0.78571429, 0.78571429,\n",
       "         0.78571429, 0.78571429, 0.78571429, 0.78571429, 0.78571429,\n",
       "         0.78571429, 0.78571429, 0.78571429, 0.78571429, 0.78571429,\n",
       "         0.78571429, 0.78571429, 0.78571429, 0.78571429, 0.78571429,\n",
       "         0.78571429, 0.78571429, 0.78571429, 0.71428571, 0.78571429,\n",
       "         0.78571429, 0.78571429, 0.78571429, 0.78571429, 0.78571429,\n",
       "         0.78571429, 0.71428571, 0.78571429, 0.78571429, 0.78571429,\n",
       "         0.78571429, 0.78571429]),\n",
       "  'split1_test_score': array([0.85714286, 0.78571429, 0.78571429, 0.78571429, 0.78571429,\n",
       "         0.85714286, 0.78571429, 0.78571429, 0.85714286, 0.78571429,\n",
       "         0.78571429, 0.85714286, 0.78571429, 0.78571429, 0.78571429,\n",
       "         0.78571429, 0.78571429, 0.78571429, 0.85714286, 0.85714286,\n",
       "         0.78571429, 0.78571429, 0.78571429, 0.78571429, 0.92857143,\n",
       "         0.85714286, 0.78571429, 0.78571429, 0.85714286, 0.78571429,\n",
       "         0.78571429, 0.78571429, 0.85714286, 0.78571429, 0.78571429,\n",
       "         0.78571429, 0.78571429, 0.78571429, 0.78571429, 0.85714286,\n",
       "         0.85714286, 0.78571429, 0.78571429, 0.78571429, 0.85714286,\n",
       "         0.78571429, 0.78571429, 0.78571429, 0.85714286, 0.71428571,\n",
       "         0.71428571, 0.78571429, 0.78571429, 0.78571429, 0.71428571,\n",
       "         0.71428571, 0.71428571, 0.71428571, 0.78571429, 0.85714286,\n",
       "         0.78571429, 0.71428571, 0.71428571, 0.78571429, 0.85714286,\n",
       "         0.78571429, 0.71428571, 0.71428571, 0.78571429, 0.71428571,\n",
       "         0.71428571, 0.78571429, 0.71428571, 0.85714286, 0.71428571,\n",
       "         0.64285714, 0.71428571, 0.71428571, 0.78571429, 0.78571429,\n",
       "         0.71428571, 0.71428571, 0.78571429, 0.78571429, 0.71428571,\n",
       "         0.85714286, 0.71428571, 0.78571429, 0.71428571, 0.78571429,\n",
       "         0.78571429, 0.78571429, 0.64285714, 0.78571429, 0.71428571,\n",
       "         0.71428571, 0.78571429, 0.78571429, 0.71428571, 0.64285714,\n",
       "         0.64285714, 0.78571429, 0.64285714, 0.64285714, 0.71428571,\n",
       "         0.78571429, 0.78571429, 0.71428571, 0.64285714, 0.78571429,\n",
       "         0.85714286, 0.71428571, 0.85714286, 0.78571429, 0.78571429,\n",
       "         0.64285714, 0.64285714, 0.71428571, 0.71428571, 0.78571429,\n",
       "         0.71428571, 0.85714286, 0.71428571, 0.71428571, 0.71428571,\n",
       "         0.71428571, 0.71428571, 0.71428571, 0.64285714, 0.85714286,\n",
       "         0.78571429, 0.64285714, 0.78571429, 0.71428571, 0.64285714,\n",
       "         0.71428571, 0.71428571, 0.78571429, 0.71428571, 0.78571429,\n",
       "         0.64285714, 0.71428571, 0.78571429, 0.71428571, 0.64285714,\n",
       "         0.78571429, 0.71428571, 0.71428571, 0.85714286, 0.71428571,\n",
       "         0.78571429, 0.64285714, 0.71428571, 0.71428571, 0.64285714,\n",
       "         0.71428571, 0.78571429, 0.71428571, 0.78571429, 0.64285714,\n",
       "         0.78571429, 0.78571429, 0.78571429, 0.64285714, 0.71428571,\n",
       "         0.85714286, 0.85714286, 0.85714286, 0.78571429, 0.78571429,\n",
       "         0.85714286, 0.85714286, 0.71428571, 0.71428571, 0.71428571,\n",
       "         0.71428571, 0.71428571, 0.78571429, 0.64285714, 0.64285714,\n",
       "         0.78571429, 0.71428571, 0.71428571, 0.64285714, 0.85714286,\n",
       "         0.78571429, 0.71428571, 0.78571429, 0.71428571, 0.71428571,\n",
       "         0.78571429, 0.71428571]),\n",
       "  'split2_test_score': array([0.84615385, 0.84615385, 0.84615385, 0.84615385, 0.84615385,\n",
       "         0.84615385, 0.84615385, 0.84615385, 0.84615385, 0.84615385,\n",
       "         0.84615385, 0.84615385, 0.84615385, 0.84615385, 0.84615385,\n",
       "         0.84615385, 0.84615385, 0.84615385, 0.84615385, 0.84615385,\n",
       "         0.84615385, 0.84615385, 0.84615385, 0.84615385, 0.84615385,\n",
       "         0.84615385, 0.84615385, 0.84615385, 0.84615385, 0.84615385,\n",
       "         0.84615385, 0.84615385, 0.84615385, 0.84615385, 0.84615385,\n",
       "         0.84615385, 0.84615385, 0.84615385, 0.84615385, 0.84615385,\n",
       "         0.84615385, 0.84615385, 0.84615385, 0.84615385, 0.84615385,\n",
       "         0.84615385, 0.84615385, 0.84615385, 0.84615385, 0.84615385,\n",
       "         0.84615385, 0.84615385, 0.84615385, 0.84615385, 0.84615385,\n",
       "         0.84615385, 0.84615385, 0.84615385, 0.84615385, 0.84615385,\n",
       "         0.84615385, 0.84615385, 0.84615385, 0.84615385, 0.84615385,\n",
       "         0.84615385, 0.84615385, 0.84615385, 0.84615385, 0.84615385,\n",
       "         0.84615385, 0.84615385, 0.84615385, 0.84615385, 0.84615385,\n",
       "         0.84615385, 0.84615385, 0.84615385, 0.84615385, 0.84615385,\n",
       "         0.84615385, 0.84615385, 0.84615385, 0.84615385, 0.84615385,\n",
       "         0.84615385, 0.84615385, 0.84615385, 0.84615385, 0.84615385,\n",
       "         0.84615385, 0.84615385, 0.84615385, 0.84615385, 0.84615385,\n",
       "         0.84615385, 0.76923077, 0.84615385, 0.84615385, 0.84615385,\n",
       "         0.84615385, 0.84615385, 0.84615385, 0.84615385, 0.84615385,\n",
       "         0.84615385, 0.84615385, 0.84615385, 0.84615385, 0.84615385,\n",
       "         0.84615385, 0.84615385, 0.84615385, 0.84615385, 0.84615385,\n",
       "         0.84615385, 0.84615385, 0.84615385, 0.84615385, 0.84615385,\n",
       "         0.84615385, 0.84615385, 0.84615385, 0.84615385, 0.84615385,\n",
       "         0.84615385, 0.84615385, 0.84615385, 0.84615385, 0.84615385,\n",
       "         0.84615385, 0.84615385, 0.84615385, 0.84615385, 0.84615385,\n",
       "         0.84615385, 0.84615385, 0.84615385, 0.84615385, 0.84615385,\n",
       "         0.84615385, 0.84615385, 0.84615385, 0.84615385, 0.84615385,\n",
       "         0.84615385, 0.84615385, 0.84615385, 0.84615385, 0.84615385,\n",
       "         0.84615385, 0.84615385, 0.84615385, 0.84615385, 0.84615385,\n",
       "         0.84615385, 0.84615385, 0.84615385, 0.84615385, 0.84615385,\n",
       "         0.84615385, 0.84615385, 0.84615385, 0.84615385, 0.84615385,\n",
       "         0.84615385, 0.84615385, 0.84615385, 0.84615385, 0.84615385,\n",
       "         0.84615385, 0.84615385, 0.84615385, 0.84615385, 0.84615385,\n",
       "         0.84615385, 0.84615385, 0.84615385, 0.84615385, 0.84615385,\n",
       "         0.84615385, 0.84615385, 0.84615385, 0.84615385, 0.84615385,\n",
       "         0.84615385, 0.84615385, 0.84615385, 0.84615385, 0.84615385,\n",
       "         0.84615385, 0.84615385]),\n",
       "  'split3_test_score': array([0.69230769, 0.76923077, 0.84615385, 0.76923077, 0.76923077,\n",
       "         0.76923077, 0.84615385, 0.84615385, 0.76923077, 0.76923077,\n",
       "         0.84615385, 0.84615385, 0.76923077, 0.76923077, 0.76923077,\n",
       "         0.84615385, 0.92307692, 0.76923077, 0.76923077, 0.76923077,\n",
       "         0.84615385, 0.76923077, 0.92307692, 0.84615385, 0.84615385,\n",
       "         0.92307692, 0.84615385, 0.69230769, 0.84615385, 0.76923077,\n",
       "         0.84615385, 0.84615385, 0.84615385, 0.92307692, 0.84615385,\n",
       "         0.76923077, 0.84615385, 0.84615385, 0.84615385, 0.76923077,\n",
       "         0.84615385, 0.76923077, 0.76923077, 0.76923077, 0.76923077,\n",
       "         0.76923077, 0.76923077, 0.76923077, 0.84615385, 0.92307692,\n",
       "         0.69230769, 0.76923077, 0.76923077, 0.84615385, 0.84615385,\n",
       "         0.76923077, 0.76923077, 0.84615385, 0.76923077, 0.76923077,\n",
       "         0.76923077, 0.76923077, 0.76923077, 0.84615385, 0.76923077,\n",
       "         0.84615385, 0.76923077, 0.76923077, 0.84615385, 0.76923077,\n",
       "         0.84615385, 0.76923077, 0.84615385, 0.84615385, 0.76923077,\n",
       "         0.84615385, 0.76923077, 0.76923077, 0.84615385, 0.84615385,\n",
       "         0.76923077, 0.84615385, 0.84615385, 0.84615385, 0.84615385,\n",
       "         0.76923077, 0.84615385, 0.84615385, 0.84615385, 0.84615385,\n",
       "         0.76923077, 0.84615385, 0.69230769, 0.76923077, 0.76923077,\n",
       "         0.76923077, 0.84615385, 0.84615385, 0.76923077, 0.84615385,\n",
       "         0.76923077, 0.76923077, 0.84615385, 0.76923077, 0.84615385,\n",
       "         0.84615385, 0.84615385, 0.76923077, 0.76923077, 0.76923077,\n",
       "         0.76923077, 0.76923077, 0.92307692, 0.76923077, 0.76923077,\n",
       "         0.76923077, 0.84615385, 0.76923077, 0.84615385, 0.84615385,\n",
       "         0.76923077, 0.84615385, 0.76923077, 0.84615385, 0.76923077,\n",
       "         0.76923077, 0.76923077, 0.76923077, 0.84615385, 0.84615385,\n",
       "         0.84615385, 0.76923077, 0.76923077, 0.76923077, 0.76923077,\n",
       "         0.76923077, 0.76923077, 0.76923077, 0.84615385, 0.76923077,\n",
       "         0.76923077, 0.76923077, 0.76923077, 0.84615385, 0.84615385,\n",
       "         0.84615385, 0.84615385, 0.76923077, 0.84615385, 0.76923077,\n",
       "         0.76923077, 0.84615385, 0.76923077, 0.76923077, 0.84615385,\n",
       "         0.84615385, 0.76923077, 0.76923077, 0.76923077, 0.84615385,\n",
       "         0.84615385, 0.76923077, 0.76923077, 0.84615385, 0.76923077,\n",
       "         0.76923077, 0.76923077, 0.76923077, 0.76923077, 0.84615385,\n",
       "         0.84615385, 0.76923077, 0.84615385, 0.84615385, 0.76923077,\n",
       "         0.84615385, 0.84615385, 0.84615385, 0.84615385, 0.92307692,\n",
       "         0.84615385, 0.76923077, 0.76923077, 0.84615385, 0.92307692,\n",
       "         0.76923077, 0.84615385, 0.76923077, 0.84615385, 0.76923077,\n",
       "         0.84615385, 0.84615385]),\n",
       "  'split4_test_score': array([1.        , 1.        , 1.        , 1.        , 1.        ,\n",
       "         1.        , 1.        , 1.        , 1.        , 1.        ,\n",
       "         1.        , 1.        , 1.        , 1.        , 1.        ,\n",
       "         1.        , 1.        , 1.        , 1.        , 1.        ,\n",
       "         1.        , 1.        , 1.        , 1.        , 1.        ,\n",
       "         1.        , 1.        , 1.        , 1.        , 1.        ,\n",
       "         1.        , 1.        , 1.        , 1.        , 1.        ,\n",
       "         1.        , 1.        , 1.        , 1.        , 1.        ,\n",
       "         1.        , 1.        , 1.        , 1.        , 1.        ,\n",
       "         1.        , 1.        , 1.        , 1.        , 0.92307692,\n",
       "         1.        , 1.        , 1.        , 1.        , 1.        ,\n",
       "         1.        , 1.        , 1.        , 1.        , 1.        ,\n",
       "         1.        , 1.        , 1.        , 1.        , 1.        ,\n",
       "         1.        , 1.        , 1.        , 1.        , 1.        ,\n",
       "         1.        , 1.        , 1.        , 0.92307692, 1.        ,\n",
       "         1.        , 1.        , 1.        , 1.        , 1.        ,\n",
       "         1.        , 0.92307692, 1.        , 1.        , 1.        ,\n",
       "         1.        , 1.        , 1.        , 1.        , 1.        ,\n",
       "         1.        , 1.        , 1.        , 1.        , 1.        ,\n",
       "         1.        , 1.        , 1.        , 1.        , 1.        ,\n",
       "         1.        , 1.        , 1.        , 1.        , 1.        ,\n",
       "         1.        , 1.        , 1.        , 1.        , 1.        ,\n",
       "         1.        , 1.        , 1.        , 1.        , 1.        ,\n",
       "         1.        , 1.        , 1.        , 1.        , 1.        ,\n",
       "         0.92307692, 1.        , 1.        , 1.        , 1.        ,\n",
       "         1.        , 1.        , 1.        , 0.92307692, 0.92307692,\n",
       "         1.        , 1.        , 1.        , 1.        , 1.        ,\n",
       "         1.        , 1.        , 0.92307692, 1.        , 1.        ,\n",
       "         1.        , 1.        , 1.        , 1.        , 1.        ,\n",
       "         1.        , 0.92307692, 1.        , 0.92307692, 1.        ,\n",
       "         1.        , 1.        , 0.92307692, 0.92307692, 1.        ,\n",
       "         1.        , 1.        , 1.        , 1.        , 1.        ,\n",
       "         1.        , 1.        , 1.        , 1.        , 1.        ,\n",
       "         1.        , 1.        , 1.        , 1.        , 1.        ,\n",
       "         1.        , 1.        , 1.        , 1.        , 1.        ,\n",
       "         1.        , 0.92307692, 1.        , 1.        , 1.        ,\n",
       "         1.        , 1.        , 1.        , 1.        , 1.        ,\n",
       "         1.        , 1.        , 1.        , 1.        , 1.        ,\n",
       "         1.        , 1.        ]),\n",
       "  'mean_test_score': array([0.82089552, 0.8358209 , 0.8358209 , 0.8358209 , 0.82089552,\n",
       "         0.8358209 , 0.85074627, 0.85074627, 0.8358209 , 0.8358209 ,\n",
       "         0.8358209 , 0.85074627, 0.8358209 , 0.8358209 , 0.8358209 ,\n",
       "         0.8358209 , 0.86567164, 0.8358209 , 0.85074627, 0.8358209 ,\n",
       "         0.85074627, 0.8358209 , 0.86567164, 0.8358209 , 0.88059701,\n",
       "         0.88059701, 0.8358209 , 0.80597015, 0.86567164, 0.82089552,\n",
       "         0.85074627, 0.85074627, 0.86567164, 0.86567164, 0.85074627,\n",
       "         0.8358209 , 0.8358209 , 0.85074627, 0.8358209 , 0.85074627,\n",
       "         0.86567164, 0.8358209 , 0.8358209 , 0.82089552, 0.8358209 ,\n",
       "         0.82089552, 0.8358209 , 0.82089552, 0.86567164, 0.8358209 ,\n",
       "         0.79104478, 0.8358209 , 0.8358209 , 0.85074627, 0.8358209 ,\n",
       "         0.82089552, 0.82089552, 0.8358209 , 0.8358209 , 0.85074627,\n",
       "         0.8358209 , 0.80597015, 0.82089552, 0.85074627, 0.85074627,\n",
       "         0.85074627, 0.80597015, 0.82089552, 0.8358209 , 0.82089552,\n",
       "         0.8358209 , 0.8358209 , 0.82089552, 0.85074627, 0.82089552,\n",
       "         0.82089552, 0.82089552, 0.82089552, 0.85074627, 0.85074627,\n",
       "         0.82089552, 0.82089552, 0.85074627, 0.85074627, 0.8358209 ,\n",
       "         0.85074627, 0.8358209 , 0.85074627, 0.8358209 , 0.8358209 ,\n",
       "         0.8358209 , 0.85074627, 0.79104478, 0.8358209 , 0.82089552,\n",
       "         0.82089552, 0.8358209 , 0.85074627, 0.82089552, 0.82089552,\n",
       "         0.80597015, 0.82089552, 0.82089552, 0.80597015, 0.8358209 ,\n",
       "         0.85074627, 0.85074627, 0.82089552, 0.80597015, 0.8358209 ,\n",
       "         0.85074627, 0.82089552, 0.86567164, 0.8358209 , 0.8358209 ,\n",
       "         0.80597015, 0.80597015, 0.82089552, 0.8358209 , 0.85074627,\n",
       "         0.79104478, 0.86567164, 0.82089552, 0.8358209 , 0.82089552,\n",
       "         0.82089552, 0.82089552, 0.82089552, 0.80597015, 0.85074627,\n",
       "         0.85074627, 0.80597015, 0.8358209 , 0.82089552, 0.79104478,\n",
       "         0.82089552, 0.82089552, 0.82089552, 0.8358209 , 0.8358209 ,\n",
       "         0.80597015, 0.82089552, 0.8358209 , 0.8358209 , 0.82089552,\n",
       "         0.85074627, 0.80597015, 0.82089552, 0.85074627, 0.82089552,\n",
       "         0.8358209 , 0.82089552, 0.79104478, 0.80597015, 0.82089552,\n",
       "         0.8358209 , 0.8358209 , 0.82089552, 0.8358209 , 0.82089552,\n",
       "         0.85074627, 0.8358209 , 0.8358209 , 0.82089552, 0.82089552,\n",
       "         0.85074627, 0.85074627, 0.85074627, 0.8358209 , 0.85074627,\n",
       "         0.86567164, 0.85074627, 0.8358209 , 0.8358209 , 0.82089552,\n",
       "         0.8358209 , 0.82089552, 0.85074627, 0.80597015, 0.8358209 ,\n",
       "         0.85074627, 0.82089552, 0.82089552, 0.82089552, 0.88059701,\n",
       "         0.8358209 , 0.82089552, 0.8358209 , 0.8358209 , 0.82089552,\n",
       "         0.85074627, 0.8358209 ]),\n",
       "  'std_test_score': array([0.11047923, 0.08461891, 0.09424711, 0.08461891, 0.09746492,\n",
       "         0.09639791, 0.07808927, 0.07808927, 0.09639791, 0.08461891,\n",
       "         0.09424711, 0.09072007, 0.08461891, 0.08461891, 0.08461891,\n",
       "         0.09424711, 0.08298305, 0.08461891, 0.080672  , 0.09639791,\n",
       "         0.07808927, 0.08461891, 0.08298305, 0.09424711, 0.07475796,\n",
       "         0.07309398, 0.09424711, 0.1093937 , 0.07071076, 0.09746492,\n",
       "         0.07808927, 0.07808927, 0.07071076, 0.08298305, 0.07808927,\n",
       "         0.08461891, 0.09424711, 0.07808927, 0.09424711, 0.080672  ,\n",
       "         0.07071076, 0.08461891, 0.08461891, 0.09746492, 0.09639791,\n",
       "         0.09746492, 0.08461891, 0.09746492, 0.07071076, 0.08115607,\n",
       "         0.11582299, 0.08461891, 0.08461891, 0.07808927, 0.09424711,\n",
       "         0.09746492, 0.09746492, 0.09424711, 0.08461891, 0.080672  ,\n",
       "         0.08461891, 0.10673766, 0.09746492, 0.07808927, 0.080672  ,\n",
       "         0.07808927, 0.10673766, 0.09746492, 0.09424711, 0.09746492,\n",
       "         0.09424711, 0.08461891, 0.10593191, 0.04376699, 0.09746492,\n",
       "         0.1155585 , 0.09746492, 0.09746492, 0.07808927, 0.07808927,\n",
       "         0.09746492, 0.0700499 , 0.07808927, 0.07808927, 0.09424711,\n",
       "         0.080672  , 0.09424711, 0.07808927, 0.09424711, 0.09424711,\n",
       "         0.08461891, 0.07808927, 0.12468826, 0.08461891, 0.09746492,\n",
       "         0.09746492, 0.08461891, 0.07808927, 0.09746492, 0.1155585 ,\n",
       "         0.11629757, 0.09746492, 0.1155585 , 0.11629757, 0.09424711,\n",
       "         0.07808927, 0.07808927, 0.09746492, 0.11629757, 0.08461891,\n",
       "         0.080672  , 0.09746492, 0.09496516, 0.08461891, 0.08461891,\n",
       "         0.11629757, 0.12347989, 0.09746492, 0.09424711, 0.07808927,\n",
       "         0.08078572, 0.07071076, 0.09746492, 0.09424711, 0.09746492,\n",
       "         0.09746492, 0.09746492, 0.09746492, 0.09451297, 0.04376699,\n",
       "         0.07808927, 0.11629757, 0.08461891, 0.09746492, 0.12236466,\n",
       "         0.09746492, 0.09746492, 0.0564343 , 0.09424711, 0.08461891,\n",
       "         0.11629757, 0.09746492, 0.08461891, 0.09424711, 0.1155585 ,\n",
       "         0.07808927, 0.08246518, 0.09746492, 0.04376699, 0.09746492,\n",
       "         0.08461891, 0.1155585 , 0.08078572, 0.07126253, 0.1155585 ,\n",
       "         0.09424711, 0.08461891, 0.09746492, 0.08461891, 0.1155585 ,\n",
       "         0.07808927, 0.08461891, 0.08461891, 0.1155585 , 0.09746492,\n",
       "         0.080672  , 0.080672  , 0.080672  , 0.08461891, 0.07808927,\n",
       "         0.07071076, 0.080672  , 0.09424711, 0.09424711, 0.09746492,\n",
       "         0.09424711, 0.0700499 , 0.07808927, 0.12347989, 0.12260948,\n",
       "         0.07808927, 0.09746492, 0.09746492, 0.1155585 , 0.07309398,\n",
       "         0.08461891, 0.10593191, 0.08461891, 0.09424711, 0.09746492,\n",
       "         0.07808927, 0.09424711]),\n",
       "  'rank_test_score': array([121,  55,  55,  55, 121,  55,  14,  14,  55,  55,  55,  14,  55,\n",
       "          55,  55,  55,   4,  55,  14,  55,  14,  55,   4,  55,   1,   1,\n",
       "          55, 174,   4, 121,  14,  14,   4,   4,  14,  55,  55,  14,  55,\n",
       "          14,   4,  55,  55, 121,  55, 121,  55, 121,   4,  55, 188,  55,\n",
       "          55,  14,  55, 121, 121,  55,  55,  14,  55, 174, 121,  14,  14,\n",
       "          14, 174, 121,  55, 121,  55,  55, 121,  14, 121, 121, 121, 121,\n",
       "          14,  14, 121, 121,  14,  14,  55,  14,  55,  14,  55,  55,  55,\n",
       "          14, 188,  55, 121, 121,  55,  14, 121, 121, 174, 121, 121, 174,\n",
       "          55,  14,  14, 121, 174,  55,  14, 121,   4,  55,  55, 174, 174,\n",
       "         121,  55,  14, 188,   4, 121,  55, 121, 121, 121, 121, 174,  14,\n",
       "          14, 174,  55, 121, 188, 121, 121, 121,  55,  55, 174, 121,  55,\n",
       "          55, 121,  14, 174, 121,  14, 121,  55, 121, 188, 174, 121,  55,\n",
       "          55, 121,  55, 121,  14,  55,  55, 121, 121,  14,  14,  14,  55,\n",
       "          14,   4,  14,  55,  55, 121,  55, 121,  14, 174,  55,  14, 121,\n",
       "         121, 121,   1,  55, 121,  55,  55, 121,  14,  55])},\n",
       " {'max_depth': 3, 'max_features': 'auto', 'n_estimators': 20},\n",
       " 0.8805970149253731)"
      ]
     },
     "execution_count": 77,
     "metadata": {},
     "output_type": "execute_result"
    }
   ],
   "source": [
    "ggrid.cv_results_, ggrid.best_params_, ggrid.best_score_"
   ]
  },
  {
   "cell_type": "code",
   "execution_count": 82,
   "metadata": {},
   "outputs": [],
   "source": [
    "final_results = cross_validate(ggrid.best_estimator_, x_train, y_train, return_train_score=True, cv=5)"
   ]
  },
  {
   "cell_type": "code",
   "execution_count": 83,
   "metadata": {},
   "outputs": [
    {
     "name": "stdout",
     "output_type": "stream",
     "text": [
      "0.9516422082459819\n",
      "0.823076923076923\n"
     ]
    }
   ],
   "source": [
    "test_scores = final_results[\"test_score\"]\n",
    "train_scores = final_results[\"train_score\"]\n",
    "print(np.mean(train_scores))\n",
    "print(np.mean(test_scores))"
   ]
  },
  {
   "cell_type": "code",
   "execution_count": 90,
   "metadata": {},
   "outputs": [],
   "source": [
    "final_estimator = RandomForestClassifier(max_depth=3,\n",
    "                                        max_features=\"auto\",\n",
    "                                        n_estimators=20)"
   ]
  },
  {
   "cell_type": "code",
   "execution_count": 91,
   "metadata": {},
   "outputs": [
    {
     "data": {
      "text/plain": [
       "RandomForestClassifier(bootstrap=True, class_weight=None, criterion='gini',\n",
       "                       max_depth=3, max_features='auto', max_leaf_nodes=None,\n",
       "                       min_impurity_decrease=0.0, min_impurity_split=None,\n",
       "                       min_samples_leaf=1, min_samples_split=2,\n",
       "                       min_weight_fraction_leaf=0.0, n_estimators=20,\n",
       "                       n_jobs=None, oob_score=False, random_state=None,\n",
       "                       verbose=0, warm_start=False)"
      ]
     },
     "execution_count": 91,
     "metadata": {},
     "output_type": "execute_result"
    }
   ],
   "source": [
    "final_estimator.fit(x_train, y_train)"
   ]
  },
  {
   "cell_type": "code",
   "execution_count": 92,
   "metadata": {},
   "outputs": [
    {
     "data": {
      "text/plain": [
       "0.6060606060606061"
      ]
     },
     "execution_count": 92,
     "metadata": {},
     "output_type": "execute_result"
    }
   ],
   "source": [
    "final_estimator.score(x_test, y_test)"
   ]
  },
  {
   "cell_type": "markdown",
   "metadata": {},
   "source": [
    "## The choosed model is complex and overfit the data"
   ]
  }
 ],
 "metadata": {
  "kernelspec": {
   "display_name": "Python 3",
   "language": "python",
   "name": "python3"
  },
  "language_info": {
   "codemirror_mode": {
    "name": "ipython",
    "version": 3
   },
   "file_extension": ".py",
   "mimetype": "text/x-python",
   "name": "python",
   "nbconvert_exporter": "python",
   "pygments_lexer": "ipython3",
   "version": "3.7.4"
  }
 },
 "nbformat": 4,
 "nbformat_minor": 2
}
