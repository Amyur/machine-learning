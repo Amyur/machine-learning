{
 "cells": [
  {
   "cell_type": "markdown",
   "metadata": {},
   "source": [
    "# Extract the data"
   ]
  },
  {
   "cell_type": "code",
   "execution_count": 1,
   "metadata": {},
   "outputs": [],
   "source": [
    "import bs4\n",
    "import requests\n",
    "import pandas as pd"
   ]
  },
  {
   "cell_type": "code",
   "execution_count": 2,
   "metadata": {},
   "outputs": [],
   "source": [
    "responses = []\n",
    "for i in range(10, 710, 5):\n",
    "    response = requests.get(\"https://www.tripadvisor.co/Hotel_Review-g297473-d7213603-Reviews-or{}-Hotel_Four_Points_By_Sheraton_Barranquilla-Barranquilla_Atlantico_Department.html#REVIEWS\".format(i))\n",
    "    responses.append(response)"
   ]
  },
  {
   "cell_type": "code",
   "execution_count": 3,
   "metadata": {},
   "outputs": [],
   "source": [
    "soups = []\n",
    "for i in range(len(responses)):\n",
    "    soup = bs4.BeautifulSoup(responses[i].text, \"html.parser\")\n",
    "    soups.append(soup)"
   ]
  },
  {
   "cell_type": "code",
   "execution_count": 5,
   "metadata": {},
   "outputs": [],
   "source": [
    "reviews = []\n",
    "for i in range(len(soups)):\n",
    "    rev = soups[i].select(\"q span\")\n",
    "    for review in rev:\n",
    "        reviews.append(review.text)"
   ]
  },
  {
   "cell_type": "code",
   "execution_count": 17,
   "metadata": {},
   "outputs": [],
   "source": [
    "to_serie = pd.Series(reviews)"
   ]
  },
  {
   "cell_type": "code",
   "execution_count": 20,
   "metadata": {},
   "outputs": [],
   "source": [
    "to_serie.to_csv(\"reviews.csv\", encoding='utf-8-sig')"
   ]
  },
  {
   "cell_type": "markdown",
   "metadata": {},
   "source": [
    "# Analyse the data"
   ]
  },
  {
   "cell_type": "code",
   "execution_count": 127,
   "metadata": {},
   "outputs": [],
   "source": [
    "import nltk\n",
    "import re\n",
    "from nltk.corpus import stopwords"
   ]
  },
  {
   "cell_type": "code",
   "execution_count": 88,
   "metadata": {},
   "outputs": [],
   "source": [
    "df = pd.read_csv(\"reviews.csv\")"
   ]
  },
  {
   "cell_type": "code",
   "execution_count": 89,
   "metadata": {},
   "outputs": [],
   "source": [
    "df.columns = [\"idx\", \"review\"]"
   ]
  },
  {
   "cell_type": "code",
   "execution_count": 132,
   "metadata": {},
   "outputs": [],
   "source": [
    "stoplist = stopwords.words(\"spanish\")\n",
    "\n",
    "def cleaning(text):\n",
    "    text = (text.apply(lambda text: re.sub(r\"[!\\#$%&\\(\\)=\\\\?¨\\[_:,;.\\]]\",\"\", text))\n",
    "                .map(lambda text: text.lower())\n",
    "                .map(lambda text: re.sub(r\"\\s+\",\" \", text))\n",
    "                .map(lambda text: \" \".join([i for i in text.split() if (i not in stoplist) and (len(i) > 2)])))\n",
    "    return(text)"
   ]
  },
  {
   "cell_type": "code",
   "execution_count": 133,
   "metadata": {},
   "outputs": [],
   "source": [
    "text = cleaning(df.review)"
   ]
  },
  {
   "cell_type": "code",
   "execution_count": 129,
   "metadata": {},
   "outputs": [
    {
     "data": {
      "text/plain": [
       "0      primero personal hotel atento llegada robaron ...\n",
       "1      parecio excelente hotel estadia internet unico...\n",
       "2      excelente atencion momento llegamos hotel amab...\n",
       "3      estadía términos generales buena inconveniente...\n",
       "4      mejor hotel calidez amabilidad personal hacen ...\n",
       "                             ...                        \n",
       "714    hotel duda mejores colombia estancia principio...\n",
       "715                                                     \n",
       "716    hotel completamente nuevo relación calidad-pre...\n",
       "717    considerando hoteles marriott barranquilla ele...\n",
       "718    hotel situado corazón barranquilla cerca mejor...\n",
       "Name: review, Length: 719, dtype: object"
      ]
     },
     "execution_count": 129,
     "metadata": {},
     "output_type": "execute_result"
    }
   ],
   "source": [
    "for i in range(text):\n",
    "    freq_dist = nltk.FreqDist(tokens)\n",
    "    "
   ]
  },
  {
   "cell_type": "code",
   "execution_count": null,
   "metadata": {},
   "outputs": [],
   "source": []
  },
  {
   "cell_type": "code",
   "execution_count": null,
   "metadata": {},
   "outputs": [],
   "source": []
  }
 ],
 "metadata": {
  "kernelspec": {
   "display_name": "Python 3",
   "language": "python",
   "name": "python3"
  },
  "language_info": {
   "codemirror_mode": {
    "name": "ipython",
    "version": 3
   },
   "file_extension": ".py",
   "mimetype": "text/x-python",
   "name": "python",
   "nbconvert_exporter": "python",
   "pygments_lexer": "ipython3",
   "version": "3.7.6"
  }
 },
 "nbformat": 4,
 "nbformat_minor": 4
}
